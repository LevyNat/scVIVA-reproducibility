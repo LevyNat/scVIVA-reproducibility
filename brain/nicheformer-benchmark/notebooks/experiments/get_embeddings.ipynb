{
 "cells": [
  {
   "cell_type": "markdown",
   "metadata": {},
   "source": [
    "# Extract Embeddings from Pre-trained Nicheformer Model\n",
    "\n",
    "This notebook extracts embeddings from a pre-trained Nicheformer model and stores them in an AnnData object."
   ]
  },
  {
   "cell_type": "code",
   "execution_count": 1,
   "metadata": {},
   "outputs": [],
   "source": [
    "#make autoreload\n",
    "\n",
    "%load_ext autoreload\n",
    "%autoreload 2"
   ]
  },
  {
   "cell_type": "code",
   "execution_count": 2,
   "metadata": {},
   "outputs": [],
   "source": [
    "import os\n",
    "from typing import Any, Dict, Optional\n",
    "\n",
    "import anndata as ad\n",
    "import numpy as np\n",
    "import pytorch_lightning as pl\n",
    "import torch\n",
    "from rich import print\n",
    "from torch.utils.data import DataLoader\n",
    "from tqdm import tqdm\n",
    "\n",
    "from nicheformer.data import NicheformerDataset\n",
    "from nicheformer.models import Nicheformer"
   ]
  },
  {
   "cell_type": "code",
   "execution_count": 3,
   "metadata": {},
   "outputs": [
    {
     "data": {
      "text/plain": [
       "AnnData object with n_obs × n_vars = 250790 × 20310\n",
       "    obs: 'soma_joinid', 'is_primary_data', 'dataset_id', 'donor_id', 'assay', 'cell_type', 'development_stage', 'disease', 'tissue', 'tissue_general', 'specie', 'technology', 'dataset', 'x', 'y', 'assay_ontology_term_id', 'sex_ontology_term_id', 'organism_ontology_term_id', 'tissue_ontology_term_id', 'suspension_type', 'condition_id', 'tissue_type', 'library_key', 'organism', 'sex', 'niche', 'region', 'nicheformer_split', 'author_cell_type', 'batch', 'modality'\n",
       "    layers: 'counts'"
      ]
     },
     "execution_count": 3,
     "metadata": {},
     "output_type": "execute_result"
    }
   ],
   "source": [
    "adata_nicheformer_check = ad.read_h5ad(\"/home/labs/nyosef/nathanl/nicheformer-benchmark/data/adata_M1_M2_core_6_sections_nicheformer.h5ad\")\n",
    "adata_nicheformer_check"
   ]
  },
  {
   "cell_type": "code",
   "execution_count": 8,
   "metadata": {},
   "outputs": [
    {
     "data": {
      "text/plain": [
       "99119258951401284221813451836785008968-0     6\n",
       "95610536408155075407048305276227824006-0     6\n",
       "94627996433995692958551448758698866723-0     6\n",
       "10618021078266319649091845116122351158-0     6\n",
       "89038554173344823793949504602728291142-0     6\n",
       "                                            ..\n",
       "198804031042921944377635730961789487507-1    6\n",
       "156934588469937564968781740624428245657-1    6\n",
       "155321557493369021799199720361468240742-1    6\n",
       "24226418575755266420023086883481701930-1     6\n",
       "308372198820486739554187228970484789236-1    6\n",
       "Name: specie, Length: 250790, dtype: int64"
      ]
     },
     "execution_count": 8,
     "metadata": {},
     "output_type": "execute_result"
    }
   ],
   "source": [
    "# adata_nicheformer_check.obs[\"modality\"] \n",
    "adata_nicheformer_check.obs[\"specie\"]\n",
    "# adata_nicheformer_check.obs[\"technology\"] "
   ]
  },
  {
   "cell_type": "code",
   "execution_count": 11,
   "metadata": {},
   "outputs": [
    {
     "data": {
      "text/plain": [
       "5.591953754425049"
      ]
     },
     "execution_count": 11,
     "metadata": {},
     "output_type": "execute_result"
    }
   ],
   "source": [
    "adata_nicheformer_check.X[0].toarray().max()"
   ]
  },
  {
   "cell_type": "markdown",
   "metadata": {},
   "source": [
    "## Configuration\n",
    "\n",
    "Set up the configuration parameters for the embedding extraction."
   ]
  },
  {
   "cell_type": "code",
   "execution_count": 60,
   "metadata": {},
   "outputs": [],
   "source": [
    "config = {\n",
    "    \"data_path\": \"/home/nathanlevy/sda/Data/adata_M1_M2_core_6_sections.h5ad\",  #'path/to/your/data.h5ad',  # Path to your AnnData file\n",
    "    \"technology_mean_path\": \"/home/nathanlevy/sda/nicheformer/data/model_means/merfish_mean_script.npy\",  #'path/to/technology_mean.npy',  # Path to technology mean file\n",
    "    \"checkpoint_path\": \"/home/nathanlevy/sda/nicheformer/nicheformer.ckpt\",  # Path to model checkpoint\n",
    "    \"output_path\": \"data_with_embeddings.h5ad\",  # Where to save the result, it is a new h5ad\n",
    "    \"output_dir\": \".\",  # Directory for any intermediate outputs\n",
    "    \"batch_size\": 32,\n",
    "    \"max_seq_len\": 1500,\n",
    "    \"aux_tokens\": 30,\n",
    "    \"chunk_size\": 1000,  # to prevent OOM\n",
    "    \"num_workers\": 4,\n",
    "    \"precision\": 32,\n",
    "    \"embedding_layer\": -1,  # Which layer to extract embeddings from (-1 for last layer)\n",
    "    \"embedding_name\": \"embeddings\",  # Name suffix for the embedding key in adata.obsm\n",
    "}"
   ]
  },
  {
   "cell_type": "markdown",
   "metadata": {},
   "source": [
    "## Load Data and Create Dataset"
   ]
  },
  {
   "cell_type": "code",
   "execution_count": 61,
   "metadata": {},
   "outputs": [
    {
     "data": {
      "text/plain": [
       "AnnData object with n_obs × n_vars = 1 × 20310\n",
       "    obs: 'soma_joinid', 'is_primary_data', 'dataset_id', 'donor_id', 'assay', 'cell_type', 'development_stage', 'disease', 'tissue', 'tissue_general', 'specie', 'technology', 'dataset', 'x', 'y', 'assay_ontology_term_id', 'sex_ontology_term_id', 'organism_ontology_term_id', 'tissue_ontology_term_id', 'suspension_type', 'condition_id', 'tissue_type', 'library_key', 'organism', 'sex', 'niche', 'region', 'nicheformer_split', 'author_cell_type', 'batch'"
      ]
     },
     "execution_count": 61,
     "metadata": {},
     "output_type": "execute_result"
    }
   ],
   "source": [
    "adata_nicheformer = ad.read_h5ad(\"/home/nathanlevy/sda/nicheformer/data/model_means/model.h5ad\")\n",
    "adata_nicheformer"
   ]
  },
  {
   "cell_type": "code",
   "execution_count": 62,
   "metadata": {},
   "outputs": [
    {
     "data": {
      "text/plain": [
       "['ENSG00000000003',\n",
       " 'ENSG00000000005',\n",
       " 'ENSG00000000419',\n",
       " 'ENSG00000000457',\n",
       " 'ENSG00000000460',\n",
       " 'ENSG00000000938',\n",
       " 'ENSG00000000971',\n",
       " 'ENSG00000001036',\n",
       " 'ENSG00000001084',\n",
       " 'ENSG00000001167',\n",
       " 'ENSG00000001460',\n",
       " 'ENSG00000001461',\n",
       " 'ENSG00000001497',\n",
       " 'ENSG00000001561',\n",
       " 'ENSG00000001617',\n",
       " 'ENSG00000001626',\n",
       " 'ENSG00000001629',\n",
       " 'ENSG00000001630',\n",
       " 'ENSG00000001631',\n",
       " 'ENSG00000002016',\n",
       " 'ENSG00000002330',\n",
       " 'ENSG00000002549',\n",
       " 'ENSG00000002586',\n",
       " 'ENSG00000002587',\n",
       " 'ENSG00000002726',\n",
       " 'ENSG00000002745',\n",
       " 'ENSG00000002746',\n",
       " 'ENSG00000002822',\n",
       " 'ENSG00000002834',\n",
       " 'ENSG00000002919',\n",
       " 'ENSG00000002933',\n",
       " 'ENSG00000003056',\n",
       " 'ENSG00000003096',\n",
       " 'ENSG00000003137',\n",
       " 'ENSG00000003147',\n",
       " 'ENSG00000003249',\n",
       " 'ENSG00000003393',\n",
       " 'ENSG00000003400',\n",
       " 'ENSG00000003402',\n",
       " 'ENSG00000003436',\n",
       " 'ENSG00000003509',\n",
       " 'ENSG00000003756',\n",
       " 'ENSG00000003987',\n",
       " 'ENSG00000003989',\n",
       " 'ENSG00000004059',\n",
       " 'ENSG00000004139',\n",
       " 'ENSG00000004142',\n",
       " 'ENSG00000004399',\n",
       " 'ENSG00000004455',\n",
       " 'ENSG00000004468',\n",
       " 'ENSG00000004478',\n",
       " 'ENSG00000004487',\n",
       " 'ENSG00000004534',\n",
       " 'ENSG00000004660',\n",
       " 'ENSG00000004700',\n",
       " 'ENSG00000004766',\n",
       " 'ENSG00000004776',\n",
       " 'ENSG00000004777',\n",
       " 'ENSG00000004779',\n",
       " 'ENSG00000004799',\n",
       " 'ENSG00000004809',\n",
       " 'ENSG00000004838',\n",
       " 'ENSG00000004846',\n",
       " 'ENSG00000004848',\n",
       " 'ENSG00000004864',\n",
       " 'ENSG00000004866',\n",
       " 'ENSG00000004897',\n",
       " 'ENSG00000004939',\n",
       " 'ENSG00000004948',\n",
       " 'ENSG00000004961',\n",
       " 'ENSG00000004975',\n",
       " 'ENSG00000005001',\n",
       " 'ENSG00000005007',\n",
       " 'ENSG00000005020',\n",
       " 'ENSG00000005022',\n",
       " 'ENSG00000005059',\n",
       " 'ENSG00000005073',\n",
       " 'ENSG00000005075',\n",
       " 'ENSG00000005100',\n",
       " 'ENSG00000005102',\n",
       " 'ENSG00000005108',\n",
       " 'ENSG00000005156',\n",
       " 'ENSG00000005175',\n",
       " 'ENSG00000005187',\n",
       " 'ENSG00000005189',\n",
       " 'ENSG00000005194',\n",
       " 'ENSG00000005206',\n",
       " 'ENSG00000005238',\n",
       " 'ENSG00000005243',\n",
       " 'ENSG00000005249',\n",
       " 'ENSG00000005302',\n",
       " 'ENSG00000005339',\n",
       " 'ENSG00000005379',\n",
       " 'ENSG00000005381',\n",
       " 'ENSG00000005421',\n",
       " 'ENSG00000005436',\n",
       " 'ENSG00000005448',\n",
       " 'ENSG00000005469',\n",
       " 'ENSG00000005471',\n",
       " 'ENSG00000005483',\n",
       " 'ENSG00000005486',\n",
       " 'ENSG00000005513',\n",
       " 'ENSG00000005700',\n",
       " 'ENSG00000005801',\n",
       " 'ENSG00000005810',\n",
       " 'ENSG00000005812',\n",
       " 'ENSG00000005844',\n",
       " 'ENSG00000005882',\n",
       " 'ENSG00000005884',\n",
       " 'ENSG00000005889',\n",
       " 'ENSG00000005893',\n",
       " 'ENSG00000005961',\n",
       " 'ENSG00000005981',\n",
       " 'ENSG00000006007',\n",
       " 'ENSG00000006015',\n",
       " 'ENSG00000006016',\n",
       " 'ENSG00000006025',\n",
       " 'ENSG00000006042',\n",
       " 'ENSG00000006047',\n",
       " 'ENSG00000006059',\n",
       " 'ENSG00000006062',\n",
       " 'ENSG00000006071',\n",
       " 'ENSG00000006116',\n",
       " 'ENSG00000006118',\n",
       " 'ENSG00000006125',\n",
       " 'ENSG00000006128',\n",
       " 'ENSG00000006194',\n",
       " 'ENSG00000006210',\n",
       " 'ENSG00000006282',\n",
       " 'ENSG00000006283',\n",
       " 'ENSG00000006327',\n",
       " 'ENSG00000006377',\n",
       " 'ENSG00000006432',\n",
       " 'ENSG00000006451',\n",
       " 'ENSG00000006453',\n",
       " 'ENSG00000006459',\n",
       " 'ENSG00000006468',\n",
       " 'ENSG00000006530',\n",
       " 'ENSG00000006534',\n",
       " 'ENSG00000006555',\n",
       " 'ENSG00000006576',\n",
       " 'ENSG00000006606',\n",
       " 'ENSG00000006607',\n",
       " 'ENSG00000006611',\n",
       " 'ENSG00000006625',\n",
       " 'ENSG00000006634',\n",
       " 'ENSG00000006638',\n",
       " 'ENSG00000006652',\n",
       " 'ENSG00000006659',\n",
       " 'ENSG00000006695',\n",
       " 'ENSG00000006704',\n",
       " 'ENSG00000006712',\n",
       " 'ENSG00000006715',\n",
       " 'ENSG00000006740',\n",
       " 'ENSG00000006744',\n",
       " 'ENSG00000006747',\n",
       " 'ENSG00000006756',\n",
       " 'ENSG00000006757',\n",
       " 'ENSG00000006788',\n",
       " 'ENSG00000006831',\n",
       " 'ENSG00000006837',\n",
       " 'ENSG00000007001',\n",
       " 'ENSG00000007038',\n",
       " 'ENSG00000007047',\n",
       " 'ENSG00000007062',\n",
       " 'ENSG00000007080',\n",
       " 'ENSG00000007129',\n",
       " 'ENSG00000007168',\n",
       " 'ENSG00000007171',\n",
       " 'ENSG00000007174',\n",
       " 'ENSG00000007202',\n",
       " 'ENSG00000007216',\n",
       " 'ENSG00000007237',\n",
       " 'ENSG00000007255',\n",
       " 'ENSG00000007264',\n",
       " 'ENSG00000007306',\n",
       " 'ENSG00000007312',\n",
       " 'ENSG00000007314',\n",
       " 'ENSG00000007341',\n",
       " 'ENSG00000007350',\n",
       " 'ENSG00000007372',\n",
       " 'ENSG00000007376',\n",
       " 'ENSG00000007384',\n",
       " 'ENSG00000007392',\n",
       " 'ENSG00000007402',\n",
       " 'ENSG00000007516',\n",
       " 'ENSG00000007520',\n",
       " 'ENSG00000007541',\n",
       " 'ENSG00000007545',\n",
       " 'ENSG00000007866',\n",
       " 'ENSG00000007908',\n",
       " 'ENSG00000007923',\n",
       " 'ENSG00000007933',\n",
       " 'ENSG00000007944',\n",
       " 'ENSG00000007952',\n",
       " 'ENSG00000007968',\n",
       " 'ENSG00000008018',\n",
       " 'ENSG00000008056',\n",
       " 'ENSG00000008083',\n",
       " 'ENSG00000008086',\n",
       " 'ENSG00000008118',\n",
       " 'ENSG00000008128',\n",
       " 'ENSG00000008130',\n",
       " 'ENSG00000008196',\n",
       " 'ENSG00000008197',\n",
       " 'ENSG00000008226',\n",
       " 'ENSG00000008256',\n",
       " 'ENSG00000008277',\n",
       " 'ENSG00000008282',\n",
       " 'ENSG00000008283',\n",
       " 'ENSG00000008294',\n",
       " 'ENSG00000008300',\n",
       " 'ENSG00000008311',\n",
       " 'ENSG00000008323',\n",
       " 'ENSG00000008324',\n",
       " 'ENSG00000008382',\n",
       " 'ENSG00000008394',\n",
       " 'ENSG00000008405',\n",
       " 'ENSG00000008438',\n",
       " 'ENSG00000008441',\n",
       " 'ENSG00000008513',\n",
       " 'ENSG00000008516',\n",
       " 'ENSG00000008517',\n",
       " 'ENSG00000008710',\n",
       " 'ENSG00000008735',\n",
       " 'ENSG00000008838',\n",
       " 'ENSG00000008853',\n",
       " 'ENSG00000008869',\n",
       " 'ENSG00000008952',\n",
       " 'ENSG00000008988',\n",
       " 'ENSG00000009307',\n",
       " 'ENSG00000009335',\n",
       " 'ENSG00000009413',\n",
       " 'ENSG00000009694',\n",
       " 'ENSG00000009709',\n",
       " 'ENSG00000009724',\n",
       " 'ENSG00000009765',\n",
       " 'ENSG00000009780',\n",
       " 'ENSG00000009790',\n",
       " 'ENSG00000009830',\n",
       " 'ENSG00000009844',\n",
       " 'ENSG00000009950',\n",
       " 'ENSG00000009954',\n",
       " 'ENSG00000010017',\n",
       " 'ENSG00000010030',\n",
       " 'ENSG00000010072',\n",
       " 'ENSG00000010165',\n",
       " 'ENSG00000010219',\n",
       " 'ENSG00000010244',\n",
       " 'ENSG00000010256',\n",
       " 'ENSG00000010270',\n",
       " 'ENSG00000010278',\n",
       " 'ENSG00000010282',\n",
       " 'ENSG00000010292',\n",
       " 'ENSG00000010295',\n",
       " 'ENSG00000010310',\n",
       " 'ENSG00000010318',\n",
       " 'ENSG00000010319',\n",
       " 'ENSG00000010322',\n",
       " 'ENSG00000010327',\n",
       " 'ENSG00000010361',\n",
       " 'ENSG00000010379',\n",
       " 'ENSG00000010404',\n",
       " 'ENSG00000010438',\n",
       " 'ENSG00000010539',\n",
       " 'ENSG00000010610',\n",
       " 'ENSG00000010626',\n",
       " 'ENSG00000010671',\n",
       " 'ENSG00000010704',\n",
       " 'ENSG00000010803',\n",
       " 'ENSG00000010810',\n",
       " 'ENSG00000010818',\n",
       " 'ENSG00000010932',\n",
       " 'ENSG00000011007',\n",
       " 'ENSG00000011009',\n",
       " 'ENSG00000011021',\n",
       " 'ENSG00000011028',\n",
       " 'ENSG00000011052',\n",
       " 'ENSG00000011083',\n",
       " 'ENSG00000011105',\n",
       " 'ENSG00000011114',\n",
       " 'ENSG00000011132',\n",
       " 'ENSG00000011143',\n",
       " 'ENSG00000011198',\n",
       " 'ENSG00000011201',\n",
       " 'ENSG00000011243',\n",
       " 'ENSG00000011258',\n",
       " 'ENSG00000011260',\n",
       " 'ENSG00000011275',\n",
       " 'ENSG00000011295',\n",
       " 'ENSG00000011304',\n",
       " 'ENSG00000011332',\n",
       " 'ENSG00000011347',\n",
       " 'ENSG00000011376',\n",
       " 'ENSG00000011405',\n",
       " 'ENSG00000011422',\n",
       " 'ENSG00000011426',\n",
       " 'ENSG00000011451',\n",
       " 'ENSG00000011454',\n",
       " 'ENSG00000011465',\n",
       " 'ENSG00000011478',\n",
       " 'ENSG00000011485',\n",
       " 'ENSG00000011523',\n",
       " 'ENSG00000011566',\n",
       " 'ENSG00000011590',\n",
       " 'ENSG00000011600',\n",
       " 'ENSG00000011638',\n",
       " 'ENSG00000011677',\n",
       " 'ENSG00000012048',\n",
       " 'ENSG00000012061',\n",
       " 'ENSG00000012124',\n",
       " 'ENSG00000012171',\n",
       " 'ENSG00000012174',\n",
       " 'ENSG00000012211',\n",
       " 'ENSG00000012223',\n",
       " 'ENSG00000012232',\n",
       " 'ENSG00000012504',\n",
       " 'ENSG00000012660',\n",
       " 'ENSG00000012779',\n",
       " 'ENSG00000012817',\n",
       " 'ENSG00000012822',\n",
       " 'ENSG00000012963',\n",
       " 'ENSG00000012983',\n",
       " 'ENSG00000013016',\n",
       " 'ENSG00000013275',\n",
       " 'ENSG00000013288',\n",
       " 'ENSG00000013293',\n",
       " 'ENSG00000013297',\n",
       " 'ENSG00000013306',\n",
       " 'ENSG00000013364',\n",
       " 'ENSG00000013374',\n",
       " 'ENSG00000013375',\n",
       " 'ENSG00000013392',\n",
       " 'ENSG00000013441',\n",
       " 'ENSG00000013503',\n",
       " 'ENSG00000013523',\n",
       " 'ENSG00000013561',\n",
       " 'ENSG00000013563',\n",
       " 'ENSG00000013573',\n",
       " 'ENSG00000013583',\n",
       " 'ENSG00000013588',\n",
       " 'ENSG00000013619',\n",
       " 'ENSG00000013725',\n",
       " 'ENSG00000013810',\n",
       " 'ENSG00000014123',\n",
       " 'ENSG00000014138',\n",
       " 'ENSG00000014164',\n",
       " 'ENSG00000014216',\n",
       " 'ENSG00000014257',\n",
       " 'ENSG00000014641',\n",
       " 'ENSG00000014824',\n",
       " 'ENSG00000014914',\n",
       " 'ENSG00000014919',\n",
       " 'ENSG00000015133',\n",
       " 'ENSG00000015153',\n",
       " 'ENSG00000015171',\n",
       " 'ENSG00000015285',\n",
       " 'ENSG00000015413',\n",
       " 'ENSG00000015475',\n",
       " 'ENSG00000015520',\n",
       " 'ENSG00000015532',\n",
       " 'ENSG00000015568',\n",
       " 'ENSG00000015592',\n",
       " 'ENSG00000015676',\n",
       " 'ENSG00000016082',\n",
       " 'ENSG00000016391',\n",
       " 'ENSG00000016402',\n",
       " 'ENSG00000016490',\n",
       " 'ENSG00000016602',\n",
       " 'ENSG00000016864',\n",
       " 'ENSG00000017260',\n",
       " 'ENSG00000017427',\n",
       " 'ENSG00000017483',\n",
       " 'ENSG00000017797',\n",
       " 'ENSG00000018189',\n",
       " 'ENSG00000018236',\n",
       " 'ENSG00000018280',\n",
       " 'ENSG00000018408',\n",
       " 'ENSG00000018510',\n",
       " 'ENSG00000018610',\n",
       " 'ENSG00000018625',\n",
       " 'ENSG00000018699',\n",
       " 'ENSG00000018869',\n",
       " 'ENSG00000019102',\n",
       " 'ENSG00000019144',\n",
       " 'ENSG00000019169',\n",
       " 'ENSG00000019186',\n",
       " 'ENSG00000019485',\n",
       " 'ENSG00000019505',\n",
       " 'ENSG00000019549',\n",
       " 'ENSG00000019582',\n",
       " 'ENSG00000019991',\n",
       " 'ENSG00000019995',\n",
       " 'ENSG00000020129',\n",
       " 'ENSG00000020181',\n",
       " 'ENSG00000020256',\n",
       " 'ENSG00000020426',\n",
       " 'ENSG00000020577',\n",
       " 'ENSG00000020633',\n",
       " 'ENSG00000020922',\n",
       " 'ENSG00000021300',\n",
       " 'ENSG00000021355',\n",
       " 'ENSG00000021461',\n",
       " 'ENSG00000021488',\n",
       " 'ENSG00000021574',\n",
       " 'ENSG00000021645',\n",
       " 'ENSG00000021762',\n",
       " 'ENSG00000021776',\n",
       " 'ENSG00000021826',\n",
       " 'ENSG00000021852',\n",
       " 'ENSG00000022267',\n",
       " 'ENSG00000022277',\n",
       " 'ENSG00000022355',\n",
       " 'ENSG00000022556',\n",
       " 'ENSG00000022567',\n",
       " 'ENSG00000022840',\n",
       " 'ENSG00000022976',\n",
       " 'ENSG00000023041',\n",
       " 'ENSG00000023171',\n",
       " 'ENSG00000023191',\n",
       " 'ENSG00000023228',\n",
       " 'ENSG00000023287',\n",
       " 'ENSG00000023318',\n",
       " 'ENSG00000023330',\n",
       " 'ENSG00000023445',\n",
       " 'ENSG00000023516',\n",
       " 'ENSG00000023572',\n",
       " 'ENSG00000023608',\n",
       " 'ENSG00000023697',\n",
       " 'ENSG00000023734',\n",
       " 'ENSG00000023839',\n",
       " 'ENSG00000023892',\n",
       " 'ENSG00000023902',\n",
       " 'ENSG00000023909',\n",
       " 'ENSG00000024048',\n",
       " 'ENSG00000024422',\n",
       " 'ENSG00000024526',\n",
       " 'ENSG00000024862',\n",
       " 'ENSG00000025039',\n",
       " 'ENSG00000025156',\n",
       " 'ENSG00000025293',\n",
       " 'ENSG00000025423',\n",
       " 'ENSG00000025434',\n",
       " 'ENSG00000025708',\n",
       " 'ENSG00000025770',\n",
       " 'ENSG00000025772',\n",
       " 'ENSG00000025796',\n",
       " 'ENSG00000025800',\n",
       " 'ENSG00000026025',\n",
       " 'ENSG00000026036',\n",
       " 'ENSG00000026103',\n",
       " 'ENSG00000026297',\n",
       " 'ENSG00000026508',\n",
       " 'ENSG00000026559',\n",
       " 'ENSG00000026652',\n",
       " 'ENSG00000026751',\n",
       " 'ENSG00000026950',\n",
       " 'ENSG00000027001',\n",
       " 'ENSG00000027075',\n",
       " 'ENSG00000027644',\n",
       " 'ENSG00000027697',\n",
       " 'ENSG00000027847',\n",
       " 'ENSG00000027869',\n",
       " 'ENSG00000028116',\n",
       " 'ENSG00000028137',\n",
       " 'ENSG00000028203',\n",
       " 'ENSG00000028277',\n",
       " 'ENSG00000028310',\n",
       " 'ENSG00000028528',\n",
       " 'ENSG00000028839',\n",
       " 'ENSG00000029153',\n",
       " 'ENSG00000029363',\n",
       " 'ENSG00000029364',\n",
       " 'ENSG00000029534',\n",
       " 'ENSG00000029559',\n",
       " 'ENSG00000029639',\n",
       " 'ENSG00000029725',\n",
       " 'ENSG00000029993',\n",
       " 'ENSG00000030066',\n",
       " 'ENSG00000030110',\n",
       " 'ENSG00000030304',\n",
       " 'ENSG00000030419',\n",
       " 'ENSG00000030582',\n",
       " 'ENSG00000031003',\n",
       " 'ENSG00000031081',\n",
       " 'ENSG00000031691',\n",
       " 'ENSG00000031698',\n",
       " 'ENSG00000031823',\n",
       " 'ENSG00000032219',\n",
       " 'ENSG00000032389',\n",
       " 'ENSG00000032444',\n",
       " 'ENSG00000032742',\n",
       " 'ENSG00000033011',\n",
       " 'ENSG00000033030',\n",
       " 'ENSG00000033050',\n",
       " 'ENSG00000033100',\n",
       " 'ENSG00000033122',\n",
       " 'ENSG00000033170',\n",
       " 'ENSG00000033178',\n",
       " 'ENSG00000033327',\n",
       " 'ENSG00000033627',\n",
       " 'ENSG00000033800',\n",
       " 'ENSG00000033867',\n",
       " 'ENSG00000034053',\n",
       " 'ENSG00000034152',\n",
       " 'ENSG00000034239',\n",
       " 'ENSG00000034510',\n",
       " 'ENSG00000034533',\n",
       " 'ENSG00000034677',\n",
       " 'ENSG00000034693',\n",
       " 'ENSG00000034713',\n",
       " 'ENSG00000034971',\n",
       " 'ENSG00000035115',\n",
       " 'ENSG00000035141',\n",
       " 'ENSG00000035403',\n",
       " 'ENSG00000035499',\n",
       " 'ENSG00000035664',\n",
       " 'ENSG00000035681',\n",
       " 'ENSG00000035687',\n",
       " 'ENSG00000035720',\n",
       " 'ENSG00000035862',\n",
       " 'ENSG00000035928',\n",
       " 'ENSG00000036054',\n",
       " 'ENSG00000036257',\n",
       " 'ENSG00000036448',\n",
       " 'ENSG00000036473',\n",
       " 'ENSG00000036530',\n",
       " 'ENSG00000036549',\n",
       " 'ENSG00000036565',\n",
       " 'ENSG00000036672',\n",
       " 'ENSG00000036828',\n",
       " 'ENSG00000037042',\n",
       " 'ENSG00000037241',\n",
       " 'ENSG00000037280',\n",
       " 'ENSG00000037474',\n",
       " 'ENSG00000037637',\n",
       " 'ENSG00000037749',\n",
       " 'ENSG00000037757',\n",
       " 'ENSG00000037897',\n",
       " 'ENSG00000037965',\n",
       " 'ENSG00000038002',\n",
       " 'ENSG00000038210',\n",
       " 'ENSG00000038219',\n",
       " 'ENSG00000038274',\n",
       " 'ENSG00000038295',\n",
       " 'ENSG00000038358',\n",
       " 'ENSG00000038382',\n",
       " 'ENSG00000038427',\n",
       " 'ENSG00000038532',\n",
       " 'ENSG00000038945',\n",
       " 'ENSG00000039068',\n",
       " 'ENSG00000039123',\n",
       " 'ENSG00000039139',\n",
       " 'ENSG00000039319',\n",
       " 'ENSG00000039523',\n",
       " 'ENSG00000039537',\n",
       " 'ENSG00000039560',\n",
       " 'ENSG00000039600',\n",
       " 'ENSG00000039650',\n",
       " 'ENSG00000039987',\n",
       " 'ENSG00000040199',\n",
       " 'ENSG00000040275',\n",
       " 'ENSG00000040341',\n",
       " 'ENSG00000040487',\n",
       " 'ENSG00000040531',\n",
       " 'ENSG00000040608',\n",
       " 'ENSG00000040633',\n",
       " 'ENSG00000040731',\n",
       " 'ENSG00000040933',\n",
       " 'ENSG00000041353',\n",
       " 'ENSG00000041357',\n",
       " 'ENSG00000041515',\n",
       " 'ENSG00000041802',\n",
       " 'ENSG00000041880',\n",
       " 'ENSG00000041982',\n",
       " 'ENSG00000041988',\n",
       " 'ENSG00000042062',\n",
       " 'ENSG00000042088',\n",
       " 'ENSG00000042286',\n",
       " 'ENSG00000042317',\n",
       " 'ENSG00000042429',\n",
       " 'ENSG00000042445',\n",
       " 'ENSG00000042493',\n",
       " 'ENSG00000042753',\n",
       " 'ENSG00000042781',\n",
       " 'ENSG00000042813',\n",
       " 'ENSG00000042832',\n",
       " 'ENSG00000042980',\n",
       " 'ENSG00000043039',\n",
       " 'ENSG00000043093',\n",
       " 'ENSG00000043143',\n",
       " 'ENSG00000043355',\n",
       " 'ENSG00000043462',\n",
       " 'ENSG00000043514',\n",
       " 'ENSG00000043591',\n",
       " 'ENSG00000044012',\n",
       " 'ENSG00000044090',\n",
       " 'ENSG00000044115',\n",
       " 'ENSG00000044446',\n",
       " 'ENSG00000044459',\n",
       " 'ENSG00000044524',\n",
       " 'ENSG00000044574',\n",
       " 'ENSG00000046604',\n",
       " 'ENSG00000046647',\n",
       " 'ENSG00000046651',\n",
       " 'ENSG00000046653',\n",
       " 'ENSG00000046774',\n",
       " 'ENSG00000046889',\n",
       " 'ENSG00000047056',\n",
       " 'ENSG00000047188',\n",
       " 'ENSG00000047230',\n",
       " 'ENSG00000047249',\n",
       " 'ENSG00000047315',\n",
       " 'ENSG00000047346',\n",
       " 'ENSG00000047365',\n",
       " 'ENSG00000047410',\n",
       " 'ENSG00000047457',\n",
       " 'ENSG00000047578',\n",
       " 'ENSG00000047579',\n",
       " 'ENSG00000047597',\n",
       " 'ENSG00000047617',\n",
       " 'ENSG00000047621',\n",
       " 'ENSG00000047634',\n",
       " 'ENSG00000047644',\n",
       " 'ENSG00000047648',\n",
       " 'ENSG00000047662',\n",
       " 'ENSG00000047849',\n",
       " 'ENSG00000047932',\n",
       " 'ENSG00000047936',\n",
       " 'ENSG00000048028',\n",
       " 'ENSG00000048052',\n",
       " 'ENSG00000048140',\n",
       " 'ENSG00000048162',\n",
       " 'ENSG00000048342',\n",
       " 'ENSG00000048392',\n",
       " 'ENSG00000048405',\n",
       " 'ENSG00000048462',\n",
       " 'ENSG00000048471',\n",
       " 'ENSG00000048540',\n",
       " 'ENSG00000048544',\n",
       " 'ENSG00000048545',\n",
       " 'ENSG00000048649',\n",
       " 'ENSG00000048707',\n",
       " 'ENSG00000048740',\n",
       " 'ENSG00000048828',\n",
       " 'ENSG00000048991',\n",
       " 'ENSG00000049089',\n",
       " 'ENSG00000049130',\n",
       " 'ENSG00000049167',\n",
       " 'ENSG00000049192',\n",
       " 'ENSG00000049239',\n",
       " 'ENSG00000049245',\n",
       " 'ENSG00000049246',\n",
       " 'ENSG00000049247',\n",
       " 'ENSG00000049249',\n",
       " 'ENSG00000049283',\n",
       " 'ENSG00000049323',\n",
       " 'ENSG00000049449',\n",
       " 'ENSG00000049540',\n",
       " 'ENSG00000049541',\n",
       " 'ENSG00000049618',\n",
       " 'ENSG00000049656',\n",
       " 'ENSG00000049759',\n",
       " 'ENSG00000049768',\n",
       " 'ENSG00000049769',\n",
       " 'ENSG00000049860',\n",
       " 'ENSG00000049883',\n",
       " 'ENSG00000050030',\n",
       " 'ENSG00000050130',\n",
       " 'ENSG00000050165',\n",
       " 'ENSG00000050327',\n",
       " 'ENSG00000050344',\n",
       " 'ENSG00000050393',\n",
       " 'ENSG00000050405',\n",
       " 'ENSG00000050426',\n",
       " 'ENSG00000050438',\n",
       " 'ENSG00000050555',\n",
       " 'ENSG00000050628',\n",
       " 'ENSG00000050730',\n",
       " 'ENSG00000050748',\n",
       " 'ENSG00000050767',\n",
       " 'ENSG00000050820',\n",
       " 'ENSG00000051009',\n",
       " 'ENSG00000051108',\n",
       " 'ENSG00000051128',\n",
       " 'ENSG00000051180',\n",
       " 'ENSG00000051341',\n",
       " 'ENSG00000051382',\n",
       " 'ENSG00000051523',\n",
       " 'ENSG00000051596',\n",
       " 'ENSG00000051620',\n",
       " 'ENSG00000051825',\n",
       " 'ENSG00000052126',\n",
       " 'ENSG00000052344',\n",
       " 'ENSG00000052723',\n",
       " 'ENSG00000052749',\n",
       " 'ENSG00000052795',\n",
       " 'ENSG00000052802',\n",
       " 'ENSG00000052841',\n",
       " 'ENSG00000052850',\n",
       " 'ENSG00000053108',\n",
       " 'ENSG00000053254',\n",
       " 'ENSG00000053328',\n",
       " 'ENSG00000053371',\n",
       " 'ENSG00000053372',\n",
       " 'ENSG00000053438',\n",
       " 'ENSG00000053501',\n",
       " 'ENSG00000053524',\n",
       " 'ENSG00000053702',\n",
       " 'ENSG00000053747',\n",
       " 'ENSG00000053770',\n",
       " 'ENSG00000053900',\n",
       " 'ENSG00000053918',\n",
       " 'ENSG00000054116',\n",
       " 'ENSG00000054118',\n",
       " 'ENSG00000054148',\n",
       " 'ENSG00000054179',\n",
       " 'ENSG00000054219',\n",
       " 'ENSG00000054267',\n",
       " 'ENSG00000054277',\n",
       " 'ENSG00000054282',\n",
       " 'ENSG00000054356',\n",
       " 'ENSG00000054392',\n",
       " 'ENSG00000054523',\n",
       " 'ENSG00000054598',\n",
       " 'ENSG00000054611',\n",
       " 'ENSG00000054654',\n",
       " 'ENSG00000054690',\n",
       " 'ENSG00000054793',\n",
       " 'ENSG00000054796',\n",
       " 'ENSG00000054803',\n",
       " 'ENSG00000054938',\n",
       " 'ENSG00000054965',\n",
       " 'ENSG00000054967',\n",
       " 'ENSG00000054983',\n",
       " 'ENSG00000055044',\n",
       " 'ENSG00000055070',\n",
       " 'ENSG00000055118',\n",
       " 'ENSG00000055130',\n",
       " 'ENSG00000055147',\n",
       " 'ENSG00000055163',\n",
       " 'ENSG00000055208',\n",
       " 'ENSG00000055211',\n",
       " 'ENSG00000055332',\n",
       " 'ENSG00000055483',\n",
       " 'ENSG00000055609',\n",
       " 'ENSG00000055732',\n",
       " 'ENSG00000055813',\n",
       " 'ENSG00000055917',\n",
       " 'ENSG00000055950',\n",
       " 'ENSG00000055955',\n",
       " 'ENSG00000055957',\n",
       " 'ENSG00000056050',\n",
       " 'ENSG00000056097',\n",
       " 'ENSG00000056277',\n",
       " 'ENSG00000056291',\n",
       " 'ENSG00000056487',\n",
       " 'ENSG00000056558',\n",
       " 'ENSG00000056586',\n",
       " 'ENSG00000056736',\n",
       " 'ENSG00000056972',\n",
       " 'ENSG00000056998',\n",
       " 'ENSG00000057019',\n",
       " 'ENSG00000057149',\n",
       " 'ENSG00000057252',\n",
       " 'ENSG00000057294',\n",
       " 'ENSG00000057468',\n",
       " 'ENSG00000057593',\n",
       " 'ENSG00000057608',\n",
       " 'ENSG00000057657',\n",
       " 'ENSG00000057663',\n",
       " 'ENSG00000057704',\n",
       " 'ENSG00000057757',\n",
       " 'ENSG00000057935',\n",
       " 'ENSG00000058056',\n",
       " 'ENSG00000058063',\n",
       " 'ENSG00000058085',\n",
       " 'ENSG00000058091',\n",
       " 'ENSG00000058262',\n",
       " 'ENSG00000058272',\n",
       " 'ENSG00000058335',\n",
       " 'ENSG00000058404',\n",
       " 'ENSG00000058453',\n",
       " 'ENSG00000058600',\n",
       " 'ENSG00000058668',\n",
       " 'ENSG00000058673',\n",
       " 'ENSG00000058729',\n",
       " 'ENSG00000058799',\n",
       " 'ENSG00000058804',\n",
       " 'ENSG00000058866',\n",
       " 'ENSG00000059122',\n",
       " 'ENSG00000059145',\n",
       " 'ENSG00000059377',\n",
       " 'ENSG00000059378',\n",
       " 'ENSG00000059573',\n",
       " 'ENSG00000059588',\n",
       " 'ENSG00000059691',\n",
       " 'ENSG00000059728',\n",
       " 'ENSG00000059758',\n",
       " 'ENSG00000059769',\n",
       " 'ENSG00000059804',\n",
       " 'ENSG00000059915',\n",
       " 'ENSG00000060069',\n",
       " 'ENSG00000060138',\n",
       " 'ENSG00000060140',\n",
       " 'ENSG00000060237',\n",
       " 'ENSG00000060339',\n",
       " 'ENSG00000060491',\n",
       " 'ENSG00000060558',\n",
       " 'ENSG00000060566',\n",
       " 'ENSG00000060642',\n",
       " 'ENSG00000060656',\n",
       " 'ENSG00000060688',\n",
       " 'ENSG00000060709',\n",
       " 'ENSG00000060718',\n",
       " 'ENSG00000060749',\n",
       " 'ENSG00000060762',\n",
       " 'ENSG00000060971',\n",
       " 'ENSG00000060982',\n",
       " 'ENSG00000061273',\n",
       " 'ENSG00000061337',\n",
       " 'ENSG00000061455',\n",
       " 'ENSG00000061492',\n",
       " 'ENSG00000061656',\n",
       " 'ENSG00000061676',\n",
       " 'ENSG00000061794',\n",
       " 'ENSG00000061918',\n",
       " 'ENSG00000061936',\n",
       " 'ENSG00000061938',\n",
       " 'ENSG00000061987',\n",
       " 'ENSG00000062038',\n",
       " 'ENSG00000062096',\n",
       " 'ENSG00000062194',\n",
       " 'ENSG00000062282',\n",
       " 'ENSG00000062370',\n",
       " 'ENSG00000062485',\n",
       " 'ENSG00000062524',\n",
       " 'ENSG00000062582',\n",
       " 'ENSG00000062598',\n",
       " 'ENSG00000062650',\n",
       " 'ENSG00000062716',\n",
       " 'ENSG00000062725',\n",
       " 'ENSG00000062822',\n",
       " 'ENSG00000063015',\n",
       " 'ENSG00000063046',\n",
       " 'ENSG00000063127',\n",
       " 'ENSG00000063169',\n",
       " 'ENSG00000063176',\n",
       " 'ENSG00000063177',\n",
       " 'ENSG00000063180',\n",
       " 'ENSG00000063241',\n",
       " 'ENSG00000063244',\n",
       " 'ENSG00000063245',\n",
       " 'ENSG00000063322',\n",
       " 'ENSG00000063438',\n",
       " 'ENSG00000063515',\n",
       " 'ENSG00000063587',\n",
       " 'ENSG00000063601',\n",
       " 'ENSG00000063660',\n",
       " 'ENSG00000063761',\n",
       " 'ENSG00000063854',\n",
       " 'ENSG00000063978',\n",
       " 'ENSG00000064012',\n",
       " 'ENSG00000064042',\n",
       " 'ENSG00000064102',\n",
       " 'ENSG00000064115',\n",
       " 'ENSG00000064195',\n",
       " 'ENSG00000064199',\n",
       " 'ENSG00000064201',\n",
       " 'ENSG00000064205',\n",
       " 'ENSG00000064218',\n",
       " 'ENSG00000064225',\n",
       " 'ENSG00000064270',\n",
       " 'ENSG00000064300',\n",
       " 'ENSG00000064309',\n",
       " 'ENSG00000064313',\n",
       " 'ENSG00000064393',\n",
       " 'ENSG00000064419',\n",
       " 'ENSG00000064489',\n",
       " 'ENSG00000064490',\n",
       " 'ENSG00000064545',\n",
       " 'ENSG00000064547',\n",
       " 'ENSG00000064601',\n",
       " 'ENSG00000064607',\n",
       " 'ENSG00000064651',\n",
       " 'ENSG00000064652',\n",
       " 'ENSG00000064655',\n",
       " 'ENSG00000064666',\n",
       " 'ENSG00000064687',\n",
       " 'ENSG00000064692',\n",
       " 'ENSG00000064703',\n",
       " 'ENSG00000064726',\n",
       " 'ENSG00000064763',\n",
       " 'ENSG00000064787',\n",
       " 'ENSG00000064835',\n",
       " 'ENSG00000064886',\n",
       " 'ENSG00000064932',\n",
       " 'ENSG00000064933',\n",
       " 'ENSG00000064961',\n",
       " 'ENSG00000064989',\n",
       " 'ENSG00000064995',\n",
       " 'ENSG00000064999',\n",
       " 'ENSG00000065000',\n",
       " 'ENSG00000065029',\n",
       " 'ENSG00000065054',\n",
       " 'ENSG00000065057',\n",
       " 'ENSG00000065060',\n",
       " 'ENSG00000065135',\n",
       " 'ENSG00000065150',\n",
       " 'ENSG00000065154',\n",
       " 'ENSG00000065183',\n",
       " 'ENSG00000065243',\n",
       " 'ENSG00000065268',\n",
       " 'ENSG00000065308',\n",
       " 'ENSG00000065320',\n",
       " 'ENSG00000065325',\n",
       " 'ENSG00000065328',\n",
       " 'ENSG00000065357',\n",
       " 'ENSG00000065361',\n",
       " 'ENSG00000065371',\n",
       " 'ENSG00000065413',\n",
       " 'ENSG00000065427',\n",
       " 'ENSG00000065457',\n",
       " 'ENSG00000065485',\n",
       " 'ENSG00000065491',\n",
       " 'ENSG00000065518',\n",
       " 'ENSG00000065526',\n",
       " 'ENSG00000065534',\n",
       " 'ENSG00000065548',\n",
       " 'ENSG00000065559',\n",
       " 'ENSG00000065600',\n",
       " 'ENSG00000065609',\n",
       " 'ENSG00000065613',\n",
       " 'ENSG00000065615',\n",
       " 'ENSG00000065618',\n",
       " 'ENSG00000065621',\n",
       " 'ENSG00000065665',\n",
       " 'ENSG00000065675',\n",
       " 'ENSG00000065717',\n",
       " 'ENSG00000065802',\n",
       " 'ENSG00000065809',\n",
       " 'ENSG00000065833',\n",
       " 'ENSG00000065882',\n",
       " 'ENSG00000065883',\n",
       " 'ENSG00000065911',\n",
       " 'ENSG00000065923',\n",
       " 'ENSG00000065970',\n",
       " 'ENSG00000065978',\n",
       " 'ENSG00000065989',\n",
       " 'ENSG00000066027',\n",
       " 'ENSG00000066032',\n",
       " 'ENSG00000066044',\n",
       " 'ENSG00000066056',\n",
       " 'ENSG00000066084',\n",
       " 'ENSG00000066117',\n",
       " 'ENSG00000066135',\n",
       " 'ENSG00000066136',\n",
       " 'ENSG00000066185',\n",
       " 'ENSG00000066230',\n",
       " 'ENSG00000066248',\n",
       " 'ENSG00000066279',\n",
       " 'ENSG00000066294',\n",
       " 'ENSG00000066322',\n",
       " 'ENSG00000066336',\n",
       " 'ENSG00000066379',\n",
       " 'ENSG00000066382',\n",
       " 'ENSG00000066405',\n",
       " 'ENSG00000066422',\n",
       " 'ENSG00000066427',\n",
       " 'ENSG00000066455',\n",
       " 'ENSG00000066468',\n",
       " 'ENSG00000066557',\n",
       " 'ENSG00000066583',\n",
       " 'ENSG00000066629',\n",
       " 'ENSG00000066651',\n",
       " 'ENSG00000066654',\n",
       " 'ENSG00000066697',\n",
       " 'ENSG00000066735',\n",
       " 'ENSG00000066739',\n",
       " 'ENSG00000066777',\n",
       " 'ENSG00000066813',\n",
       " 'ENSG00000066827',\n",
       " 'ENSG00000066855',\n",
       " 'ENSG00000066923',\n",
       " 'ENSG00000066926',\n",
       " 'ENSG00000066933',\n",
       " 'ENSG00000067048',\n",
       " 'ENSG00000067057',\n",
       " 'ENSG00000067064',\n",
       " 'ENSG00000067066',\n",
       " 'ENSG00000067082',\n",
       " 'ENSG00000067113',\n",
       " 'ENSG00000067141',\n",
       " 'ENSG00000067167',\n",
       " 'ENSG00000067177',\n",
       " 'ENSG00000067182',\n",
       " 'ENSG00000067191',\n",
       " 'ENSG00000067208',\n",
       " 'ENSG00000067221',\n",
       " 'ENSG00000067225',\n",
       " ...]"
      ]
     },
     "execution_count": 62,
     "metadata": {},
     "output_type": "execute_result"
    }
   ],
   "source": [
    "adata_nicheformer.var_names.tolist()"
   ]
  },
  {
   "cell_type": "code",
   "execution_count": 63,
   "metadata": {},
   "outputs": [
    {
     "name": "stderr",
     "output_type": "stream",
     "text": [
      "Global seed set to 42\n"
     ]
    }
   ],
   "source": [
    "# Set random seed for reproducibility\n",
    "pl.seed_everything(42)\n",
    "\n",
    "# Load data\n",
    "adata_mouse = ad.read_h5ad(config[\"data_path\"])\n",
    "technology_mean = np.load(config[\"technology_mean_path\"])"
   ]
  },
  {
   "cell_type": "code",
   "execution_count": 64,
   "metadata": {},
   "outputs": [
    {
     "data": {
      "text/plain": [
       "AnnData object with n_obs × n_vars = 250790 × 1122\n",
       "    obs: 'organism_ontology_term_id', 'donor_id', 'development_stage_ontology_term_id', 'sex_ontology_term_id', 'self_reported_ethnicity_ontology_term_id', 'disease_ontology_term_id', 'tissue_ontology_term_id', 'cell_type_ontology_term_id', 'assay_ontology_term_id', 'suspension_type', 'cluster_id_transfer', 'subclass_transfer', 'cluster_confidence_score', 'subclass_confidence_score', 'high_quality_transfer', 'major_brain_region', 'ccf_region_name', 'brain_section_label', 'tissue_type', 'is_primary_data', 'cell_type', 'assay', 'disease', 'organism', 'sex', 'tissue', 'self_reported_ethnicity', 'development_stage', 'observation_joinid', 'n_counts', 'batch', '_scvi_batch', '_scvi_labels', 'n_genes_by_counts', 'log1p_n_genes_by_counts', 'total_counts', 'log1p_total_counts', 'pct_counts_in_top_50_genes', 'pct_counts_in_top_100_genes', 'pct_counts_in_top_200_genes', 'pct_counts_in_top_500_genes', 'total_counts_mt', 'log1p_total_counts_mt', 'pct_counts_mt', '_indices', '_scvi_ind_x', 'major_brain_region_banksy_astrocyte', 'major_brain_region_banksy_endothelial', 'major_brain_region_banksy_oligodendrocyte_precursor', 'major_brain_region_banksy_microglial', 'major_brain_region_banksy_pericyte', 'major_brain_region_banksy_oligodendrocyte', 'major_brain_region_banksy_glutamatergic', 'major_brain_region_banksy_GABAergic', 'cell_type_niche'\n",
       "    var: 'gene_name', 'feature_is_filtered', 'feature_name', 'feature_reference', 'feature_biotype', 'feature_length', 'mt', 'n_cells_by_counts', 'mean_counts', 'log1p_mean_counts', 'pct_dropout_by_counts', 'total_counts', 'log1p_total_counts'\n",
       "    uns: '_scvi_manager_uuid', '_scvi_uuid', 'log1p', 'pca', 'simvi_train_mask', 'simvi_train_mask_06', 'simvi_train_mask_08', 'simvi_val_mask', 'simvi_val_mask_06', 'simvi_val_mask_08'\n",
       "    obsm: 'X_CCF', 'X_banksy_02_harmony_GABAergic', 'X_banksy_02_harmony_astrocyte', 'X_banksy_02_harmony_endothelial', 'X_banksy_02_harmony_glutamatergic', 'X_banksy_02_harmony_microglial', 'X_banksy_02_harmony_oligodendrocyte', 'X_banksy_02_harmony_oligodendrocyte_precursor', 'X_banksy_02_harmony_pericyte', 'X_pca', 'X_resolvi', 'X_resolvi_MDE', 'X_spatial', 'X_umap', 'banksy_pc_20_lambda_0.0', 'banksy_pc_20_lambda_0.0_GABAergic', 'banksy_pc_20_lambda_0.0_astrocyte', 'banksy_pc_20_lambda_0.0_endothelial', 'banksy_pc_20_lambda_0.0_glutamatergic', 'banksy_pc_20_lambda_0.0_microglial', 'banksy_pc_20_lambda_0.0_oligodendrocyte', 'banksy_pc_20_lambda_0.0_oligodendrocyte_precursor', 'banksy_pc_20_lambda_0.0_pericyte', 'banksy_pc_20_lambda_0.2', 'banksy_pc_20_lambda_0.2_GABAergic', 'banksy_pc_20_lambda_0.2_astrocyte', 'banksy_pc_20_lambda_0.2_endothelial', 'banksy_pc_20_lambda_0.2_glutamatergic', 'banksy_pc_20_lambda_0.2_microglial', 'banksy_pc_20_lambda_0.2_oligodendrocyte', 'banksy_pc_20_lambda_0.2_oligodendrocyte_precursor', 'banksy_pc_20_lambda_0.2_pericyte', 'banksy_pc_20_lambda_0.4', 'banksy_pc_20_lambda_0.4_astrocyte', 'banksy_pc_20_lambda_0.5', 'banksy_pc_20_lambda_0.6', 'distance_neighbor', 'index_neighbor', 'simvi_both', 'simvi_both_06', 'simvi_both_07', 'simvi_both_08', 'simvi_both_MDE', 'simvi_both_MDE_06', 'simvi_both_MDE_07', 'simvi_both_MDE_08', 'simvi_interact', 'simvi_interact_06', 'simvi_interact_07', 'simvi_interact_08', 'simvi_interact_MDE', 'simvi_interact_MDE_06', 'simvi_interact_MDE_07', 'simvi_interact_MDE_08', 'simvi_intrinsic', 'simvi_intrinsic_06', 'simvi_intrinsic_07', 'simvi_intrinsic_08', 'simvi_intrinsic_MDE', 'simvi_intrinsic_MDE_06', 'simvi_intrinsic_MDE_07', 'simvi_intrinsic_MDE_08', 'spatial'\n",
       "    varm: 'PCs'\n",
       "    layers: 'counts'"
      ]
     },
     "execution_count": 64,
     "metadata": {},
     "output_type": "execute_result"
    }
   ],
   "source": [
    "adata_mouse"
   ]
  },
  {
   "cell_type": "code",
   "execution_count": 65,
   "metadata": {},
   "outputs": [
    {
     "data": {
      "text/plain": [
       "58"
      ]
     },
     "execution_count": 65,
     "metadata": {},
     "output_type": "execute_result"
    }
   ],
   "source": [
    "# Find shared genes between mouse and model datasets\n",
    "shared_genes = adata_mouse.var_names.intersection(adata_nicheformer.var_names)\n",
    "\n",
    "len(shared_genes)"
   ]
  },
  {
   "cell_type": "code",
   "execution_count": 66,
   "metadata": {},
   "outputs": [
    {
     "data": {
      "text/plain": [
       "Index(['ENSMUSG00000024798', 'ENSMUSG00000042385', 'ENSMUSG00000036198',\n",
       "       'ENSMUSG00000028780', 'ENSMUSG00000015843', 'ENSMUSG00000026768',\n",
       "       'ENSMUSG00000049928', 'ENSMUSG00000041046', 'ENSMUSG00000032373',\n",
       "       'ENSMUSG00000004633',\n",
       "       ...\n",
       "       'ENSMUSG00000024064', 'ENSMUSG00000035580', 'ENSMUSG00000010136',\n",
       "       'ENSMUSG00000024376', 'ENSMUSG00000022324', 'ENSMUSG00000015619',\n",
       "       'ENSMUSG00000070047', 'ENSMUSG00000002266', 'ENSMUSG00000036111',\n",
       "       'ENSMUSG00000033063'],\n",
       "      dtype='object', name='gene_id', length=1122)"
      ]
     },
     "execution_count": 66,
     "metadata": {},
     "output_type": "execute_result"
    }
   ],
   "source": [
    "adata_mouse.var_names"
   ]
  },
  {
   "cell_type": "code",
   "execution_count": 67,
   "metadata": {},
   "outputs": [],
   "source": [
    "# Subset both AnnData objects to retain only shared genes\n",
    "adata_mouse_shared = adata_mouse[:, shared_genes].copy()\n",
    "adata_model_shared = adata_nicheformer[:, shared_genes].copy()\n",
    "\n",
    "adata_mouse_not_shared = adata_mouse[:, ~adata_mouse.var_names.isin(shared_genes)].copy()\n",
    "adata_model_not_shared = adata_nicheformer[:, ~adata_nicheformer.var_names.isin(shared_genes)].copy()"
   ]
  },
  {
   "cell_type": "code",
   "execution_count": 68,
   "metadata": {},
   "outputs": [],
   "source": [
    "# from pybiomart import Dataset\n",
    "\n",
    "# # Connect to the BioMart database\n",
    "# mouse_dataset = Dataset(name=\"mmusculus_gene_ensembl\", host=\"http://www.ensembl.org\")\n",
    "# human_dataset = Dataset(name=\"hsapiens_gene_ensembl\", host=\"http://www.ensembl.org\")\n",
    "\n",
    "# # Retrieve orthologous mappings\n",
    "# mapping = mouse_dataset.query(\n",
    "#     attributes=[\n",
    "#         \"ensembl_gene_id\",  # Mouse gene ID\n",
    "#         \"hsapiens_homolog_ensembl_gene\",  # Human ortholog ID\n",
    "#     ]\n",
    "# )\n",
    "\n",
    "# # Convert to dictionary for quick lookup\n",
    "# mouse_to_human = dict(zip(mapping[\"Gene stable ID\"], mapping[\"Human gene stable ID\"]))\n",
    "\n",
    "# # Map mouse genes to human genes in adata_mouse\n",
    "# mapped_genes = adata_mouse.var_names.map(mouse_to_human)"
   ]
  },
  {
   "cell_type": "code",
   "execution_count": 69,
   "metadata": {},
   "outputs": [],
   "source": [
    "from pybiomart import Dataset\n",
    "\n",
    "# Initialize BioMart dataset for mouse genes\n",
    "mouse_dataset = Dataset(name=\"mmusculus_gene_ensembl\", host=\"http://www.ensembl.org\")\n",
    "\n",
    "# Fetch mouse-to-human gene mappings\n",
    "orthologs = mouse_dataset.query(\n",
    "    attributes=[\n",
    "        \"ensembl_gene_id\",  # Mouse gene IDs\n",
    "        \"hsapiens_homolog_ensembl_gene\",  # Human gene orthologs\n",
    "    ]\n",
    ")\n",
    "\n",
    "# Convert to a dictionary for easy mapping\n",
    "mouse_to_human = orthologs.set_index(\"Gene stable ID\")[\"Human gene stable ID\"].to_dict()"
   ]
  },
  {
   "cell_type": "code",
   "execution_count": 70,
   "metadata": {},
   "outputs": [
    {
     "data": {
      "text/html": [
       "<pre style=\"white-space:pre;overflow-x:auto;line-height:normal;font-family:Menlo,'DejaVu Sans Mono',consolas,'Courier New',monospace\"><span style=\"font-weight: bold\">(</span><span style=\"color: #008080; text-decoration-color: #008080; font-weight: bold\">250790</span>, <span style=\"color: #008080; text-decoration-color: #008080; font-weight: bold\">1064</span><span style=\"font-weight: bold\">)</span>\n",
       "</pre>\n"
      ],
      "text/plain": [
       "\u001b[1m(\u001b[0m\u001b[1;36m250790\u001b[0m, \u001b[1;36m1064\u001b[0m\u001b[1m)\u001b[0m\n"
      ]
     },
     "metadata": {},
     "output_type": "display_data"
    },
    {
     "data": {
      "text/html": [
       "<pre style=\"white-space:pre;overflow-x:auto;line-height:normal;font-family:Menlo,'DejaVu Sans Mono',consolas,'Courier New',monospace\">gene_id\n",
       "ENSMUSG00000033581    <span style=\"color: #00ff00; text-decoration-color: #00ff00; font-style: italic\">True</span>\n",
       "ENSMUSG00000046550    <span style=\"color: #00ff00; text-decoration-color: #00ff00; font-style: italic\">True</span>\n",
       "Name: human_gene, dtype: bool\n",
       "</pre>\n"
      ],
      "text/plain": [
       "gene_id\n",
       "ENSMUSG00000033581    \u001b[3;92mTrue\u001b[0m\n",
       "ENSMUSG00000046550    \u001b[3;92mTrue\u001b[0m\n",
       "Name: human_gene, dtype: bool\n"
      ]
     },
     "metadata": {},
     "output_type": "display_data"
    },
    {
     "data": {
      "text/html": [
       "<pre style=\"white-space:pre;overflow-x:auto;line-height:normal;font-family:Menlo,'DejaVu Sans Mono',consolas,'Courier New',monospace\"><span style=\"font-weight: bold\">(</span><span style=\"color: #008080; text-decoration-color: #008080; font-weight: bold\">250790</span>, <span style=\"color: #008080; text-decoration-color: #008080; font-weight: bold\">1062</span><span style=\"font-weight: bold\">)</span>\n",
       "</pre>\n"
      ],
      "text/plain": [
       "\u001b[1m(\u001b[0m\u001b[1;36m250790\u001b[0m, \u001b[1;36m1062\u001b[0m\u001b[1m)\u001b[0m\n"
      ]
     },
     "metadata": {},
     "output_type": "display_data"
    }
   ],
   "source": [
    "print(adata_mouse_not_shared.shape)\n",
    "\n",
    "# Map mouse gene IDs to human gene IDs\n",
    "adata_mouse_not_shared.var[\"human_gene\"] = adata_mouse_not_shared.var_names.map(mouse_to_human)\n",
    "\n",
    "# Remove genes without human orthologs\n",
    "adata_mouse_mapped = adata_mouse_not_shared[:, adata_mouse_not_shared.var[\"human_gene\"].notna()].copy()\n",
    "\n",
    "print(adata_mouse_not_shared.var[\"human_gene\"].isna()[adata_mouse_not_shared.var[\"human_gene\"].isna()])\n",
    "\n",
    "# Rename the genes to their human counterparts\n",
    "adata_mouse_mapped.var_names = adata_mouse_mapped.var[\"human_gene\"]\n",
    "\n",
    "print(adata_mouse_mapped.shape)"
   ]
  },
  {
   "cell_type": "code",
   "execution_count": 84,
   "metadata": {},
   "outputs": [
    {
     "data": {
      "text/html": [
       "<pre style=\"white-space:pre;overflow-x:auto;line-height:normal;font-family:Menlo,'DejaVu Sans Mono',consolas,'Courier New',monospace\">Mouse Gene: ENSMUSG00000046550 -&gt; Human Ortholog <span style=\"font-weight: bold\">(</span>Ensembl<span style=\"font-weight: bold\">)</span>: ENSG00000073792\n",
       "</pre>\n"
      ],
      "text/plain": [
       "Mouse Gene: ENSMUSG00000046550 -> Human Ortholog \u001b[1m(\u001b[0mEnsembl\u001b[1m)\u001b[0m: ENSG00000073792\n"
      ]
     },
     "metadata": {},
     "output_type": "display_data"
    }
   ],
   "source": [
    "# import requests\n",
    "\n",
    "# # List of mouse gene IDs\n",
    "# mouse_genes = [\"ENSMUSG00000033581\", \"ENSMUSG00000046550\"]\n",
    "\n",
    "# # Base URL for MyGene.info API\n",
    "# url = \"http://mygene.info/v3/query\"\n",
    "\n",
    "# # Placeholder for results\n",
    "# results = []\n",
    "\n",
    "# # Query each gene\n",
    "# for gene in mouse_genes:\n",
    "#     # Define the query parameters\n",
    "#     params = {\n",
    "#         \"q\": gene,  # The gene to query\n",
    "#         \"scopes\": \"ensembl.gene\",  # Input gene ID type\n",
    "#         \"fields\": \"homologene\",  # Get homologene data\n",
    "#         \"species\": \"mouse\",  # Specify the species\n",
    "#     }\n",
    "#     # Send the GET request\n",
    "#     response = requests.get(url, params=params)\n",
    "#     if response.ok:\n",
    "#         # Parse and store the result\n",
    "#         results.append(response.json())\n",
    "#     else:\n",
    "#         print(f\"Failed to fetch data for {gene}: {response.status_code}\")\n",
    "\n",
    "# # Print the results\n",
    "# for result in results:\n",
    "#     print(result)\n",
    "\n",
    "import requests\n",
    "\n",
    "# List of mouse gene IDs\n",
    "mouse_genes = [\"ENSMUSG00000033581\", \"ENSMUSG00000046550\"]\n",
    "\n",
    "# Base URL for MyGene.info API\n",
    "url = \"http://mygene.info/v3/query\"\n",
    "\n",
    "# Placeholder for results\n",
    "results = []\n",
    "\n",
    "# Query each mouse gene\n",
    "for gene in mouse_genes:\n",
    "    # Define the query parameters\n",
    "    params = {\n",
    "        \"q\": gene,  # The gene to query\n",
    "        \"scopes\": \"ensembl.gene\",  # Input gene ID type\n",
    "        \"fields\": \"homologene\",  # Get homologene data\n",
    "        \"species\": \"mouse\",  # Specify the species\n",
    "    }\n",
    "    # Send the GET request\n",
    "    response = requests.get(url, params=params)\n",
    "    if response.ok:\n",
    "        results.append(response.json())\n",
    "    else:\n",
    "        print(f\"Failed to fetch data for {gene}: {response.status_code}\")\n",
    "\n",
    "# Extract human orthologs and fetch their Ensembl IDs\n",
    "human_ensembl_ids = []\n",
    "for result in results:\n",
    "    if \"hits\" in result:\n",
    "        for hit in result[\"hits\"]:\n",
    "            homologene_data = hit.get(\"homologene\", {})\n",
    "            orthologs = homologene_data.get(\"genes\", [])\n",
    "            # Find human orthologs (species ID 9606)\n",
    "            human_ortholog = next((gene[1] for gene in orthologs if gene[0] == 9606), None)\n",
    "            if human_ortholog:\n",
    "                # Query MyGene.info to get the Ensembl ID for the human ortholog\n",
    "                params = {\n",
    "                    \"q\": human_ortholog,  # The human ortholog ID\n",
    "                    \"scopes\": \"entrezgene\",  # Input type is Entrez Gene ID\n",
    "                    \"fields\": \"ensembl.gene\",  # Retrieve Ensembl Gene ID\n",
    "                    \"species\": \"human\",  # Specify the species\n",
    "                }\n",
    "                response = requests.get(url, params=params)\n",
    "                if response.ok:\n",
    "                    data = response.json()\n",
    "                    if \"hits\" in data:\n",
    "                        for hit in data[\"hits\"]:\n",
    "                            ensembl_id = hit.get(\"ensembl\", {}).get(\"gene\", None)\n",
    "                            if ensembl_id:\n",
    "                                human_ensembl_ids.append((gene, ensembl_id))\n",
    "\n",
    "# Display the results\n",
    "for mouse_gene, human_ensembl in human_ensembl_ids:\n",
    "    print(f\"Mouse Gene: {mouse_gene} -> Human Ortholog (Ensembl): {human_ensembl}\")\n"
   ]
  },
  {
   "cell_type": "code",
   "execution_count": 87,
   "metadata": {},
   "outputs": [
    {
     "data": {
      "text/plain": [
       "True"
      ]
     },
     "execution_count": 87,
     "metadata": {},
     "output_type": "execute_result"
    }
   ],
   "source": [
    "'ENSG00000073792' in adata_nicheformer.var_names"
   ]
  },
  {
   "cell_type": "code",
   "execution_count": 85,
   "metadata": {},
   "outputs": [
    {
     "data": {
      "text/plain": [
       "Index(['ENSMUSG00000033581', 'ENSMUSG00000046550'], dtype='object', name='gene_id')"
      ]
     },
     "execution_count": 85,
     "metadata": {},
     "output_type": "execute_result"
    }
   ],
   "source": [
    "missing_genes"
   ]
  },
  {
   "cell_type": "code",
   "execution_count": 76,
   "metadata": {},
   "outputs": [],
   "source": [
    "import requests\n",
    "\n",
    "missing_genes = adata_mouse_not_shared.var_names[adata_mouse_not_shared.var[\"human_gene\"].isna()]\n",
    "\n",
    "for gene in missing_genes[:10]:  # Querying first 10 as an example\n",
    "    response = requests.get(f\"https://www.orthodb.org/v10/lookup/{gene}\")\n",
    "    if response.ok:\n",
    "        print(response.json())"
   ]
  },
  {
   "cell_type": "code",
   "execution_count": 82,
   "metadata": {},
   "outputs": [
    {
     "name": "stderr",
     "output_type": "stream",
     "text": [
      "[autoreload of numpy.matrixlib failed: Traceback (most recent call last):\n",
      "  File \"/home/nathanlevy/mambaforge/envs/scvi/lib/python3.11/site-packages/IPython/extensions/autoreload.py\", line 276, in check\n",
      "    superreload(m, reload, self.old_objects)\n",
      "  File \"/home/nathanlevy/mambaforge/envs/scvi/lib/python3.11/site-packages/IPython/extensions/autoreload.py\", line 475, in superreload\n",
      "    module = reload(module)\n",
      "             ^^^^^^^^^^^^^^\n",
      "  File \"/home/nathanlevy/mambaforge/envs/scvi/lib/python3.11/importlib/__init__.py\", line 169, in reload\n",
      "    _bootstrap._exec(spec, module)\n",
      "  File \"<frozen importlib._bootstrap>\", line 621, in _exec\n",
      "  File \"<frozen importlib._bootstrap_external>\", line 940, in exec_module\n",
      "  File \"<frozen importlib._bootstrap>\", line 241, in _call_with_frames_removed\n",
      "  File \"/home/nathanlevy/mambaforge/envs/scvi/lib/python3.11/site-packages/numpy/matrixlib/__init__.py\", line 6, in <module>\n",
      "    __all__ = defmatrix.__all__\n",
      "              ^^^^^^^^^\n",
      "NameError: name 'defmatrix' is not defined\n",
      "]\n",
      "[autoreload of numpy.lib failed: Traceback (most recent call last):\n",
      "  File \"/home/nathanlevy/mambaforge/envs/scvi/lib/python3.11/site-packages/IPython/extensions/autoreload.py\", line 276, in check\n",
      "    superreload(m, reload, self.old_objects)\n",
      "  File \"/home/nathanlevy/mambaforge/envs/scvi/lib/python3.11/site-packages/IPython/extensions/autoreload.py\", line 475, in superreload\n",
      "    module = reload(module)\n",
      "             ^^^^^^^^^^^^^^\n",
      "  File \"/home/nathanlevy/mambaforge/envs/scvi/lib/python3.11/importlib/__init__.py\", line 169, in reload\n",
      "    _bootstrap._exec(spec, module)\n",
      "  File \"<frozen importlib._bootstrap>\", line 621, in _exec\n",
      "  File \"<frozen importlib._bootstrap_external>\", line 940, in exec_module\n",
      "  File \"<frozen importlib._bootstrap>\", line 241, in _call_with_frames_removed\n",
      "  File \"/home/nathanlevy/mambaforge/envs/scvi/lib/python3.11/site-packages/numpy/lib/__init__.py\", line 44, in <module>\n",
      "    __all__ += type_check.__all__\n",
      "               ^^^^^^^^^^\n",
      "NameError: name 'type_check' is not defined\n",
      "]\n",
      "[autoreload of numpy failed: Traceback (most recent call last):\n",
      "  File \"/home/nathanlevy/mambaforge/envs/scvi/lib/python3.11/site-packages/IPython/extensions/autoreload.py\", line 276, in check\n",
      "    superreload(m, reload, self.old_objects)\n",
      "  File \"/home/nathanlevy/mambaforge/envs/scvi/lib/python3.11/site-packages/IPython/extensions/autoreload.py\", line 475, in superreload\n",
      "    module = reload(module)\n",
      "             ^^^^^^^^^^^^^^\n",
      "  File \"/home/nathanlevy/mambaforge/envs/scvi/lib/python3.11/importlib/__init__.py\", line 169, in reload\n",
      "    _bootstrap._exec(spec, module)\n",
      "  File \"<frozen importlib._bootstrap>\", line 621, in _exec\n",
      "  File \"<frozen importlib._bootstrap_external>\", line 940, in exec_module\n",
      "  File \"<frozen importlib._bootstrap>\", line 241, in _call_with_frames_removed\n",
      "  File \"/home/nathanlevy/mambaforge/envs/scvi/lib/python3.11/site-packages/numpy/__init__.py\", line 191, in <module>\n",
      "    core.numerictypes.typeDict,\n",
      "    ^^^^^^^^^^^^^^^^^\n",
      "  File \"/home/nathanlevy/mambaforge/envs/scvi/lib/python3.11/site-packages/numpy/core/__init__.py\", line 161, in __getattr__\n",
      "    raise AttributeError(f\"Module {__name__!r} has no attribute {name!r}\")\n",
      "AttributeError: Module 'numpy.core' has no attribute 'numerictypes'\n",
      "]\n"
     ]
    },
    {
     "ename": "ImportError",
     "evalue": "cannot import name 'alwayslist' from 'biothings_client' (/home/nathanlevy/mambaforge/envs/scvi/lib/python3.11/site-packages/biothings_client/__init__.py)",
     "output_type": "error",
     "traceback": [
      "\u001b[0;31m---------------------------------------------------------------------------\u001b[0m",
      "\u001b[0;31mImportError\u001b[0m                               Traceback (most recent call last)",
      "Cell \u001b[0;32mIn[82], line 1\u001b[0m\n\u001b[0;32m----> 1\u001b[0m \u001b[38;5;28;01mimport\u001b[39;00m \u001b[38;5;21;01mmygene\u001b[39;00m\n\u001b[1;32m      3\u001b[0m \u001b[38;5;66;03m# Initialize MyGene.info client\u001b[39;00m\n\u001b[1;32m      4\u001b[0m mg \u001b[38;5;241m=\u001b[39m mygene\u001b[38;5;241m.\u001b[39mMyGeneInfo()\n",
      "File \u001b[0;32m~/mambaforge/envs/scvi/lib/python3.11/site-packages/mygene/__init__.py:6\u001b[0m\n\u001b[1;32m      1\u001b[0m \u001b[38;5;124;03m'''\u001b[39;00m\n\u001b[1;32m      2\u001b[0m \u001b[38;5;124;03mPython Client for MyGene.Info services\u001b[39;00m\n\u001b[1;32m      3\u001b[0m \u001b[38;5;124;03m'''\u001b[39;00m\n\u001b[1;32m      4\u001b[0m \u001b[38;5;66;03m# import alwayslist helper function here in case users\u001b[39;00m\n\u001b[1;32m      5\u001b[0m \u001b[38;5;66;03m# still use \"from mygene import alwayslist\"\u001b[39;00m\n\u001b[0;32m----> 6\u001b[0m \u001b[38;5;28;01mfrom\u001b[39;00m \u001b[38;5;21;01mbiothings_client\u001b[39;00m \u001b[38;5;28;01mimport\u001b[39;00m alwayslist, get_client\n\u001b[1;32m      8\u001b[0m __version__ \u001b[38;5;241m=\u001b[39m \u001b[38;5;124m'\u001b[39m\u001b[38;5;124m3.2.2\u001b[39m\u001b[38;5;124m'\u001b[39m\n\u001b[1;32m     11\u001b[0m \u001b[38;5;28;01mclass\u001b[39;00m \u001b[38;5;21;01mMyGeneInfo\u001b[39;00m(get_client(\u001b[38;5;124m'\u001b[39m\u001b[38;5;124mgene\u001b[39m\u001b[38;5;124m'\u001b[39m, instance\u001b[38;5;241m=\u001b[39m\u001b[38;5;28;01mFalse\u001b[39;00m)):\n",
      "\u001b[0;31mImportError\u001b[0m: cannot import name 'alwayslist' from 'biothings_client' (/home/nathanlevy/mambaforge/envs/scvi/lib/python3.11/site-packages/biothings_client/__init__.py)"
     ]
    }
   ],
   "source": [
    "import mygene\n",
    "\n",
    "# Initialize MyGene.info client\n",
    "mg = mygene.MyGeneInfo()\n",
    "\n",
    "# List of mouse genes to query\n",
    "mouse_genes = [\"ENSMUSG00000033581\", \"ENSMUSG00000046550\"]\n",
    "\n",
    "# Query MyGene.info for orthologs\n",
    "results = mg.querymany(\n",
    "    mouse_genes,\n",
    "    scopes=\"ensembl.gene\",  # Specify that you're querying Ensembl gene IDs\n",
    "    fields=\"homologene\",  # Request homology information\n",
    "    species=\"mouse\",  # Specify mouse as the input species\n",
    ")\n",
    "\n",
    "# Process the results\n",
    "orthologs = {}\n",
    "for res in results:\n",
    "    if \"homologene\" in res and \"human\" in res[\"homologene\"]:\n",
    "        orthologs[res[\"query\"]] = res[\"homologene\"][\"human\"]\n",
    "\n",
    "# Output the orthologs\n",
    "print(\"Orthologs found:\")\n",
    "for mouse_gene, human_gene in orthologs.items():\n",
    "    print(f\"{mouse_gene} -> {human_gene}\")"
   ]
  },
  {
   "cell_type": "code",
   "execution_count": 32,
   "metadata": {},
   "outputs": [],
   "source": [
    "del adata_mouse_mapped.varm[\"PCs\"]\n",
    "del adata_mouse_shared.varm[\"PCs\"]"
   ]
  },
  {
   "cell_type": "code",
   "execution_count": 33,
   "metadata": {},
   "outputs": [
    {
     "data": {
      "text/plain": [
       "AxisArrays with keys: "
      ]
     },
     "execution_count": 33,
     "metadata": {},
     "output_type": "execute_result"
    }
   ],
   "source": [
    "adata_mouse_mapped.varm"
   ]
  },
  {
   "cell_type": "code",
   "execution_count": 34,
   "metadata": {},
   "outputs": [
    {
     "name": "stderr",
     "output_type": "stream",
     "text": [
      "/home/nathanlevy/mambaforge/envs/scvi/lib/python3.11/site-packages/anndata/_core/anndata.py:1758: UserWarning: Variable names are not unique. To make them unique, call `.var_names_make_unique`.\n",
      "  utils.warn_names_duplicates(\"var\")\n",
      "/home/nathanlevy/mambaforge/envs/scvi/lib/python3.11/site-packages/anndata/_core/anndata.py:1758: UserWarning: Variable names are not unique. To make them unique, call `.var_names_make_unique`.\n",
      "  utils.warn_names_duplicates(\"var\")\n"
     ]
    },
    {
     "data": {
      "text/plain": [
       "AnnData object with n_obs × n_vars = 250790 × 1120\n",
       "    var: 'gene_name', 'feature_is_filtered', 'feature_name', 'feature_reference', 'feature_biotype', 'feature_length', 'mt', 'n_cells_by_counts', 'mean_counts', 'log1p_mean_counts', 'pct_dropout_by_counts', 'total_counts', 'log1p_total_counts', 'human_gene'\n",
       "    layers: 'counts'"
      ]
     },
     "execution_count": 34,
     "metadata": {},
     "output_type": "execute_result"
    }
   ],
   "source": [
    "# Combine shared and mapped genes\n",
    "adata_combined = ad.concat([adata_mouse_shared, adata_mouse_mapped], join=\"outer\", axis=1)\n",
    "adata_combined.var_names_make_unique()\n",
    "adata_combined"
   ]
  },
  {
   "cell_type": "code",
   "execution_count": 35,
   "metadata": {},
   "outputs": [
    {
     "data": {
      "text/plain": [
       "False"
      ]
     },
     "execution_count": 35,
     "metadata": {},
     "output_type": "execute_result"
    }
   ],
   "source": [
    "False in adata_combined.var_names.notnull()"
   ]
  },
  {
   "cell_type": "code",
   "execution_count": 36,
   "metadata": {},
   "outputs": [
    {
     "data": {
      "text/plain": [
       "False"
      ]
     },
     "execution_count": 36,
     "metadata": {},
     "output_type": "execute_result"
    }
   ],
   "source": [
    "True in adata_combined.var_names.isna()"
   ]
  },
  {
   "cell_type": "code",
   "execution_count": 37,
   "metadata": {},
   "outputs": [
    {
     "name": "stderr",
     "output_type": "stream",
     "text": [
      "/home/nathanlevy/mambaforge/envs/scvi/lib/python3.11/site-packages/anndata/_core/merge.py:1410: UserWarning: Only some AnnData objects have `.raw` attribute, not concatenating `.raw` attributes.\n",
      "  warn(\n"
     ]
    }
   ],
   "source": [
    "# format data properly with the model\n",
    "adata_concat = ad.concat([adata_nicheformer, adata_combined], join=\"outer\", axis=0)\n",
    "# dropping the first observation\n",
    "adata_concat = adata_concat[1:].copy()"
   ]
  },
  {
   "cell_type": "code",
   "execution_count": 38,
   "metadata": {},
   "outputs": [],
   "source": [
    "# # Update gene names in adata_mouse to match the model\n",
    "# adata_mouse.var[\"original_mouse_gene\"] = adata_mouse.var_names  # Save original names\n",
    "# adata_mouse.var_names = mapped_genes\n",
    "\n",
    "# # Filter out unmapped genes\n",
    "# adata_mouse = adata_mouse[:, adata_mouse.var_names.notnull()].copy()\n",
    "\n",
    "# # Verify\n",
    "# print(f\"Number of mapped genes: {adata_mouse.n_vars}\")"
   ]
  },
  {
   "cell_type": "code",
   "execution_count": 39,
   "metadata": {},
   "outputs": [
    {
     "data": {
      "text/html": [
       "<pre style=\"white-space:pre;overflow-x:auto;line-height:normal;font-family:Menlo,'DejaVu Sans Mono',consolas,'Courier New',monospace\">Model obs index unique: <span style=\"color: #00ff00; text-decoration-color: #00ff00; font-style: italic\">True</span>\n",
       "</pre>\n"
      ],
      "text/plain": [
       "Model obs index unique: \u001b[3;92mTrue\u001b[0m\n"
      ]
     },
     "metadata": {},
     "output_type": "display_data"
    },
    {
     "data": {
      "text/html": [
       "<pre style=\"white-space:pre;overflow-x:auto;line-height:normal;font-family:Menlo,'DejaVu Sans Mono',consolas,'Courier New',monospace\">Model var index unique: <span style=\"color: #00ff00; text-decoration-color: #00ff00; font-style: italic\">True</span>\n",
       "</pre>\n"
      ],
      "text/plain": [
       "Model var index unique: \u001b[3;92mTrue\u001b[0m\n"
      ]
     },
     "metadata": {},
     "output_type": "display_data"
    },
    {
     "data": {
      "text/html": [
       "<pre style=\"white-space:pre;overflow-x:auto;line-height:normal;font-family:Menlo,'DejaVu Sans Mono',consolas,'Courier New',monospace\">Mouse obs index unique: <span style=\"color: #00ff00; text-decoration-color: #00ff00; font-style: italic\">True</span>\n",
       "</pre>\n"
      ],
      "text/plain": [
       "Mouse obs index unique: \u001b[3;92mTrue\u001b[0m\n"
      ]
     },
     "metadata": {},
     "output_type": "display_data"
    },
    {
     "data": {
      "text/html": [
       "<pre style=\"white-space:pre;overflow-x:auto;line-height:normal;font-family:Menlo,'DejaVu Sans Mono',consolas,'Courier New',monospace\">Mouse var index unique: <span style=\"color: #00ff00; text-decoration-color: #00ff00; font-style: italic\">True</span>\n",
       "</pre>\n"
      ],
      "text/plain": [
       "Mouse var index unique: \u001b[3;92mTrue\u001b[0m\n"
      ]
     },
     "metadata": {},
     "output_type": "display_data"
    }
   ],
   "source": [
    "print(\"Model obs index unique:\", adata_nicheformer.obs.index.is_unique)\n",
    "print(\"Model var index unique:\", adata_nicheformer.var.index.is_unique)\n",
    "\n",
    "print(\"Mouse obs index unique:\", adata_mouse.obs.index.is_unique)\n",
    "print(\"Mouse var index unique:\", adata_mouse.var.index.is_unique)"
   ]
  },
  {
   "cell_type": "code",
   "execution_count": 40,
   "metadata": {},
   "outputs": [],
   "source": [
    "adata_mouse.var_names_make_unique()\n",
    "adata_nicheformer.var_names_make_unique()"
   ]
  },
  {
   "cell_type": "code",
   "execution_count": 41,
   "metadata": {},
   "outputs": [],
   "source": [
    "# # format data properly with the model\n",
    "# adata_concat = ad.concat([adata_nicheformer, adata_mouse], join=\"outer\", axis=0)\n",
    "# # dropping the first observation\n",
    "# adata_concat = adata_concat[1:].copy()"
   ]
  },
  {
   "cell_type": "code",
   "execution_count": 42,
   "metadata": {},
   "outputs": [
    {
     "data": {
      "text/plain": [
       "AnnData object with n_obs × n_vars = 250790 × 20310\n",
       "    obs: 'soma_joinid', 'is_primary_data', 'dataset_id', 'donor_id', 'assay', 'cell_type', 'development_stage', 'disease', 'tissue', 'tissue_general', 'specie', 'technology', 'dataset', 'x', 'y', 'assay_ontology_term_id', 'sex_ontology_term_id', 'organism_ontology_term_id', 'tissue_ontology_term_id', 'suspension_type', 'condition_id', 'tissue_type', 'library_key', 'organism', 'sex', 'niche', 'region', 'nicheformer_split', 'author_cell_type', 'batch'\n",
       "    layers: 'counts'"
      ]
     },
     "execution_count": 42,
     "metadata": {},
     "output_type": "execute_result"
    }
   ],
   "source": [
    "adata_concat"
   ]
  },
  {
   "cell_type": "markdown",
   "metadata": {},
   "source": [
    "As a reference, the metadata tokens are \n",
    "\n",
    "modality_dict = {\n",
    "    'dissociated': 3,\n",
    "    'spatial': 4,}\n",
    "\n",
    "specie_dict = {\n",
    "    'human': 5,\n",
    "    'Homo sapiens': 5,\n",
    "    'Mus musculus': 6,\n",
    "    'mouse': 6,}\n",
    "\n",
    "technology_dict = {\n",
    "    \"merfish\": 7,\n",
    "    \"MERFISH\": 7,\n",
    "    \"cosmx\": 8,\n",
    "    \"NanoString digital spatial profiling\": 8,\n",
    "    \"visium\": 9,\n",
    "    \"10x 5' v2\": 10,\n",
    "    \"10x 3' v3\": 11,\n",
    "    \"10x 3' v2\": 12,\n",
    "    \"10x 5' v1\": 13,\n",
    "    \"10x 3' v1\": 14,\n",
    "    \"10x 3' transcription profiling\": 15, \n",
    "    \"10x transcription profiling\": 15,\n",
    "    \"10x 5' transcription profiling\": 16,\n",
    "    \"CITE-seq\": 17, \n",
    "    \"Smart-seq v4\": 18,\n",
    "}"
   ]
  },
  {
   "cell_type": "code",
   "execution_count": 56,
   "metadata": {},
   "outputs": [
    {
     "data": {
      "text/plain": [
       "AnnData object with n_obs × n_vars = 250790 × 20310\n",
       "    obs: 'soma_joinid', 'is_primary_data', 'dataset_id', 'donor_id', 'assay', 'cell_type', 'development_stage', 'disease', 'tissue', 'tissue_general', 'specie', 'technology', 'dataset', 'x', 'y', 'assay_ontology_term_id', 'sex_ontology_term_id', 'organism_ontology_term_id', 'tissue_ontology_term_id', 'suspension_type', 'condition_id', 'tissue_type', 'library_key', 'organism', 'sex', 'niche', 'region', 'nicheformer_split', 'author_cell_type', 'batch', 'modality'\n",
       "    layers: 'counts'"
      ]
     },
     "execution_count": 56,
     "metadata": {},
     "output_type": "execute_result"
    }
   ],
   "source": [
    "# Change accordingly\n",
    "\n",
    "adata_concat.obs[\"modality\"] = 4  # spatial\n",
    "adata_concat.obs[\"specie\"] = 6  # mouse\n",
    "adata_concat.obs[\"technology\"] = 7  # mouse\n",
    "adata_concat"
   ]
  },
  {
   "cell_type": "code",
   "execution_count": 57,
   "metadata": {},
   "outputs": [
    {
     "data": {
      "text/plain": [
       "99119258951401284221813451836785008968-0     train\n",
       "95610536408155075407048305276227824006-0     train\n",
       "94627996433995692958551448758698866723-0     train\n",
       "10618021078266319649091845116122351158-0     train\n",
       "89038554173344823793949504602728291142-0     train\n",
       "                                             ...  \n",
       "198804031042921944377635730961789487507-1    train\n",
       "156934588469937564968781740624428245657-1    train\n",
       "155321557493369021799199720361468240742-1    train\n",
       "24226418575755266420023086883481701930-1     train\n",
       "308372198820486739554187228970484789236-1    train\n",
       "Name: nicheformer_split, Length: 250790, dtype: object"
      ]
     },
     "execution_count": 57,
     "metadata": {},
     "output_type": "execute_result"
    }
   ],
   "source": [
    "adata_concat.obs[\"nicheformer_split\"] = \"train\"\n",
    "adata_concat.obs[\"nicheformer_split\"]"
   ]
  },
  {
   "cell_type": "code",
   "execution_count": 58,
   "metadata": {},
   "outputs": [
    {
     "name": "stdout",
     "output_type": "stream",
     "text": [
      "Processing 250790 cells for train split\n"
     ]
    },
    {
     "name": "stderr",
     "output_type": "stream",
     "text": [
      "100%|██████████| 251/251 [02:25<00:00,  1.72it/s]\n"
     ]
    }
   ],
   "source": [
    "# Create dataset\n",
    "dataset = NicheformerDataset(\n",
    "    adata=adata_concat,\n",
    "    technology_mean=technology_mean,\n",
    "    split=\"train\",\n",
    "    max_seq_len=1500,\n",
    "    aux_tokens=config.get(\"aux_tokens\", 30),\n",
    "    chunk_size=config.get(\"chunk_size\", 1000),\n",
    ")\n",
    "\n",
    "# Create dataloader\n",
    "dataloader = DataLoader(\n",
    "    dataset, batch_size=config[\"batch_size\"], shuffle=False, num_workers=config.get(\"num_workers\", 4), pin_memory=True\n",
    ")"
   ]
  },
  {
   "cell_type": "markdown",
   "metadata": {},
   "source": [
    "## Load Model and Set Up Trainer"
   ]
  },
  {
   "cell_type": "code",
   "execution_count": 59,
   "metadata": {},
   "outputs": [
    {
     "name": "stderr",
     "output_type": "stream",
     "text": [
      "/home/nathanlevy/mambaforge/envs/scvi/lib/python3.11/site-packages/pytorch_lightning/utilities/migration/utils.py:51: PossibleUserWarning: The loaded checkpoint was produced with Lightning v2.0.7, which is newer than your current Lightning version: v2.0.4\n",
      "  rank_zero_warn(\n",
      "/home/nathanlevy/mambaforge/envs/scvi/lib/python3.11/site-packages/pytorch_lightning/core/saving.py:160: UserWarning: Found keys that are in the model state dict but not in the checkpoint: ['pos']\n",
      "  rank_zero_warn(\n",
      "GPU available: True (cuda), used: True\n",
      "TPU available: False, using: 0 TPU cores\n",
      "IPU available: False, using: 0 IPUs\n",
      "HPU available: False, using: 0 HPUs\n"
     ]
    }
   ],
   "source": [
    "# Load pre-trained model\n",
    "model = Nicheformer.load_from_checkpoint(checkpoint_path=config[\"checkpoint_path\"], strict=False)\n",
    "model.eval()  # Set to evaluation mode\n",
    "\n",
    "# Configure trainer\n",
    "trainer = pl.Trainer(\n",
    "    accelerator=\"gpu\" if torch.cuda.is_available() else \"cpu\",\n",
    "    devices=1,\n",
    "    default_root_dir=config[\"output_dir\"],\n",
    "    precision=config.get(\"precision\", 32),\n",
    ")"
   ]
  },
  {
   "cell_type": "markdown",
   "metadata": {},
   "source": [
    "## Extract Embeddings"
   ]
  },
  {
   "cell_type": "code",
   "execution_count": 60,
   "metadata": {},
   "outputs": [
    {
     "data": {
      "text/html": [
       "<pre style=\"white-space:pre;overflow-x:auto;line-height:normal;font-family:Menlo,'DejaVu Sans Mono',consolas,'Courier New',monospace\">Extracting embeddings<span style=\"color: #808000; text-decoration-color: #808000\">...</span>\n",
       "</pre>\n"
      ],
      "text/plain": [
       "Extracting embeddings\u001b[33m...\u001b[0m\n"
      ]
     },
     "metadata": {},
     "output_type": "display_data"
    },
    {
     "name": "stderr",
     "output_type": "stream",
     "text": [
      "  0%|          | 0/7838 [00:00<?, ?it/s]/home/nathanlevy/mambaforge/envs/scvi/lib/python3.11/site-packages/torch/nn/modules/transformer.py:562: UserWarning: Converting mask without torch.bool dtype to bool; this will negatively affect performance. Prefer to use a boolean mask directly. (Triggered internally at /opt/conda/conda-bld/pytorch_1682343995622/work/aten/src/ATen/native/transformers/attention.cpp:150.)\n",
      "  return torch._transformer_encoder_layer_fwd(\n",
      "100%|██████████| 7838/7838 [1:45:29<00:00,  1.24it/s]\n"
     ]
    }
   ],
   "source": [
    "print(\"Extracting embeddings...\")\n",
    "embeddings = []\n",
    "device = model.embeddings.weight.device\n",
    "\n",
    "with torch.no_grad():\n",
    "    for batch in tqdm(dataloader):\n",
    "        # Move batch to device\n",
    "        batch = {k: v.to(device) if isinstance(v, torch.Tensor) else v for k, v in batch.items()}\n",
    "\n",
    "        # Get embeddings from the model\n",
    "        emb = model.get_embeddings(\n",
    "            batch=batch,\n",
    "            layer=config.get(\"embedding_layer\", -1),  # Default to last layer\n",
    "        )\n",
    "        embeddings.append(emb.cpu().numpy())\n",
    "\n",
    "\n",
    "# Concatenate all embeddings\n",
    "embeddings = np.concatenate(embeddings, axis=0)"
   ]
  },
  {
   "cell_type": "markdown",
   "metadata": {},
   "source": [
    "## Save Results"
   ]
  },
  {
   "cell_type": "code",
   "execution_count": 61,
   "metadata": {},
   "outputs": [
    {
     "data": {
      "text/html": [
       "<pre style=\"white-space:pre;overflow-x:auto;line-height:normal;font-family:Menlo,'DejaVu Sans Mono',consolas,'Courier New',monospace\">Embeddings saved to data_with_embeddings.h5ad in obsm<span style=\"font-weight: bold\">[</span><span style=\"color: #008000; text-decoration-color: #008000\">'X_niche_embeddings'</span><span style=\"font-weight: bold\">]</span>\n",
       "</pre>\n"
      ],
      "text/plain": [
       "Embeddings saved to data_with_embeddings.h5ad in obsm\u001b[1m[\u001b[0m\u001b[32m'X_niche_embeddings'\u001b[0m\u001b[1m]\u001b[0m\n"
      ]
     },
     "metadata": {},
     "output_type": "display_data"
    }
   ],
   "source": [
    "# Store embeddings in AnnData object\n",
    "embedding_key = f\"X_niche_{config.get('embedding_name', 'embeddings')}\"\n",
    "adata_concat.obsm[embedding_key] = embeddings\n",
    "\n",
    "# Save updated AnnData\n",
    "adata_concat.write_h5ad(config[\"output_path\"])\n",
    "\n",
    "print(f\"Embeddings saved to {config['output_path']} in obsm['{embedding_key}']\")"
   ]
  },
  {
   "cell_type": "code",
   "execution_count": 63,
   "metadata": {},
   "outputs": [
    {
     "data": {
      "text/plain": [
       "(250790, 512)"
      ]
     },
     "execution_count": 63,
     "metadata": {},
     "output_type": "execute_result"
    }
   ],
   "source": [
    "embeddings.shape"
   ]
  },
  {
   "cell_type": "code",
   "execution_count": 78,
   "metadata": {},
   "outputs": [
    {
     "data": {
      "text/plain": [
       "AnnData object with n_obs × n_vars = 250790 × 20310\n",
       "    obs: 'soma_joinid', 'is_primary_data', 'dataset_id', 'donor_id', 'assay', 'cell_type', 'development_stage', 'disease', 'tissue', 'tissue_general', 'specie', 'technology', 'dataset', 'x', 'y', 'assay_ontology_term_id', 'sex_ontology_term_id', 'organism_ontology_term_id', 'tissue_ontology_term_id', 'suspension_type', 'condition_id', 'tissue_type', 'library_key', 'organism', 'sex', 'niche', 'region', 'nicheformer_split', 'author_cell_type', 'batch', 'modality'\n",
       "    obsm: 'X_niche_embeddings'\n",
       "    layers: 'counts'"
      ]
     },
     "execution_count": 78,
     "metadata": {},
     "output_type": "execute_result"
    }
   ],
   "source": [
    "adata_embedding = ad.read_h5ad(config[\"output_path\"])\n",
    "adata_embedding"
   ]
  },
  {
   "cell_type": "code",
   "execution_count": 80,
   "metadata": {},
   "outputs": [],
   "source": [
    "adata_mouse.obsm['X_nicheformer'] = adata_embedding.obsm['X_niche_embeddings'].copy()"
   ]
  },
  {
   "cell_type": "code",
   "execution_count": 81,
   "metadata": {},
   "outputs": [],
   "source": [
    "adata_mouse.write_h5ad(config[\"data_path\"])"
   ]
  }
 ],
 "metadata": {
  "kernelspec": {
   "display_name": "scvi",
   "language": "python",
   "name": "python3"
  },
  "language_info": {
   "codemirror_mode": {
    "name": "ipython",
    "version": 3
   },
   "file_extension": ".py",
   "mimetype": "text/x-python",
   "name": "python",
   "nbconvert_exporter": "python",
   "pygments_lexer": "ipython3",
   "version": "3.11.4"
  }
 },
 "nbformat": 4,
 "nbformat_minor": 4
}
