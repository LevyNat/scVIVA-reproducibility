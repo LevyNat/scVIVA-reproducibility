{
 "cells": [
  {
   "cell_type": "markdown",
   "id": "4a36f9a3-6956-4f29-8c8c-8b30454894be",
   "metadata": {},
   "source": [
    "# CosMx human lung"
   ]
  },
  {
   "cell_type": "markdown",
   "id": "7cbe02a7-5fe9-406c-aaf5-98b8d7432fe7",
   "metadata": {},
   "source": [
    "This notebook is used to tokenize the CosMx human lung dataset and generate dataset statistics for figures in nicheformer. "
   ]
  },
  {
   "cell_type": "markdown",
   "id": "402fff9d-b7dd-4740-b6b7-c3cf1c156368",
   "metadata": {},
   "source": [
    "## Imports and definitions"
   ]
  },
  {
   "cell_type": "code",
   "execution_count": 1,
   "id": "9163be33-5092-475c-826c-9c9bb61344a0",
   "metadata": {},
   "outputs": [],
   "source": [
    "import scanpy as sc\n",
    "import anndata as ad\n",
    "import pandas as pd\n",
    "import numpy as np\n",
    "import math\n",
    "import numba\n",
    "from scipy.sparse import issparse\n",
    "from sklearn.utils import sparsefuncs\n",
    "\n",
    "import pyarrow.parquet as pq\n",
    "import pyarrow\n",
    "from os.path import join\n",
    "from tqdm import tqdm"
   ]
  },
  {
   "cell_type": "code",
   "execution_count": 2,
   "id": "0aed9d83-e87b-43ee-9321-ecc5341c9178",
   "metadata": {},
   "outputs": [],
   "source": [
    "modality_dict = {\n",
    "    'dissociated': 3,\n",
    "    'spatial': 4,}\n",
    "\n",
    "specie_dict = {\n",
    "    'human': 5,\n",
    "    'Homo sapiens': 5,\n",
    "    'Mus musculus': 6,\n",
    "    'mouse': 6,}\n",
    "\n",
    "technology_dict = {\n",
    "    \"merfish\": 7,\n",
    "    \"MERFISH\": 7,\n",
    "    \"cosmx\": 8,\n",
    "    \"NanoString digital spatial profiling\": 8,\n",
    "    \"visium\": 9,\n",
    "    \"10x 5' v2\": 10,\n",
    "    \"10x 3' v3\": 11,\n",
    "    \"10x 3' v2\": 12,\n",
    "    \"10x 5' v1\": 13,\n",
    "    \"10x 3' v1\": 14,\n",
    "    \"10x 3' transcription profiling\": 15, \n",
    "    \"10x transcription profiling\": 15,\n",
    "    \"10x 5' transcription profiling\": 16,\n",
    "    \"CITE-seq\": 17, \n",
    "    \"Smart-seq v4\": 18,\n",
    "}\n",
    "\n",
    "author_cell_type_dict = {\n",
    "    'B-cell': 0, \n",
    "    'NK': 1, \n",
    "    'T CD4 memory': 2, \n",
    "    'T CD4 naive': 3, \n",
    "    'T CD8 memory': 4,\n",
    "    'T CD8 naive': 5, \n",
    "    'Treg': 6, \n",
    "    'endothelial': 7, \n",
    "    'epithelial': 8, \n",
    "    'fibroblast': 9,\n",
    "    'mDC': 10, \n",
    "    'macrophage': 11, \n",
    "    'mast': 12, \n",
    "    'monocyte': 13, \n",
    "    'neutrophil': 14, \n",
    "    'pDC': 15,\n",
    "    'plasmablast': 16, \n",
    "    'tumor 12': 17, \n",
    "    'tumor 13': 18, \n",
    "    'tumor 5': 19, \n",
    "    'tumor 6': 20,\n",
    "    'tumor 9': 21\n",
    "}\n",
    "\n",
    "niche_label_dict = {\n",
    "    'immune': 0, \n",
    "    'lymphoid structure': 1, \n",
    "    'macrophages': 2,\n",
    "    'myeloid-enriched stroma': 3, \n",
    "    'neutrophils': 4,\n",
    "    'plasmablast-enriched stroma': 5, \n",
    "    'stroma': 6, \n",
    "    'tumor interior': 7,\n",
    "    'tumor-stroma boundary': 8\n",
    "}\n",
    "\n",
    "region_label_dict = {\n",
    "    'nan': 0\n",
    "}"
   ]
  },
  {
   "cell_type": "markdown",
   "id": "8e6e2c6d-3f41-45e7-922c-108ef61e85fc",
   "metadata": {},
   "source": [
    "## Paths"
   ]
  },
  {
   "cell_type": "code",
   "execution_count": 2,
   "id": "43c2e239-9b35-45b5-a3f8-251616599cc9",
   "metadata": {},
   "outputs": [],
   "source": [
    "BASE_PATH = '../../data/model_means'\n",
    "DATA_PATH = '' # specify path to raw nicheformer-data object for the cosmy human lung data\n",
    "OUT_PATH = '' # specify saving  path"
   ]
  },
  {
   "cell_type": "markdown",
   "id": "32169bf7-dd68-47d1-a559-312715a0ebac",
   "metadata": {},
   "source": [
    "## Tokenization functions"
   ]
  },
  {
   "cell_type": "code",
   "execution_count": 4,
   "id": "16078bd5-f188-4f84-ad8a-4efb1ec1c113",
   "metadata": {},
   "outputs": [],
   "source": [
    "def sf_normalize(X):\n",
    "    X = X.copy()\n",
    "    counts = np.array(X.sum(axis=1))\n",
    "    # avoid zero devision error\n",
    "    counts += counts == 0.\n",
    "    # normalize to 10000. counts\n",
    "    scaling_factor = 10000. / counts\n",
    "\n",
    "    if issparse(X):\n",
    "        sparsefuncs.inplace_row_scale(X, scaling_factor)\n",
    "    else:\n",
    "        np.multiply(X, scaling_factor.reshape((-1, 1)), out=X)\n",
    "\n",
    "    return X\n",
    "\n",
    "@numba.jit(nopython=True, nogil=True)\n",
    "def _sub_tokenize_data(x: np.array, max_seq_len: int = -1, aux_tokens: int = 30):\n",
    "    scores_final = np.empty((x.shape[0], max_seq_len if max_seq_len > 0 else x.shape[1]))\n",
    "    for i, cell in enumerate(x):\n",
    "        nonzero_mask = np.nonzero(cell)[0]    \n",
    "        sorted_indices = nonzero_mask[np.argsort(-cell[nonzero_mask])][:max_seq_len] \n",
    "        sorted_indices = sorted_indices + aux_tokens # we reserve some tokens for padding etc (just in case)\n",
    "        if max_seq_len:\n",
    "            scores = np.zeros(max_seq_len, dtype=np.int32)\n",
    "        else:\n",
    "            scores = np.zeros_like(cell, dtype=np.int32)\n",
    "        scores[:len(sorted_indices)] = sorted_indices.astype(np.int32)\n",
    "        \n",
    "        scores_final[i, :] = scores\n",
    "        \n",
    "    return scores_final\n",
    "\n",
    "\n",
    "def tokenize_data(x: np.array, median_counts_per_gene: np.array, max_seq_len: int = None):\n",
    "    \"\"\"Tokenize the input gene vector to a vector of 32-bit integers.\"\"\"\n",
    "\n",
    "    x = np.nan_to_num(x) # is NaN values, fill with 0s\n",
    "    x = sf_normalize(x)\n",
    "    median_counts_per_gene += median_counts_per_gene == 0\n",
    "    out = x / median_counts_per_gene.reshape((1, -1))\n",
    "\n",
    "    scores_final = _sub_tokenize_data(out, 4096, 30)\n",
    "\n",
    "    return scores_final.astype('i4')"
   ]
  },
  {
   "cell_type": "markdown",
   "id": "1ea82e76-463b-4e0f-98d6-a694cd82f16a",
   "metadata": {},
   "source": [
    "## Loading model with right gene ordering"
   ]
  },
  {
   "cell_type": "code",
   "execution_count": 5,
   "id": "7d955242-a076-4813-959c-5e94a1c750c5",
   "metadata": {},
   "outputs": [],
   "source": [
    "model = sc.read_h5ad(\n",
    "    f\"{BASE_PATH}/model.h5ad\"\n",
    ")"
   ]
  },
  {
   "cell_type": "markdown",
   "id": "118644ba-2046-4b6d-a781-113b4f5e48bb",
   "metadata": {},
   "source": [
    "## Technology mean"
   ]
  },
  {
   "cell_type": "code",
   "execution_count": 6,
   "id": "47d4596c-3b25-44cf-b338-81c8b2d8ec93",
   "metadata": {},
   "outputs": [],
   "source": [
    "cosmx_mean = np.load(\n",
    "    f\"{BASE_PATH}/cosmx_mean_script.npy\")"
   ]
  },
  {
   "cell_type": "code",
   "execution_count": 7,
   "id": "ef3833d5-0554-406a-9eb4-1f6bf3de1847",
   "metadata": {},
   "outputs": [
    {
     "data": {
      "text/plain": [
       "array([1., 1., 1., ..., 1., 1., 1.])"
      ]
     },
     "execution_count": 7,
     "metadata": {},
     "output_type": "execute_result"
    }
   ],
   "source": [
    "cosmx_mean = np.nan_to_num(cosmx_mean)\n",
    "rounded_values = np.where((cosmx_mean % 1) >= 0.5, np.ceil(cosmx_mean), np.floor(cosmx_mean))\n",
    "cosmx_mean = np.where(cosmx_mean == 0, 1, rounded_values)\n",
    "cosmx_mean"
   ]
  },
  {
   "cell_type": "markdown",
   "id": "66cc812a-17ea-4231-88b8-d116495aa72d",
   "metadata": {},
   "source": [
    "## Loading CosMx lung data"
   ]
  },
  {
   "cell_type": "code",
   "execution_count": 3,
   "id": "1472668a-4fc3-433b-bebc-588e36218520",
   "metadata": {},
   "outputs": [
    {
     "data": {
      "text/plain": [
       "AnnData object with n_obs × n_vars = 771236 × 960\n",
       "    obs: 'AspectRatio', 'CenterX_global_px', 'CenterY_global_px', 'Width', 'Height', 'Mean.MembraneStain', 'Max.MembraneStain', 'Mean.PanCK', 'Max.PanCK', 'Mean.CD45', 'Max.CD45', 'Mean.CD3', 'Max.CD3', 'Mean.DAPI', 'Max.DAPI', 'niche', 'image_id', 'cell_ID', 'sex_ontology_term_id', 'assay_ontology_term_id', 'organism_ontology_term_id', 'tissue_ontology_term_id', 'suspension_type', 'tissue_type', 'condition_id', 'sample_id', 'donor_id', 'author_cell_type', 'library_key', 'region', 'assay', 'organism', 'sex', 'tissue', 'dataset', 'x', 'y', 'nicheformer_split', '_scvi_batch', '_scvi_labels'\n",
       "    var: 'level_0', 'index', 'feature_is_filtered', 'feature_name', 'feature_reference', 'feature_biotype'\n",
       "    uns: '_scvi_manager_uuid', '_scvi_uuid', 'log1p', 'niche', 'nicheformer_version', 'schema_version', 'title'\n",
       "    obsm: 'X_niche_0', 'X_niche_1', 'X_niche_2', 'X_niche_3', 'X_niche_4', 'X_pca', 'X_scvi', 'spatial'\n",
       "    layers: 'log1p', 'raw'"
      ]
     },
     "execution_count": 3,
     "metadata": {},
     "output_type": "execute_result"
    }
   ],
   "source": [
    "cosmx = sc.read_h5ad(f\"{DATA_PATH}/nanostring_lung_annotated.h5ad\")\n",
    "cosmx"
   ]
  },
  {
   "cell_type": "markdown",
   "id": "440bdde5-e481-4b38-b022-7800313ec863",
   "metadata": {},
   "source": [
    "## Concatenation\n",
    "Next we concatenate the `model` and the `cosmx` object to ensure they are in the same order. This ensures we have the same gene ordering in the object."
   ]
  },
  {
   "cell_type": "code",
   "execution_count": 17,
   "id": "5d8160b0-89cb-43b3-b0f6-e3d311698549",
   "metadata": {},
   "outputs": [],
   "source": [
    "adata = ad.concat([model, cosmx], join='outer', axis=0)\n",
    "# dropping the first observation \n",
    "cosmx = adata[1:].copy()\n",
    "# for memory efficiency \n",
    "del adata"
   ]
  },
  {
   "cell_type": "code",
   "execution_count": 18,
   "id": "ba6f3fc4-5d9a-42ec-b763-18ab735d7600",
   "metadata": {},
   "outputs": [],
   "source": [
    "cosmx.obs = cosmx.obs[\n",
    "    ['assay', 'organism', 'nicheformer_split', 'batch', 'niche', 'region', 'author_cell_type']\n",
    "]\n",
    "cosmx.obs['modality'] = 'spatial'\n",
    "cosmx.obs['specie'] = cosmx.obs.organism"
   ]
  },
  {
   "cell_type": "code",
   "execution_count": 19,
   "id": "a89262fa-6702-440b-a053-b7dd455259df",
   "metadata": {},
   "outputs": [],
   "source": [
    "cosmx.obs.replace({'specie': specie_dict}, inplace=True)\n",
    "cosmx.obs.replace({'modality': modality_dict}, inplace=True)\n",
    "cosmx.obs.replace({'assay': technology_dict}, inplace=True)\n",
    "cosmx.obs.replace({'author_cell_type': author_cell_type_dict}, inplace=True)\n",
    "cosmx.obs.replace({'niche': niche_label_dict}, inplace=True)\n",
    "cosmx.obs.replace({'region': region_label_dict}, inplace=True)"
   ]
  },
  {
   "cell_type": "markdown",
   "id": "4a5d2526-bdd6-46da-b709-d1097644dd3d",
   "metadata": {},
   "source": [
    "## Tokenize train data\n",
    "\n",
    "We know tokenize the train partition of the dataset. "
   ]
  },
  {
   "cell_type": "code",
   "execution_count": 20,
   "id": "7b65fb28-3282-4182-a25c-cd32ebbf380d",
   "metadata": {},
   "outputs": [],
   "source": [
    "SPLIT = 'train'"
   ]
  },
  {
   "cell_type": "code",
   "execution_count": 21,
   "id": "4a6a9d74-d24e-4a5c-81f3-f8215122f1b8",
   "metadata": {},
   "outputs": [],
   "source": [
    "# subsetting the anndata object\n",
    "cosmx_split = cosmx[cosmx.obs.nicheformer_split == SPLIT].copy()\n",
    "# dropping the index as the original index can create issues \n",
    "cosmx_split.obs.reset_index(drop=True, inplace=True)\n",
    "# writing the data\n",
    "cosmx_split.write(f\"{OUT_PATH}/cosmx_human_lung_{SPLIT}_ready_to_tokenize.h5ad\")"
   ]
  },
  {
   "cell_type": "code",
   "execution_count": 22,
   "id": "46fde99a-feb5-4cbe-98cb-eca38ddb9867",
   "metadata": {},
   "outputs": [
    {
     "name": "stdout",
     "output_type": "stream",
     "text": [
      "n_obs:  602123\n",
      "N_BATCHES:  61\n",
      "chunk_len:  9871\n"
     ]
    }
   ],
   "source": [
    "obs_cosmx_split = cosmx_split.obs\n",
    "print('n_obs: ', obs_cosmx_split.shape[0])\n",
    "N_BATCHES = math.ceil(obs_cosmx_split.shape[0] / 10_000)\n",
    "print('N_BATCHES: ', N_BATCHES)\n",
    "batch_cosmx_indices = np.array_split(obs_cosmx_split.index, N_BATCHES)\n",
    "chunk_len = len(batch_cosmx_indices[0])\n",
    "print('chunk_len: ', chunk_len)"
   ]
  },
  {
   "cell_type": "code",
   "execution_count": 23,
   "id": "c634d156-e6c8-4879-99ab-978d75d69cd5",
   "metadata": {},
   "outputs": [],
   "source": [
    "obs_cosmx_split = obs_cosmx_split.reset_index().rename(columns={'index':'idx'})\n",
    "obs_cosmx_split['idx'] = obs_cosmx_split['idx'].astype('i8')"
   ]
  },
  {
   "cell_type": "code",
   "execution_count": 24,
   "id": "a74c9a4b-0112-473d-ba47-41b0ca519571",
   "metadata": {},
   "outputs": [
    {
     "name": "stdout",
     "output_type": "stream",
     "text": [
      "Tokenizing train\n"
     ]
    },
    {
     "name": "stderr",
     "output_type": "stream",
     "text": [
      "100%|███████████████████████████████████████████| 61/61 [03:17<00:00,  3.24s/it]\n"
     ]
    }
   ],
   "source": [
    "print(f\"Tokenizing {SPLIT}\")\n",
    "for batch in tqdm(range(N_BATCHES)):\n",
    "    obs_tokens = obs_cosmx_split.iloc[batch*chunk_len:chunk_len*(batch+1)].copy()\n",
    "    cosmx_tokenized = tokenize_data(cosmx_split.X[batch*chunk_len:chunk_len*(batch+1)], cosmx_mean, 4096)\n",
    "\n",
    "    obs_tokens = obs_tokens[['assay', 'specie', 'modality', 'idx', 'author_cell_type', 'niche', 'region']]\n",
    "    # concatenate dataframes\n",
    "    \n",
    "    obs_tokens['X'] = [cosmx_tokenized[i, :] for i in range(cosmx_tokenized.shape[0])]\n",
    "    \n",
    "    for i in np.arange(5):\n",
    "        niche = cosmx_split.obsm[f\"X_niche_{i}\"].toarray()[batch*chunk_len:chunk_len*(batch+1)]\n",
    "        obs_tokens[f\"X_niche_{i}\"] = [niche[i, :] for i in range(niche.shape[0])]\n",
    "\n",
    "    # mix spatial and dissociate data\n",
    "    obs_tokens = obs_tokens.sample(frac=1)\n",
    "    \n",
    "    total_table = pyarrow.Table.from_pandas(obs_tokens)\n",
    "    \n",
    "    pq.write_table(total_table, f'{join(OUT_PATH, SPLIT)}/tokens-{batch}.parquet',\n",
    "                    row_group_size=1024,)"
   ]
  },
  {
   "cell_type": "code",
   "execution_count": 25,
   "id": "998a6608-8c9b-4763-863f-7acfbed47fbc",
   "metadata": {},
   "outputs": [
    {
     "data": {
      "text/html": [
       "<div>\n",
       "<style scoped>\n",
       "    .dataframe tbody tr th:only-of-type {\n",
       "        vertical-align: middle;\n",
       "    }\n",
       "\n",
       "    .dataframe tbody tr th {\n",
       "        vertical-align: top;\n",
       "    }\n",
       "\n",
       "    .dataframe thead th {\n",
       "        text-align: right;\n",
       "    }\n",
       "</style>\n",
       "<table border=\"1\" class=\"dataframe\">\n",
       "  <thead>\n",
       "    <tr style=\"text-align: right;\">\n",
       "      <th></th>\n",
       "      <th>assay</th>\n",
       "      <th>specie</th>\n",
       "      <th>modality</th>\n",
       "      <th>idx</th>\n",
       "      <th>author_cell_type</th>\n",
       "      <th>niche</th>\n",
       "      <th>region</th>\n",
       "      <th>X</th>\n",
       "      <th>X_niche_0</th>\n",
       "      <th>X_niche_1</th>\n",
       "      <th>X_niche_2</th>\n",
       "      <th>X_niche_3</th>\n",
       "      <th>X_niche_4</th>\n",
       "    </tr>\n",
       "  </thead>\n",
       "  <tbody>\n",
       "    <tr>\n",
       "      <th>593988</th>\n",
       "      <td>8</td>\n",
       "      <td>5</td>\n",
       "      <td>4</td>\n",
       "      <td>593988</td>\n",
       "      <td>2</td>\n",
       "      <td>8</td>\n",
       "      <td>0</td>\n",
       "      <td>[252, 18331, 2140, 2853, 8959, 14989, 12294, 7...</td>\n",
       "      <td>[0.0, 0.0, 0.0, 0.0, 0.0, 0.0, 0.0, 0.0, 0.0, ...</td>\n",
       "      <td>[0.0, 0.0, 3.0, 0.0, 1.0, 0.0, 0.0, 0.0, 0.0, ...</td>\n",
       "      <td>[0.0, 0.0, 5.0, 0.0, 1.0, 0.0, 0.0, 0.0, 0.0, ...</td>\n",
       "      <td>[0.0, 0.0, 9.0, 0.0, 1.0, 0.0, 0.0, 0.0, 0.0, ...</td>\n",
       "      <td>[0.0, 0.0, 14.0, 0.0, 2.0, 0.0, 0.0, 2.0, 0.0,...</td>\n",
       "    </tr>\n",
       "    <tr>\n",
       "      <th>598330</th>\n",
       "      <td>8</td>\n",
       "      <td>5</td>\n",
       "      <td>4</td>\n",
       "      <td>598330</td>\n",
       "      <td>18</td>\n",
       "      <td>7</td>\n",
       "      <td>0</td>\n",
       "      <td>[18939, 10438, 18768, 138, 16254, 12317, 1739,...</td>\n",
       "      <td>[0.0, 0.0, 0.0, 0.0, 0.0, 0.0, 0.0, 0.0, 0.0, ...</td>\n",
       "      <td>[0.0, 0.0, 0.0, 0.0, 0.0, 0.0, 0.0, 0.0, 0.0, ...</td>\n",
       "      <td>[0.0, 0.0, 1.0, 0.0, 0.0, 0.0, 0.0, 0.0, 0.0, ...</td>\n",
       "      <td>[0.0, 0.0, 3.0, 0.0, 0.0, 0.0, 0.0, 0.0, 0.0, ...</td>\n",
       "      <td>[0.0, 0.0, 5.0, 0.0, 1.0, 0.0, 0.0, 0.0, 0.0, ...</td>\n",
       "    </tr>\n",
       "  </tbody>\n",
       "</table>\n",
       "</div>"
      ],
      "text/plain": [
       "       assay specie  modality     idx author_cell_type niche region  \\\n",
       "593988     8      5         4  593988                2     8      0   \n",
       "598330     8      5         4  598330               18     7      0   \n",
       "\n",
       "                                                        X  \\\n",
       "593988  [252, 18331, 2140, 2853, 8959, 14989, 12294, 7...   \n",
       "598330  [18939, 10438, 18768, 138, 16254, 12317, 1739,...   \n",
       "\n",
       "                                                X_niche_0  \\\n",
       "593988  [0.0, 0.0, 0.0, 0.0, 0.0, 0.0, 0.0, 0.0, 0.0, ...   \n",
       "598330  [0.0, 0.0, 0.0, 0.0, 0.0, 0.0, 0.0, 0.0, 0.0, ...   \n",
       "\n",
       "                                                X_niche_1  \\\n",
       "593988  [0.0, 0.0, 3.0, 0.0, 1.0, 0.0, 0.0, 0.0, 0.0, ...   \n",
       "598330  [0.0, 0.0, 0.0, 0.0, 0.0, 0.0, 0.0, 0.0, 0.0, ...   \n",
       "\n",
       "                                                X_niche_2  \\\n",
       "593988  [0.0, 0.0, 5.0, 0.0, 1.0, 0.0, 0.0, 0.0, 0.0, ...   \n",
       "598330  [0.0, 0.0, 1.0, 0.0, 0.0, 0.0, 0.0, 0.0, 0.0, ...   \n",
       "\n",
       "                                                X_niche_3  \\\n",
       "593988  [0.0, 0.0, 9.0, 0.0, 1.0, 0.0, 0.0, 0.0, 0.0, ...   \n",
       "598330  [0.0, 0.0, 3.0, 0.0, 0.0, 0.0, 0.0, 0.0, 0.0, ...   \n",
       "\n",
       "                                                X_niche_4  \n",
       "593988  [0.0, 0.0, 14.0, 0.0, 2.0, 0.0, 0.0, 2.0, 0.0,...  \n",
       "598330  [0.0, 0.0, 5.0, 0.0, 1.0, 0.0, 0.0, 0.0, 0.0, ...  "
      ]
     },
     "execution_count": 25,
     "metadata": {},
     "output_type": "execute_result"
    }
   ],
   "source": [
    "# checking for the last object whether everything looks accurate \n",
    "obs_tokens.head(2)"
   ]
  },
  {
   "cell_type": "code",
   "execution_count": 26,
   "id": "8289e4e9-4a50-489b-a6c2-f99f483943d0",
   "metadata": {},
   "outputs": [
    {
     "data": {
      "text/html": [
       "<div>\n",
       "<style scoped>\n",
       "    .dataframe tbody tr th:only-of-type {\n",
       "        vertical-align: middle;\n",
       "    }\n",
       "\n",
       "    .dataframe tbody tr th {\n",
       "        vertical-align: top;\n",
       "    }\n",
       "\n",
       "    .dataframe thead th {\n",
       "        text-align: right;\n",
       "    }\n",
       "</style>\n",
       "<table border=\"1\" class=\"dataframe\">\n",
       "  <thead>\n",
       "    <tr style=\"text-align: right;\">\n",
       "      <th></th>\n",
       "      <th>assay</th>\n",
       "      <th>specie</th>\n",
       "      <th>modality</th>\n",
       "      <th>idx</th>\n",
       "      <th>author_cell_type</th>\n",
       "      <th>niche</th>\n",
       "      <th>region</th>\n",
       "      <th>X</th>\n",
       "      <th>X_niche_0</th>\n",
       "      <th>X_niche_1</th>\n",
       "      <th>X_niche_2</th>\n",
       "      <th>X_niche_3</th>\n",
       "      <th>X_niche_4</th>\n",
       "    </tr>\n",
       "  </thead>\n",
       "  <tbody>\n",
       "    <tr>\n",
       "      <th>593988</th>\n",
       "      <td>8</td>\n",
       "      <td>5</td>\n",
       "      <td>4</td>\n",
       "      <td>593988</td>\n",
       "      <td>2</td>\n",
       "      <td>8</td>\n",
       "      <td>0</td>\n",
       "      <td>[252, 18331, 2140, 2853, 8959, 14989, 12294, 7...</td>\n",
       "      <td>[0.0, 0.0, 0.0, 0.0, 0.0, 0.0, 0.0, 0.0, 0.0, ...</td>\n",
       "      <td>[0.0, 0.0, 3.0, 0.0, 1.0, 0.0, 0.0, 0.0, 0.0, ...</td>\n",
       "      <td>[0.0, 0.0, 5.0, 0.0, 1.0, 0.0, 0.0, 0.0, 0.0, ...</td>\n",
       "      <td>[0.0, 0.0, 9.0, 0.0, 1.0, 0.0, 0.0, 0.0, 0.0, ...</td>\n",
       "      <td>[0.0, 0.0, 14.0, 0.0, 2.0, 0.0, 0.0, 2.0, 0.0,...</td>\n",
       "    </tr>\n",
       "    <tr>\n",
       "      <th>598330</th>\n",
       "      <td>8</td>\n",
       "      <td>5</td>\n",
       "      <td>4</td>\n",
       "      <td>598330</td>\n",
       "      <td>18</td>\n",
       "      <td>7</td>\n",
       "      <td>0</td>\n",
       "      <td>[18939, 10438, 18768, 138, 16254, 12317, 1739,...</td>\n",
       "      <td>[0.0, 0.0, 0.0, 0.0, 0.0, 0.0, 0.0, 0.0, 0.0, ...</td>\n",
       "      <td>[0.0, 0.0, 0.0, 0.0, 0.0, 0.0, 0.0, 0.0, 0.0, ...</td>\n",
       "      <td>[0.0, 0.0, 1.0, 0.0, 0.0, 0.0, 0.0, 0.0, 0.0, ...</td>\n",
       "      <td>[0.0, 0.0, 3.0, 0.0, 0.0, 0.0, 0.0, 0.0, 0.0, ...</td>\n",
       "      <td>[0.0, 0.0, 5.0, 0.0, 1.0, 0.0, 0.0, 0.0, 0.0, ...</td>\n",
       "    </tr>\n",
       "  </tbody>\n",
       "</table>\n",
       "</div>"
      ],
      "text/plain": [
       "        assay  specie  modality     idx  author_cell_type  niche  region  \\\n",
       "593988      8       5         4  593988                 2      8       0   \n",
       "598330      8       5         4  598330                18      7       0   \n",
       "\n",
       "                                                        X  \\\n",
       "593988  [252, 18331, 2140, 2853, 8959, 14989, 12294, 7...   \n",
       "598330  [18939, 10438, 18768, 138, 16254, 12317, 1739,...   \n",
       "\n",
       "                                                X_niche_0  \\\n",
       "593988  [0.0, 0.0, 0.0, 0.0, 0.0, 0.0, 0.0, 0.0, 0.0, ...   \n",
       "598330  [0.0, 0.0, 0.0, 0.0, 0.0, 0.0, 0.0, 0.0, 0.0, ...   \n",
       "\n",
       "                                                X_niche_1  \\\n",
       "593988  [0.0, 0.0, 3.0, 0.0, 1.0, 0.0, 0.0, 0.0, 0.0, ...   \n",
       "598330  [0.0, 0.0, 0.0, 0.0, 0.0, 0.0, 0.0, 0.0, 0.0, ...   \n",
       "\n",
       "                                                X_niche_2  \\\n",
       "593988  [0.0, 0.0, 5.0, 0.0, 1.0, 0.0, 0.0, 0.0, 0.0, ...   \n",
       "598330  [0.0, 0.0, 1.0, 0.0, 0.0, 0.0, 0.0, 0.0, 0.0, ...   \n",
       "\n",
       "                                                X_niche_3  \\\n",
       "593988  [0.0, 0.0, 9.0, 0.0, 1.0, 0.0, 0.0, 0.0, 0.0, ...   \n",
       "598330  [0.0, 0.0, 3.0, 0.0, 0.0, 0.0, 0.0, 0.0, 0.0, ...   \n",
       "\n",
       "                                                X_niche_4  \n",
       "593988  [0.0, 0.0, 14.0, 0.0, 2.0, 0.0, 0.0, 2.0, 0.0,...  \n",
       "598330  [0.0, 0.0, 5.0, 0.0, 1.0, 0.0, 0.0, 0.0, 0.0, ...  "
      ]
     },
     "execution_count": 26,
     "metadata": {},
     "output_type": "execute_result"
    }
   ],
   "source": [
    "pd.read_parquet(f'{join(OUT_PATH, SPLIT)}/tokens-{batch}.parquet').head(2)"
   ]
  },
  {
   "cell_type": "markdown",
   "id": "1e688f61-91bf-45f8-80f3-ea784e425376",
   "metadata": {},
   "source": [
    "### Reading for testing\n",
    "We are reading one parquet file to test whether everything worked."
   ]
  },
  {
   "cell_type": "markdown",
   "id": "9ae1feee-2b7f-4e36-b51c-9dcd6bf62cc7",
   "metadata": {},
   "source": [
    "## Tokenize test data"
   ]
  },
  {
   "cell_type": "code",
   "execution_count": 27,
   "id": "8d3a082f-e1a8-40f6-8018-237a29e31330",
   "metadata": {},
   "outputs": [],
   "source": [
    "SPLIT = 'test'"
   ]
  },
  {
   "cell_type": "code",
   "execution_count": 28,
   "id": "72f93703-0e47-41ed-aec7-77cffed3b3ef",
   "metadata": {},
   "outputs": [],
   "source": [
    "# subsetting the anndata object\n",
    "cosmx_split = cosmx[cosmx.obs.nicheformer_split == SPLIT].copy()\n",
    "# dropping the index as the original index can create issues \n",
    "cosmx_split.obs.reset_index(drop=True, inplace=True)\n",
    "# writing the data\n",
    "cosmx_split.write(f\"{OUT_PATH}/cosmx_human_lung_{SPLIT}_ready_to_tokenize.h5ad\")"
   ]
  },
  {
   "cell_type": "code",
   "execution_count": 29,
   "id": "f2b636b4-c53e-4c2d-bb0c-f262b5de6e61",
   "metadata": {},
   "outputs": [
    {
     "name": "stdout",
     "output_type": "stream",
     "text": [
      "n_obs:  169113\n",
      "N_BATCHES:  17\n",
      "chunk_len:  9948\n"
     ]
    }
   ],
   "source": [
    "obs_cosmx_split = cosmx_split.obs\n",
    "print('n_obs: ', obs_cosmx_split.shape[0])\n",
    "N_BATCHES = math.ceil(obs_cosmx_split.shape[0] / 10_000)\n",
    "print('N_BATCHES: ', N_BATCHES)\n",
    "batch_cosmx_indices = np.array_split(obs_cosmx_split.index, N_BATCHES)\n",
    "chunk_len = len(batch_cosmx_indices[0])\n",
    "print('chunk_len: ', chunk_len)"
   ]
  },
  {
   "cell_type": "code",
   "execution_count": 30,
   "id": "6ca5def9-e981-4af1-bd7a-70bd1e5097b7",
   "metadata": {},
   "outputs": [],
   "source": [
    "obs_cosmx_split = obs_cosmx_split.reset_index().rename(columns={'index':'idx'})\n",
    "obs_cosmx_split['idx'] = obs_cosmx_split['idx'].astype('i8')"
   ]
  },
  {
   "cell_type": "code",
   "execution_count": 31,
   "id": "30f6de05-2079-4972-8740-83fb9e74863c",
   "metadata": {},
   "outputs": [
    {
     "name": "stdout",
     "output_type": "stream",
     "text": [
      "Tokenizing test\n"
     ]
    },
    {
     "name": "stderr",
     "output_type": "stream",
     "text": [
      "100%|███████████████████████████████████████████| 17/17 [00:44<00:00,  2.60s/it]\n"
     ]
    }
   ],
   "source": [
    "print(f\"Tokenizing {SPLIT}\")\n",
    "for batch in tqdm(range(N_BATCHES)):\n",
    "    obs_tokens = obs_cosmx_split.iloc[batch*chunk_len:chunk_len*(batch+1)].copy()\n",
    "    cosmx_tokenized = tokenize_data(cosmx_split.X[batch*chunk_len:chunk_len*(batch+1)], cosmx_mean, 4096)\n",
    "\n",
    "    obs_tokens = obs_tokens[['assay', 'specie', 'modality', 'idx', 'author_cell_type', 'niche', 'region']]\n",
    "    # concatenate dataframes\n",
    "    \n",
    "    obs_tokens['X'] = [cosmx_tokenized[i, :] for i in range(cosmx_tokenized.shape[0])]\n",
    "    \n",
    "    for i in np.arange(5):\n",
    "        niche = cosmx_split.obsm[f\"X_niche_{i}\"].toarray()[batch*chunk_len:chunk_len*(batch+1)]\n",
    "        obs_tokens[f\"X_niche_{i}\"] = [niche[i, :] for i in range(niche.shape[0])]\n",
    "\n",
    "    # mix spatial and dissociate data\n",
    "    obs_tokens = obs_tokens.sample(frac=1)\n",
    "    \n",
    "    total_table = pyarrow.Table.from_pandas(obs_tokens)\n",
    "    \n",
    "    pq.write_table(total_table, f'{join(OUT_PATH, SPLIT)}/tokens-{batch}.parquet',\n",
    "                    row_group_size=1024,)"
   ]
  },
  {
   "cell_type": "code",
   "execution_count": 32,
   "id": "e66f354e-45c2-4d89-8b84-f51a26c1f3ee",
   "metadata": {},
   "outputs": [
    {
     "data": {
      "text/html": [
       "<div>\n",
       "<style scoped>\n",
       "    .dataframe tbody tr th:only-of-type {\n",
       "        vertical-align: middle;\n",
       "    }\n",
       "\n",
       "    .dataframe tbody tr th {\n",
       "        vertical-align: top;\n",
       "    }\n",
       "\n",
       "    .dataframe thead th {\n",
       "        text-align: right;\n",
       "    }\n",
       "</style>\n",
       "<table border=\"1\" class=\"dataframe\">\n",
       "  <thead>\n",
       "    <tr style=\"text-align: right;\">\n",
       "      <th></th>\n",
       "      <th>assay</th>\n",
       "      <th>specie</th>\n",
       "      <th>modality</th>\n",
       "      <th>idx</th>\n",
       "      <th>author_cell_type</th>\n",
       "      <th>niche</th>\n",
       "      <th>region</th>\n",
       "      <th>X</th>\n",
       "      <th>X_niche_0</th>\n",
       "      <th>X_niche_1</th>\n",
       "      <th>X_niche_2</th>\n",
       "      <th>X_niche_3</th>\n",
       "      <th>X_niche_4</th>\n",
       "    </tr>\n",
       "  </thead>\n",
       "  <tbody>\n",
       "    <tr>\n",
       "      <th>167916</th>\n",
       "      <td>8</td>\n",
       "      <td>5</td>\n",
       "      <td>4</td>\n",
       "      <td>167916</td>\n",
       "      <td>14</td>\n",
       "      <td>6</td>\n",
       "      <td>0</td>\n",
       "      <td>[10185, 12120, 5542, 8995, 1263, 7546, 5603, 2...</td>\n",
       "      <td>[0.0, 0.0, 0.0, 0.0, 0.0, 0.0, 0.0, 0.0, 0.0, ...</td>\n",
       "      <td>[0.0, 0.0, 0.0, 0.0, 0.0, 0.0, 0.0, 0.0, 0.0, ...</td>\n",
       "      <td>[0.0, 0.0, 0.0, 0.0, 0.0, 1.0, 0.0, 0.0, 0.0, ...</td>\n",
       "      <td>[0.0, 0.0, 0.0, 0.0, 0.0, 1.0, 0.0, 1.0, 0.0, ...</td>\n",
       "      <td>[1.0, 0.0, 0.0, 0.0, 0.0, 2.0, 0.0, 2.0, 0.0, ...</td>\n",
       "    </tr>\n",
       "    <tr>\n",
       "      <th>162269</th>\n",
       "      <td>8</td>\n",
       "      <td>5</td>\n",
       "      <td>4</td>\n",
       "      <td>162269</td>\n",
       "      <td>9</td>\n",
       "      <td>4</td>\n",
       "      <td>0</td>\n",
       "      <td>[13247, 9783, 15535, 3588, 4693, 12391, 7546, ...</td>\n",
       "      <td>[0.0, 0.0, 0.0, 0.0, 0.0, 0.0, 0.0, 0.0, 0.0, ...</td>\n",
       "      <td>[0.0, 0.0, 0.0, 0.0, 0.0, 0.0, 0.0, 2.0, 0.0, ...</td>\n",
       "      <td>[0.0, 0.0, 0.0, 0.0, 0.0, 0.0, 0.0, 3.0, 0.0, ...</td>\n",
       "      <td>[0.0, 0.0, 0.0, 0.0, 0.0, 0.0, 0.0, 5.0, 1.0, ...</td>\n",
       "      <td>[0.0, 0.0, 0.0, 0.0, 0.0, 0.0, 0.0, 6.0, 1.0, ...</td>\n",
       "    </tr>\n",
       "  </tbody>\n",
       "</table>\n",
       "</div>"
      ],
      "text/plain": [
       "       assay specie  modality     idx author_cell_type niche region  \\\n",
       "167916     8      5         4  167916               14     6      0   \n",
       "162269     8      5         4  162269                9     4      0   \n",
       "\n",
       "                                                        X  \\\n",
       "167916  [10185, 12120, 5542, 8995, 1263, 7546, 5603, 2...   \n",
       "162269  [13247, 9783, 15535, 3588, 4693, 12391, 7546, ...   \n",
       "\n",
       "                                                X_niche_0  \\\n",
       "167916  [0.0, 0.0, 0.0, 0.0, 0.0, 0.0, 0.0, 0.0, 0.0, ...   \n",
       "162269  [0.0, 0.0, 0.0, 0.0, 0.0, 0.0, 0.0, 0.0, 0.0, ...   \n",
       "\n",
       "                                                X_niche_1  \\\n",
       "167916  [0.0, 0.0, 0.0, 0.0, 0.0, 0.0, 0.0, 0.0, 0.0, ...   \n",
       "162269  [0.0, 0.0, 0.0, 0.0, 0.0, 0.0, 0.0, 2.0, 0.0, ...   \n",
       "\n",
       "                                                X_niche_2  \\\n",
       "167916  [0.0, 0.0, 0.0, 0.0, 0.0, 1.0, 0.0, 0.0, 0.0, ...   \n",
       "162269  [0.0, 0.0, 0.0, 0.0, 0.0, 0.0, 0.0, 3.0, 0.0, ...   \n",
       "\n",
       "                                                X_niche_3  \\\n",
       "167916  [0.0, 0.0, 0.0, 0.0, 0.0, 1.0, 0.0, 1.0, 0.0, ...   \n",
       "162269  [0.0, 0.0, 0.0, 0.0, 0.0, 0.0, 0.0, 5.0, 1.0, ...   \n",
       "\n",
       "                                                X_niche_4  \n",
       "167916  [1.0, 0.0, 0.0, 0.0, 0.0, 2.0, 0.0, 2.0, 0.0, ...  \n",
       "162269  [0.0, 0.0, 0.0, 0.0, 0.0, 0.0, 0.0, 6.0, 1.0, ...  "
      ]
     },
     "execution_count": 32,
     "metadata": {},
     "output_type": "execute_result"
    }
   ],
   "source": [
    "obs_tokens.head(2)"
   ]
  },
  {
   "cell_type": "code",
   "execution_count": 33,
   "id": "e79f5b62-300b-4fd3-beb3-aab88a7a0703",
   "metadata": {},
   "outputs": [
    {
     "data": {
      "text/html": [
       "<div>\n",
       "<style scoped>\n",
       "    .dataframe tbody tr th:only-of-type {\n",
       "        vertical-align: middle;\n",
       "    }\n",
       "\n",
       "    .dataframe tbody tr th {\n",
       "        vertical-align: top;\n",
       "    }\n",
       "\n",
       "    .dataframe thead th {\n",
       "        text-align: right;\n",
       "    }\n",
       "</style>\n",
       "<table border=\"1\" class=\"dataframe\">\n",
       "  <thead>\n",
       "    <tr style=\"text-align: right;\">\n",
       "      <th></th>\n",
       "      <th>assay</th>\n",
       "      <th>specie</th>\n",
       "      <th>modality</th>\n",
       "      <th>idx</th>\n",
       "      <th>author_cell_type</th>\n",
       "      <th>niche</th>\n",
       "      <th>region</th>\n",
       "      <th>X</th>\n",
       "      <th>X_niche_0</th>\n",
       "      <th>X_niche_1</th>\n",
       "      <th>X_niche_2</th>\n",
       "      <th>X_niche_3</th>\n",
       "      <th>X_niche_4</th>\n",
       "    </tr>\n",
       "  </thead>\n",
       "  <tbody>\n",
       "    <tr>\n",
       "      <th>4474</th>\n",
       "      <td>8</td>\n",
       "      <td>5</td>\n",
       "      <td>4</td>\n",
       "      <td>4474</td>\n",
       "      <td>3</td>\n",
       "      <td>1</td>\n",
       "      <td>0</td>\n",
       "      <td>[15953, 4197, 12403, 12945, 3401, 6295, 3879, ...</td>\n",
       "      <td>[1.0, 0.0, 0.0, 1.0, 0.0, 0.0, 0.0, 1.0, 0.0, ...</td>\n",
       "      <td>[3.0, 0.0, 0.0, 6.0, 0.0, 2.0, 0.0, 1.0, 0.0, ...</td>\n",
       "      <td>[9.0, 0.0, 0.0, 8.0, 0.0, 3.0, 0.0, 1.0, 0.0, ...</td>\n",
       "      <td>[19.0, 1.0, 0.0, 22.0, 0.0, 5.0, 1.0, 1.0, 0.0...</td>\n",
       "      <td>[27.0, 2.0, 0.0, 26.0, 0.0, 7.0, 3.0, 4.0, 0.0...</td>\n",
       "    </tr>\n",
       "    <tr>\n",
       "      <th>8386</th>\n",
       "      <td>8</td>\n",
       "      <td>5</td>\n",
       "      <td>4</td>\n",
       "      <td>8386</td>\n",
       "      <td>8</td>\n",
       "      <td>3</td>\n",
       "      <td>0</td>\n",
       "      <td>[12152, 15731, 344, 6071, 7428, 12764, 16848, ...</td>\n",
       "      <td>[0.0, 0.0, 0.0, 0.0, 0.0, 0.0, 0.0, 0.0, 1.0, ...</td>\n",
       "      <td>[0.0, 0.0, 0.0, 0.0, 0.0, 0.0, 0.0, 1.0, 3.0, ...</td>\n",
       "      <td>[0.0, 0.0, 1.0, 4.0, 0.0, 0.0, 1.0, 2.0, 4.0, ...</td>\n",
       "      <td>[0.0, 2.0, 1.0, 7.0, 0.0, 2.0, 1.0, 7.0, 5.0, ...</td>\n",
       "      <td>[2.0, 4.0, 1.0, 13.0, 0.0, 3.0, 1.0, 16.0, 8.0...</td>\n",
       "    </tr>\n",
       "  </tbody>\n",
       "</table>\n",
       "</div>"
      ],
      "text/plain": [
       "      assay  specie  modality   idx  author_cell_type  niche  region  \\\n",
       "4474      8       5         4  4474                 3      1       0   \n",
       "8386      8       5         4  8386                 8      3       0   \n",
       "\n",
       "                                                      X  \\\n",
       "4474  [15953, 4197, 12403, 12945, 3401, 6295, 3879, ...   \n",
       "8386  [12152, 15731, 344, 6071, 7428, 12764, 16848, ...   \n",
       "\n",
       "                                              X_niche_0  \\\n",
       "4474  [1.0, 0.0, 0.0, 1.0, 0.0, 0.0, 0.0, 1.0, 0.0, ...   \n",
       "8386  [0.0, 0.0, 0.0, 0.0, 0.0, 0.0, 0.0, 0.0, 1.0, ...   \n",
       "\n",
       "                                              X_niche_1  \\\n",
       "4474  [3.0, 0.0, 0.0, 6.0, 0.0, 2.0, 0.0, 1.0, 0.0, ...   \n",
       "8386  [0.0, 0.0, 0.0, 0.0, 0.0, 0.0, 0.0, 1.0, 3.0, ...   \n",
       "\n",
       "                                              X_niche_2  \\\n",
       "4474  [9.0, 0.0, 0.0, 8.0, 0.0, 3.0, 0.0, 1.0, 0.0, ...   \n",
       "8386  [0.0, 0.0, 1.0, 4.0, 0.0, 0.0, 1.0, 2.0, 4.0, ...   \n",
       "\n",
       "                                              X_niche_3  \\\n",
       "4474  [19.0, 1.0, 0.0, 22.0, 0.0, 5.0, 1.0, 1.0, 0.0...   \n",
       "8386  [0.0, 2.0, 1.0, 7.0, 0.0, 2.0, 1.0, 7.0, 5.0, ...   \n",
       "\n",
       "                                              X_niche_4  \n",
       "4474  [27.0, 2.0, 0.0, 26.0, 0.0, 7.0, 3.0, 4.0, 0.0...  \n",
       "8386  [2.0, 4.0, 1.0, 13.0, 0.0, 3.0, 1.0, 16.0, 8.0...  "
      ]
     },
     "execution_count": 33,
     "metadata": {},
     "output_type": "execute_result"
    }
   ],
   "source": [
    "pd.read_parquet(f'{join(OUT_PATH, SPLIT)}/tokens-0.parquet').head(2)"
   ]
  }
 ],
 "metadata": {
  "kernelspec": {
   "display_name": "nf-data",
   "language": "python",
   "name": "nf-data"
  },
  "language_info": {
   "codemirror_mode": {
    "name": "ipython",
    "version": 3
   },
   "file_extension": ".py",
   "mimetype": "text/x-python",
   "name": "python",
   "nbconvert_exporter": "python",
   "pygments_lexer": "ipython3",
   "version": "3.9.18"
  }
 },
 "nbformat": 4,
 "nbformat_minor": 5
}
