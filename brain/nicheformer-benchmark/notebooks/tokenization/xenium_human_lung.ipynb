{
 "cells": [
  {
   "cell_type": "markdown",
   "id": "4a36f9a3-6956-4f29-8c8c-8b30454894be",
   "metadata": {},
   "source": [
    "# Xenium human lung"
   ]
  },
  {
   "cell_type": "code",
   "execution_count": null,
   "id": "ce77942a-839d-48f1-b66f-682ede5610cd",
   "metadata": {},
   "outputs": [],
   "source": []
  },
  {
   "cell_type": "markdown",
   "id": "7cbe02a7-5fe9-406c-aaf5-98b8d7432fe7",
   "metadata": {},
   "source": [
    "This notebook is used to tokenize the Xenium human lung dataset and generate dataset statistics for figures in nicheformer. "
   ]
  },
  {
   "cell_type": "markdown",
   "id": "402fff9d-b7dd-4740-b6b7-c3cf1c156368",
   "metadata": {},
   "source": [
    "## Imports and definitions"
   ]
  },
  {
   "cell_type": "code",
   "execution_count": 1,
   "id": "9163be33-5092-475c-826c-9c9bb61344a0",
   "metadata": {},
   "outputs": [],
   "source": [
    "import scanpy as sc\n",
    "import squidpy as sq\n",
    "import anndata as ad\n",
    "import pandas as pd\n",
    "import numpy as np\n",
    "import math\n",
    "import numba\n",
    "from scipy.sparse import issparse\n",
    "from sklearn.utils import sparsefuncs\n",
    "\n",
    "import pyarrow.parquet as pq\n",
    "import pyarrow\n",
    "from os.path import join\n",
    "from tqdm import tqdm"
   ]
  },
  {
   "cell_type": "code",
   "execution_count": 2,
   "id": "0aed9d83-e87b-43ee-9321-ecc5341c9178",
   "metadata": {},
   "outputs": [],
   "source": [
    "modality_dict = {\n",
    "    'dissociated': 3,\n",
    "    'spatial': 4,}\n",
    "\n",
    "specie_dict = {\n",
    "    'human': 5,\n",
    "    'Homo sapiens': 5,\n",
    "    'Mus musculus': 6,\n",
    "    'mouse': 6,}\n",
    "\n",
    "technology_dict = {\n",
    "    \"merfish\": 7,\n",
    "    \"MERFISH\": 7,\n",
    "    \"cosmx\": 8,\n",
    "    \"NanoString digital spatial profiling\": 8,\n",
    "    \"Xenium\": 9,\n",
    "    \"10x 5' v2\": 10,\n",
    "    \"10x 3' v3\": 11,\n",
    "    \"10x 3' v2\": 12,\n",
    "    \"10x 5' v1\": 13,\n",
    "    \"10x 3' v1\": 14,\n",
    "    \"10x 3' transcription profiling\": 15, \n",
    "    \"10x transcription profiling\": 15,\n",
    "    \"10x 5' transcription profiling\": 16,\n",
    "    \"CITE-seq\": 17, \n",
    "    \"Smart-seq v4\": 18,\n",
    "}"
   ]
  },
  {
   "cell_type": "markdown",
   "id": "8e6e2c6d-3f41-45e7-922c-108ef61e85fc",
   "metadata": {},
   "source": [
    "## Paths"
   ]
  },
  {
   "cell_type": "code",
   "execution_count": 3,
   "id": "43c2e239-9b35-45b5-a3f8-251616599cc9",
   "metadata": {},
   "outputs": [],
   "source": [
    "BASE_PATH = '/lustre/groups/ml01/projects/2023_nicheformer/data/data_to_tokenize'\n",
    "DATA_PATH = '/lustre/groups/ml01/projects/2023_nicheformer_data_anna.schaar/spatial/preprocessed/human'\n",
    "OUT_PATH = '/lustre/groups/ml01/projects/2023_nicheformer_data_anna.schaar/tokenized/nicheformer_downstream/xenium_lung'\n",
    "GENE_MAPPER_PATH = '/lustre/groups/ml01/projects/2023_nicheformer_data_anna.schaar/concat'"
   ]
  },
  {
   "cell_type": "markdown",
   "id": "32169bf7-dd68-47d1-a559-312715a0ebac",
   "metadata": {},
   "source": [
    "## Tokenization functions"
   ]
  },
  {
   "cell_type": "code",
   "execution_count": 4,
   "id": "16078bd5-f188-4f84-ad8a-4efb1ec1c113",
   "metadata": {},
   "outputs": [],
   "source": [
    "def sf_normalize(X):\n",
    "    X = X.copy()\n",
    "    counts = np.array(X.sum(axis=1))\n",
    "    # avoid zero devision error\n",
    "    counts += counts == 0.\n",
    "    # normalize to 10000. counts\n",
    "    scaling_factor = 10000. / counts\n",
    "\n",
    "    if issparse(X):\n",
    "        sparsefuncs.inplace_row_scale(X, scaling_factor)\n",
    "    else:\n",
    "        np.multiply(X, scaling_factor.reshape((-1, 1)), out=X)\n",
    "\n",
    "    return X\n",
    "\n",
    "@numba.jit(nopython=True, nogil=True)\n",
    "def _sub_tokenize_data(x: np.array, max_seq_len: int = -1, aux_tokens: int = 30):\n",
    "    scores_final = np.empty((x.shape[0], max_seq_len if max_seq_len > 0 else x.shape[1]))\n",
    "    for i, cell in enumerate(x):\n",
    "        nonzero_mask = np.nonzero(cell)[0]    \n",
    "        sorted_indices = nonzero_mask[np.argsort(-cell[nonzero_mask])][:max_seq_len] \n",
    "        sorted_indices = sorted_indices + aux_tokens # we reserve some tokens for padding etc (just in case)\n",
    "        if max_seq_len:\n",
    "            scores = np.zeros(max_seq_len, dtype=np.int32)\n",
    "        else:\n",
    "            scores = np.zeros_like(cell, dtype=np.int32)\n",
    "        scores[:len(sorted_indices)] = sorted_indices.astype(np.int32)\n",
    "        \n",
    "        scores_final[i, :] = scores\n",
    "        \n",
    "    return scores_final\n",
    "\n",
    "\n",
    "def tokenize_data(x: np.array, median_counts_per_gene: np.array, max_seq_len: int = None):\n",
    "    \"\"\"Tokenize the input gene vector to a vector of 32-bit integers.\"\"\"\n",
    "\n",
    "    x = np.nan_to_num(x) # is NaN values, fill with 0s\n",
    "    x = sf_normalize(x)\n",
    "    median_counts_per_gene += median_counts_per_gene == 0\n",
    "    out = x / median_counts_per_gene.reshape((1, -1))\n",
    "\n",
    "    scores_final = _sub_tokenize_data(out, 4096, 30)\n",
    "\n",
    "    return scores_final.astype('i4')"
   ]
  },
  {
   "cell_type": "markdown",
   "id": "1ea82e76-463b-4e0f-98d6-a694cd82f16a",
   "metadata": {},
   "source": [
    "## Loading model with right gene ordering"
   ]
  },
  {
   "cell_type": "code",
   "execution_count": 5,
   "id": "7d955242-a076-4813-959c-5e94a1c750c5",
   "metadata": {},
   "outputs": [],
   "source": [
    "model = sc.read_h5ad(\n",
    "    f\"{BASE_PATH}/model.h5ad\"\n",
    ")"
   ]
  },
  {
   "cell_type": "markdown",
   "id": "118644ba-2046-4b6d-a781-113b4f5e48bb",
   "metadata": {},
   "source": [
    "## Technology mean"
   ]
  },
  {
   "cell_type": "code",
   "execution_count": 6,
   "id": "47d4596c-3b25-44cf-b338-81c8b2d8ec93",
   "metadata": {},
   "outputs": [],
   "source": [
    "xenium_mean = np.load(\n",
    "    f\"{BASE_PATH}/xenium_mean_script.npy\")"
   ]
  },
  {
   "cell_type": "code",
   "execution_count": 7,
   "id": "ef3833d5-0554-406a-9eb4-1f6bf3de1847",
   "metadata": {},
   "outputs": [
    {
     "data": {
      "text/plain": [
       "array([1., 1., 1., ..., 1., 1., 1.])"
      ]
     },
     "execution_count": 7,
     "metadata": {},
     "output_type": "execute_result"
    }
   ],
   "source": [
    "xenium_mean = np.nan_to_num(xenium_mean)\n",
    "rounded_values = np.where((xenium_mean % 1) >= 0.5, np.ceil(xenium_mean), np.floor(xenium_mean))\n",
    "xenium_mean = np.where(xenium_mean == 0, 1, rounded_values)\n",
    "xenium_mean"
   ]
  },
  {
   "cell_type": "markdown",
   "id": "66cc812a-17ea-4231-88b8-d116495aa72d",
   "metadata": {},
   "source": [
    "## Loading Xenium lung data"
   ]
  },
  {
   "cell_type": "code",
   "execution_count": 8,
   "id": "1472668a-4fc3-433b-bebc-588e36218520",
   "metadata": {},
   "outputs": [
    {
     "data": {
      "text/plain": [
       "AnnData object with n_obs × n_vars = 295883 × 392\n",
       "    obs: 'x_centroid', 'y_centroid', 'transcript_counts', 'control_probe_counts', 'control_codeword_counts', 'unassigned_codeword_counts', 'total_counts', 'cell_area', 'nucleus_area', 'x', 'y', 'assay_ontology_term_id', 'sex_ontology_term_id', 'organism_ontology_term_id', 'tissue_ontology_term_id', 'suspension_type', 'donor_id', 'condition_id', 'tissue_type', 'library_key', 'assay', 'organism', 'sex', 'tissue', 'dataset', 'nicheformer_split', 'niche', 'region'\n",
       "    var: 'gene_name', 'feature_types', 'genome', 'feature_is_filtered', 'feature_name', 'feature_reference', 'feature_biotype'\n",
       "    uns: 'nicheformer_version', 'schema_version', 'title'"
      ]
     },
     "execution_count": 8,
     "metadata": {},
     "output_type": "execute_result"
    }
   ],
   "source": [
    "healthy = sc.read_h5ad(f\"{DATA_PATH}/10xgenomics_xenium_lung_non_diseased_add_on.h5ad\")\n",
    "healthy"
   ]
  },
  {
   "cell_type": "code",
   "execution_count": 9,
   "id": "578b2dd0-2094-4648-9e55-1d71ab50572e",
   "metadata": {},
   "outputs": [
    {
     "data": {
      "text/plain": [
       "AnnData object with n_obs × n_vars = 531165 × 392\n",
       "    obs: 'x_centroid', 'y_centroid', 'transcript_counts', 'control_probe_counts', 'control_codeword_counts', 'unassigned_codeword_counts', 'total_counts', 'cell_area', 'nucleus_area', 'x', 'y', 'assay_ontology_term_id', 'sex_ontology_term_id', 'organism_ontology_term_id', 'tissue_ontology_term_id', 'suspension_type', 'donor_id', 'condition_id', 'tissue_type', 'library_key', 'assay', 'organism', 'sex', 'tissue', 'dataset', 'nicheformer_split', 'niche', 'region'\n",
       "    var: 'gene_name', 'feature_types', 'genome', 'feature_is_filtered', 'feature_name', 'feature_reference', 'feature_biotype'\n",
       "    uns: 'nicheformer_version', 'schema_version', 'title'"
      ]
     },
     "execution_count": 9,
     "metadata": {},
     "output_type": "execute_result"
    }
   ],
   "source": [
    "diseased = sc.read_h5ad(f\"{DATA_PATH}/10xgenomics_xenium_lung_cancer_add_on.h5ad\")\n",
    "diseased"
   ]
  },
  {
   "cell_type": "code",
   "execution_count": 10,
   "id": "01759c27-f70b-476a-ae3b-371fdff4252e",
   "metadata": {},
   "outputs": [
    {
     "name": "stderr",
     "output_type": "stream",
     "text": [
      "/tmp/ipykernel_2426527/4150459201.py:1: FutureWarning: Use anndata.concat instead of AnnData.concatenate, AnnData.concatenate is deprecated and will be removed in the future. See the tutorial for concat at: https://anndata.readthedocs.io/en/latest/concatenation.html\n",
      "  xenium = ad.AnnData.concatenate(healthy, diseased)\n"
     ]
    }
   ],
   "source": [
    "xenium = ad.AnnData.concatenate(healthy, diseased)"
   ]
  },
  {
   "cell_type": "code",
   "execution_count": 11,
   "id": "b7221574-e0d1-4cff-82f7-86381ae46b0c",
   "metadata": {},
   "outputs": [
    {
     "data": {
      "text/plain": [
       "AnnData object with n_obs × n_vars = 827048 × 392\n",
       "    obs: 'x_centroid', 'y_centroid', 'transcript_counts', 'control_probe_counts', 'control_codeword_counts', 'unassigned_codeword_counts', 'total_counts', 'cell_area', 'nucleus_area', 'x', 'y', 'assay_ontology_term_id', 'sex_ontology_term_id', 'organism_ontology_term_id', 'tissue_ontology_term_id', 'suspension_type', 'donor_id', 'condition_id', 'tissue_type', 'library_key', 'assay', 'organism', 'sex', 'tissue', 'dataset', 'nicheformer_split', 'niche', 'region', 'batch'\n",
       "    var: 'gene_name', 'feature_types', 'genome', 'feature_is_filtered', 'feature_name', 'feature_reference', 'feature_biotype'"
      ]
     },
     "execution_count": 11,
     "metadata": {},
     "output_type": "execute_result"
    }
   ],
   "source": [
    "xenium"
   ]
  },
  {
   "cell_type": "code",
   "execution_count": 12,
   "id": "481938ed-cb7c-4dfa-924c-c7143fdbe554",
   "metadata": {},
   "outputs": [
    {
     "data": {
      "text/plain": [
       "AnnData object with n_obs × n_vars = 827048 × 392\n",
       "    obs: 'x_centroid', 'y_centroid', 'transcript_counts', 'control_probe_counts', 'control_codeword_counts', 'unassigned_codeword_counts', 'total_counts', 'cell_area', 'nucleus_area', 'x', 'y', 'assay_ontology_term_id', 'sex_ontology_term_id', 'organism_ontology_term_id', 'tissue_ontology_term_id', 'suspension_type', 'donor_id', 'condition_id', 'tissue_type', 'library_key', 'assay', 'organism', 'sex', 'tissue', 'dataset', 'nicheformer_split', 'niche', 'region', 'batch'\n",
       "    var: 'gene_name', 'feature_types', 'genome', 'feature_is_filtered', 'feature_name', 'feature_reference', 'feature_biotype'\n",
       "    uns: 'spatial_neighbors'\n",
       "    obsm: 'spatial'\n",
       "    obsp: 'spatial_connectivities', 'spatial_distances'"
      ]
     },
     "execution_count": 12,
     "metadata": {},
     "output_type": "execute_result"
    }
   ],
   "source": [
    "xenium.obsm['spatial'] = np.array(xenium.obs[['x', 'y']])\n",
    "sq.gr.spatial_neighbors(xenium, radius =25, coord_type = 'generic', library_key='condition_id')\n",
    "xenium"
   ]
  },
  {
   "cell_type": "markdown",
   "id": "57e980ac-af4c-48c1-a153-dac0a53ab526",
   "metadata": {},
   "source": [
    "### Data statistic figures "
   ]
  },
  {
   "cell_type": "code",
   "execution_count": 33,
   "id": "da9dea32-c121-4dce-a655-ee98a0c1f61f",
   "metadata": {},
   "outputs": [],
   "source": [
    "import seaborn as sns"
   ]
  },
  {
   "cell_type": "code",
   "execution_count": 34,
   "id": "ddcb813b-47ff-4a01-8c6f-a03cf12a42a7",
   "metadata": {},
   "outputs": [],
   "source": [
    "# copying the data to ensure original one stays clean\n",
    "adata_figs = adata.copy()"
   ]
  },
  {
   "cell_type": "code",
   "execution_count": 35,
   "id": "8a34e540-3b78-4da5-b490-c8ba1aac3505",
   "metadata": {},
   "outputs": [],
   "source": [
    "adata_figs.layers['counts'] = adata_figs.X"
   ]
  },
  {
   "cell_type": "code",
   "execution_count": 36,
   "id": "b7937fda-7a79-4821-9e98-722d5928dde8",
   "metadata": {},
   "outputs": [
    {
     "name": "stderr",
     "output_type": "stream",
     "text": [
      "/home/icb/anna.schaar/miniconda3/envs/nf-data/lib/python3.9/site-packages/scanpy/preprocessing/_normalization.py:196: UserWarning: Some cells have zero counts\n",
      "  warn(UserWarning('Some cells have zero counts'))\n"
     ]
    }
   ],
   "source": [
    "sc.pp.normalize_total(adata)\n",
    "sc.pp.log1p(adata)"
   ]
  },
  {
   "cell_type": "code",
   "execution_count": 37,
   "id": "a799c558-20e0-4622-a613-cbb5c61ef3de",
   "metadata": {},
   "outputs": [
    {
     "name": "stdout",
     "output_type": "stream",
     "text": [
      "WARNING: You’re trying to run this on 392 dimensions of `.X`, if you really want this, set `use_rep='X'`.\n",
      "         Falling back to preprocessing with `sc.pp.pca` and default params.\n"
     ]
    },
    {
     "name": "stderr",
     "output_type": "stream",
     "text": [
      "/home/icb/anna.schaar/miniconda3/envs/nf-data/lib/python3.9/site-packages/anndata/_core/anndata.py:522: FutureWarning: The dtype argument is deprecated and will be removed in late 2024.\n",
      "  warnings.warn(\n",
      "\n",
      "KeyboardInterrupt\n",
      "\n"
     ]
    }
   ],
   "source": [
    "sc.pp.neighbors(adata)\n",
    "sc.tl.umap(adata)"
   ]
  },
  {
   "cell_type": "code",
   "execution_count": null,
   "id": "6e51da3e-e9e8-45bd-9bf2-5ccb9560d943",
   "metadata": {},
   "outputs": [],
   "source": [
    "sc.settings.set_figure_params(dpi=300, facecolor='white')"
   ]
  },
  {
   "cell_type": "code",
   "execution_count": null,
   "id": "355c82e5-f5bf-484f-86c4-a61f465613e0",
   "metadata": {},
   "outputs": [],
   "source": [
    "sc.pl.umap(adata, color='condition_id')"
   ]
  },
  {
   "cell_type": "markdown",
   "id": "440bdde5-e481-4b38-b022-7800313ec863",
   "metadata": {},
   "source": [
    "## Concatenation\n",
    "Next we concatenate the `model` and the `merfish` object to ensure they are in the same order. This ensures we have the same gene ordering in the object."
   ]
  },
  {
   "cell_type": "code",
   "execution_count": 27,
   "id": "5d8160b0-89cb-43b3-b0f6-e3d311698549",
   "metadata": {},
   "outputs": [],
   "source": [
    "adata = ad.concat([model, xenium], join='inner', axis=0)\n",
    "# dropping the first observation \n",
    "xenium = adata[1:].copy()\n",
    "# for memory efficiency <\n",
    "del adata"
   ]
  },
  {
   "cell_type": "code",
   "execution_count": 28,
   "id": "f2c920c2-a833-4294-b7f3-5d3153fee2b7",
   "metadata": {},
   "outputs": [
    {
     "data": {
      "text/plain": [
       "AnnData object with n_obs × n_vars = 827048 × 20310\n",
       "    obs: 'soma_joinid', 'is_primary_data', 'dataset_id', 'donor_id', 'assay', 'cell_type', 'development_stage', 'disease', 'tissue', 'tissue_general', 'specie', 'technology', 'dataset', 'x', 'y', 'assay_ontology_term_id', 'sex_ontology_term_id', 'organism_ontology_term_id', 'tissue_ontology_term_id', 'suspension_type', 'condition_id', 'tissue_type', 'library_key', 'organism', 'sex', 'niche', 'region', 'nicheformer_split', 'author_cell_type', 'batch'"
      ]
     },
     "execution_count": 28,
     "metadata": {},
     "output_type": "execute_result"
    }
   ],
   "source": [
    "xenium"
   ]
  },
  {
   "cell_type": "code",
   "execution_count": 15,
   "id": "ba6f3fc4-5d9a-42ec-b763-18ab735d7600",
   "metadata": {},
   "outputs": [],
   "source": [
    "xenium.obs = xenium.obs[\n",
    "    ['assay', 'organism', 'nicheformer_split', 'batch']\n",
    "]\n",
    "xenium.obs['modality'] = 'spatial'\n",
    "xenium.obs['specie'] = xenium.obs.organism"
   ]
  },
  {
   "cell_type": "code",
   "execution_count": 16,
   "id": "a89262fa-6702-440b-a053-b7dd455259df",
   "metadata": {},
   "outputs": [],
   "source": [
    "xenium.obs.replace({'specie': specie_dict}, inplace=True)\n",
    "xenium.obs.replace({'modality': modality_dict}, inplace=True)\n",
    "xenium.obs.replace({'assay': technology_dict}, inplace=True)"
   ]
  },
  {
   "cell_type": "code",
   "execution_count": 17,
   "id": "5e38c94a-fe8f-41aa-909e-f7bf2d6d3932",
   "metadata": {},
   "outputs": [
    {
     "data": {
      "text/html": [
       "<div>\n",
       "<style scoped>\n",
       "    .dataframe tbody tr th:only-of-type {\n",
       "        vertical-align: middle;\n",
       "    }\n",
       "\n",
       "    .dataframe tbody tr th {\n",
       "        vertical-align: top;\n",
       "    }\n",
       "\n",
       "    .dataframe thead th {\n",
       "        text-align: right;\n",
       "    }\n",
       "</style>\n",
       "<table border=\"1\" class=\"dataframe\">\n",
       "  <thead>\n",
       "    <tr style=\"text-align: right;\">\n",
       "      <th></th>\n",
       "      <th>assay</th>\n",
       "      <th>organism</th>\n",
       "      <th>nicheformer_split</th>\n",
       "      <th>batch</th>\n",
       "      <th>modality</th>\n",
       "      <th>specie</th>\n",
       "    </tr>\n",
       "  </thead>\n",
       "  <tbody>\n",
       "    <tr>\n",
       "      <th>aaaaaahk-1-0</th>\n",
       "      <td>9</td>\n",
       "      <td>Homo sapiens</td>\n",
       "      <td>train</td>\n",
       "      <td>0</td>\n",
       "      <td>4</td>\n",
       "      <td>5</td>\n",
       "    </tr>\n",
       "    <tr>\n",
       "      <th>aaaacfah-1-0</th>\n",
       "      <td>9</td>\n",
       "      <td>Homo sapiens</td>\n",
       "      <td>train</td>\n",
       "      <td>0</td>\n",
       "      <td>4</td>\n",
       "      <td>5</td>\n",
       "    </tr>\n",
       "    <tr>\n",
       "      <th>aaaafpoc-1-0</th>\n",
       "      <td>9</td>\n",
       "      <td>Homo sapiens</td>\n",
       "      <td>train</td>\n",
       "      <td>0</td>\n",
       "      <td>4</td>\n",
       "      <td>5</td>\n",
       "    </tr>\n",
       "    <tr>\n",
       "      <th>aaaaimpp-1-0</th>\n",
       "      <td>9</td>\n",
       "      <td>Homo sapiens</td>\n",
       "      <td>train</td>\n",
       "      <td>0</td>\n",
       "      <td>4</td>\n",
       "      <td>5</td>\n",
       "    </tr>\n",
       "    <tr>\n",
       "      <th>aaaakahi-1-0</th>\n",
       "      <td>9</td>\n",
       "      <td>Homo sapiens</td>\n",
       "      <td>train</td>\n",
       "      <td>0</td>\n",
       "      <td>4</td>\n",
       "      <td>5</td>\n",
       "    </tr>\n",
       "    <tr>\n",
       "      <th>...</th>\n",
       "      <td>...</td>\n",
       "      <td>...</td>\n",
       "      <td>...</td>\n",
       "      <td>...</td>\n",
       "      <td>...</td>\n",
       "      <td>...</td>\n",
       "    </tr>\n",
       "    <tr>\n",
       "      <th>oilgiagl-1-1</th>\n",
       "      <td>9</td>\n",
       "      <td>Homo sapiens</td>\n",
       "      <td>train</td>\n",
       "      <td>1</td>\n",
       "      <td>4</td>\n",
       "      <td>5</td>\n",
       "    </tr>\n",
       "    <tr>\n",
       "      <th>oilgidkk-1-1</th>\n",
       "      <td>9</td>\n",
       "      <td>Homo sapiens</td>\n",
       "      <td>train</td>\n",
       "      <td>1</td>\n",
       "      <td>4</td>\n",
       "      <td>5</td>\n",
       "    </tr>\n",
       "    <tr>\n",
       "      <th>oilgkofb-1-1</th>\n",
       "      <td>9</td>\n",
       "      <td>Homo sapiens</td>\n",
       "      <td>train</td>\n",
       "      <td>1</td>\n",
       "      <td>4</td>\n",
       "      <td>5</td>\n",
       "    </tr>\n",
       "    <tr>\n",
       "      <th>oilglapp-1-1</th>\n",
       "      <td>9</td>\n",
       "      <td>Homo sapiens</td>\n",
       "      <td>train</td>\n",
       "      <td>1</td>\n",
       "      <td>4</td>\n",
       "      <td>5</td>\n",
       "    </tr>\n",
       "    <tr>\n",
       "      <th>oilhbjia-1-1</th>\n",
       "      <td>9</td>\n",
       "      <td>Homo sapiens</td>\n",
       "      <td>train</td>\n",
       "      <td>1</td>\n",
       "      <td>4</td>\n",
       "      <td>5</td>\n",
       "    </tr>\n",
       "  </tbody>\n",
       "</table>\n",
       "<p>827048 rows × 6 columns</p>\n",
       "</div>"
      ],
      "text/plain": [
       "             assay      organism nicheformer_split batch  modality specie\n",
       "aaaaaahk-1-0     9  Homo sapiens             train     0         4      5\n",
       "aaaacfah-1-0     9  Homo sapiens             train     0         4      5\n",
       "aaaafpoc-1-0     9  Homo sapiens             train     0         4      5\n",
       "aaaaimpp-1-0     9  Homo sapiens             train     0         4      5\n",
       "aaaakahi-1-0     9  Homo sapiens             train     0         4      5\n",
       "...            ...           ...               ...   ...       ...    ...\n",
       "oilgiagl-1-1     9  Homo sapiens             train     1         4      5\n",
       "oilgidkk-1-1     9  Homo sapiens             train     1         4      5\n",
       "oilgkofb-1-1     9  Homo sapiens             train     1         4      5\n",
       "oilglapp-1-1     9  Homo sapiens             train     1         4      5\n",
       "oilhbjia-1-1     9  Homo sapiens             train     1         4      5\n",
       "\n",
       "[827048 rows x 6 columns]"
      ]
     },
     "execution_count": 17,
     "metadata": {},
     "output_type": "execute_result"
    }
   ],
   "source": [
    "xenium.obs"
   ]
  },
  {
   "cell_type": "markdown",
   "id": "4a5d2526-bdd6-46da-b709-d1097644dd3d",
   "metadata": {},
   "source": [
    "## Tokenize data\n",
    "\n",
    "We know tokenize the dataset. "
   ]
  },
  {
   "cell_type": "code",
   "execution_count": 18,
   "id": "280a11c9-b285-4303-8bb7-f6d9ec0c819b",
   "metadata": {},
   "outputs": [
    {
     "data": {
      "text/plain": [
       "AnnData object with n_obs × n_vars = 827048 × 20311\n",
       "    obs: 'assay', 'organism', 'nicheformer_split', 'batch', 'modality', 'specie'\n",
       "    obsm: 'spatial'"
      ]
     },
     "execution_count": 18,
     "metadata": {},
     "output_type": "execute_result"
    }
   ],
   "source": [
    "xenium"
   ]
  },
  {
   "cell_type": "code",
   "execution_count": 19,
   "id": "4a6a9d74-d24e-4a5c-81f3-f8215122f1b8",
   "metadata": {},
   "outputs": [],
   "source": [
    "# dropping the index as the original index can create issues \n",
    "xenium.obs.reset_index(drop=True, inplace=True)\n",
    "# writing the data\n",
    "#xenium.write(f\"{OUT_PATH}/xenium_human_lung_ready_to_tokenize.h5ad\")"
   ]
  },
  {
   "cell_type": "code",
   "execution_count": 20,
   "id": "46fde99a-feb5-4cbe-98cb-eca38ddb9867",
   "metadata": {},
   "outputs": [
    {
     "name": "stdout",
     "output_type": "stream",
     "text": [
      "n_obs:  827048\n",
      "N_BATCHES:  83\n",
      "chunk_len:  9965\n"
     ]
    }
   ],
   "source": [
    "obs_xenium = xenium.obs\n",
    "print('n_obs: ', obs_xenium.shape[0])\n",
    "N_BATCHES = math.ceil(obs_xenium.shape[0] / 10_000)\n",
    "print('N_BATCHES: ', N_BATCHES)\n",
    "batch_indices = np.array_split(obs_xenium.index, N_BATCHES)\n",
    "chunk_len = len(batch_indices[0])\n",
    "print('chunk_len: ', chunk_len)"
   ]
  },
  {
   "cell_type": "code",
   "execution_count": 21,
   "id": "9aea17ae-053f-4b82-b023-ce857c2eee79",
   "metadata": {},
   "outputs": [
    {
     "data": {
      "text/plain": [
       "(20310,)"
      ]
     },
     "execution_count": 21,
     "metadata": {},
     "output_type": "execute_result"
    }
   ],
   "source": [
    "xenium_mean.shape"
   ]
  },
  {
   "cell_type": "code",
   "execution_count": 22,
   "id": "b43389c0-717d-4034-9561-dbb32e106052",
   "metadata": {},
   "outputs": [
    {
     "data": {
      "text/plain": [
       "AnnData object with n_obs × n_vars = 827048 × 20311\n",
       "    obs: 'assay', 'organism', 'nicheformer_split', 'batch', 'modality', 'specie'\n",
       "    obsm: 'spatial'"
      ]
     },
     "execution_count": 22,
     "metadata": {},
     "output_type": "execute_result"
    }
   ],
   "source": [
    "xenium"
   ]
  },
  {
   "cell_type": "code",
   "execution_count": 23,
   "id": "c634d156-e6c8-4879-99ab-978d75d69cd5",
   "metadata": {},
   "outputs": [],
   "source": [
    "obs_xenium = obs_xenium.reset_index().rename(columns={'index':'idx'})\n",
    "obs_xenium['idx'] = obs_xenium['idx'].astype('i8')"
   ]
  },
  {
   "cell_type": "code",
   "execution_count": 37,
   "id": "a74c9a4b-0112-473d-ba47-41b0ca519571",
   "metadata": {},
   "outputs": [
    {
     "name": "stderr",
     "output_type": "stream",
     "text": [
      "100%|███████████████████████████████████████████| 83/83 [03:47<00:00,  2.74s/it]\n"
     ]
    }
   ],
   "source": [
    "for batch in tqdm(range(N_BATCHES)):\n",
    "    obs_tokens = obs_xenium.iloc[batch*chunk_len:chunk_len*(batch+1)].copy()\n",
    "    tokenized = tokenize_data(xenium.X[batch*chunk_len:chunk_len*(batch+1)], xenium_mean, 4096)\n",
    "\n",
    "    obs_tokens = obs_tokens[['assay', 'specie', 'modality', 'idx']]\n",
    "    # concatenate dataframes\n",
    "    \n",
    "    obs_tokens['X'] = [tokenized[i, :] for i in range(tokenized.shape[0])]\n",
    "\n",
    "    # mix spatial and dissociate data\n",
    "    obs_tokens = obs_tokens.sample(frac=1)\n",
    "    \n",
    "    total_table = pyarrow.Table.from_pandas(obs_tokens)\n",
    "    \n",
    "    pq.write_table(total_table, f'{join(OUT_PATH)}/test/tokens-{batch}.parquet',\n",
    "                    row_group_size=1024,)"
   ]
  },
  {
   "cell_type": "code",
   "execution_count": 38,
   "id": "998a6608-8c9b-4763-863f-7acfbed47fbc",
   "metadata": {},
   "outputs": [
    {
     "data": {
      "text/html": [
       "<div>\n",
       "<style scoped>\n",
       "    .dataframe tbody tr th:only-of-type {\n",
       "        vertical-align: middle;\n",
       "    }\n",
       "\n",
       "    .dataframe tbody tr th {\n",
       "        vertical-align: top;\n",
       "    }\n",
       "\n",
       "    .dataframe thead th {\n",
       "        text-align: right;\n",
       "    }\n",
       "</style>\n",
       "<table border=\"1\" class=\"dataframe\">\n",
       "  <thead>\n",
       "    <tr style=\"text-align: right;\">\n",
       "      <th></th>\n",
       "      <th>assay</th>\n",
       "      <th>specie</th>\n",
       "      <th>modality</th>\n",
       "      <th>idx</th>\n",
       "      <th>X</th>\n",
       "    </tr>\n",
       "  </thead>\n",
       "  <tbody>\n",
       "    <tr>\n",
       "      <th>817818</th>\n",
       "      <td>9</td>\n",
       "      <td>5</td>\n",
       "      <td>4</td>\n",
       "      <td>817818</td>\n",
       "      <td>[6520, 15202, 10870, 14160, 2363, 15907, 955, ...</td>\n",
       "    </tr>\n",
       "    <tr>\n",
       "      <th>824343</th>\n",
       "      <td>9</td>\n",
       "      <td>5</td>\n",
       "      <td>4</td>\n",
       "      <td>824343</td>\n",
       "      <td>[10870, 7640, 140, 258, 4837, 3807, 4920, 6724...</td>\n",
       "    </tr>\n",
       "  </tbody>\n",
       "</table>\n",
       "</div>"
      ],
      "text/plain": [
       "       assay specie  modality     idx  \\\n",
       "817818     9      5         4  817818   \n",
       "824343     9      5         4  824343   \n",
       "\n",
       "                                                        X  \n",
       "817818  [6520, 15202, 10870, 14160, 2363, 15907, 955, ...  \n",
       "824343  [10870, 7640, 140, 258, 4837, 3807, 4920, 6724...  "
      ]
     },
     "execution_count": 38,
     "metadata": {},
     "output_type": "execute_result"
    }
   ],
   "source": [
    "# checking for the last object whether everything looks accurate \n",
    "obs_tokens.head(2)"
   ]
  },
  {
   "cell_type": "code",
   "execution_count": 39,
   "id": "8289e4e9-4a50-489b-a6c2-f99f483943d0",
   "metadata": {},
   "outputs": [
    {
     "data": {
      "text/html": [
       "<div>\n",
       "<style scoped>\n",
       "    .dataframe tbody tr th:only-of-type {\n",
       "        vertical-align: middle;\n",
       "    }\n",
       "\n",
       "    .dataframe tbody tr th {\n",
       "        vertical-align: top;\n",
       "    }\n",
       "\n",
       "    .dataframe thead th {\n",
       "        text-align: right;\n",
       "    }\n",
       "</style>\n",
       "<table border=\"1\" class=\"dataframe\">\n",
       "  <thead>\n",
       "    <tr style=\"text-align: right;\">\n",
       "      <th></th>\n",
       "      <th>assay</th>\n",
       "      <th>specie</th>\n",
       "      <th>modality</th>\n",
       "      <th>idx</th>\n",
       "      <th>X</th>\n",
       "    </tr>\n",
       "  </thead>\n",
       "  <tbody>\n",
       "    <tr>\n",
       "      <th>821192</th>\n",
       "      <td>9</td>\n",
       "      <td>5</td>\n",
       "      <td>4</td>\n",
       "      <td>821192</td>\n",
       "      <td>[7427, 706, 16781, 11654, 5076, 8237, 5924, 86...</td>\n",
       "    </tr>\n",
       "    <tr>\n",
       "      <th>817894</th>\n",
       "      <td>9</td>\n",
       "      <td>5</td>\n",
       "      <td>4</td>\n",
       "      <td>817894</td>\n",
       "      <td>[401, 5600, 6684, 3616, 9609, 15080, 8299, 397...</td>\n",
       "    </tr>\n",
       "  </tbody>\n",
       "</table>\n",
       "</div>"
      ],
      "text/plain": [
       "        assay  specie  modality     idx  \\\n",
       "821192      9       5         4  821192   \n",
       "817894      9       5         4  817894   \n",
       "\n",
       "                                                        X  \n",
       "821192  [7427, 706, 16781, 11654, 5076, 8237, 5924, 86...  \n",
       "817894  [401, 5600, 6684, 3616, 9609, 15080, 8299, 397...  "
      ]
     },
     "execution_count": 39,
     "metadata": {},
     "output_type": "execute_result"
    }
   ],
   "source": [
    "pd.read_parquet(f'{join(OUT_PATH)}/tokens-{batch}.parquet').head(2)"
   ]
  },
  {
   "cell_type": "code",
   "execution_count": 33,
   "id": "97f6e0a2-1385-4773-a948-ffb80dfbb597",
   "metadata": {},
   "outputs": [
    {
     "data": {
      "text/plain": [
       "'/lustre/groups/ml01/projects/2023_nicheformer_data_anna.schaar/tokenized/nicheformer_downstream/xenium_lung'"
      ]
     },
     "execution_count": 33,
     "metadata": {},
     "output_type": "execute_result"
    }
   ],
   "source": [
    "OUT_PATH"
   ]
  }
 ],
 "metadata": {
  "kernelspec": {
   "display_name": "nf-data",
   "language": "python",
   "name": "nf-data"
  },
  "language_info": {
   "codemirror_mode": {
    "name": "ipython",
    "version": 3
   },
   "file_extension": ".py",
   "mimetype": "text/x-python",
   "name": "python",
   "nbconvert_exporter": "python",
   "pygments_lexer": "ipython3",
   "version": "3.9.18"
  }
 },
 "nbformat": 4,
 "nbformat_minor": 5
}
