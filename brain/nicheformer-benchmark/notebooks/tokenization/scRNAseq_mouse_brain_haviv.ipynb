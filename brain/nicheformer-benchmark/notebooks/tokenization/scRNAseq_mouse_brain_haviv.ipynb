{
 "cells": [
  {
   "cell_type": "markdown",
   "id": "4a36f9a3-6956-4f29-8c8c-8b30454894be",
   "metadata": {},
   "source": [
    "# scRNAseq mouse primary motorcortex dataset"
   ]
  },
  {
   "cell_type": "markdown",
   "id": "7cbe02a7-5fe9-406c-aaf5-98b8d7432fe7",
   "metadata": {},
   "source": [
    "This notebook is used to tokenize the scRNAseq primary motorcortex dataset and generate dataset statistics for figures in nicheformer. "
   ]
  },
  {
   "cell_type": "markdown",
   "id": "402fff9d-b7dd-4740-b6b7-c3cf1c156368",
   "metadata": {},
   "source": [
    "## Imports and definitions"
   ]
  },
  {
   "cell_type": "code",
   "execution_count": 1,
   "id": "9163be33-5092-475c-826c-9c9bb61344a0",
   "metadata": {},
   "outputs": [],
   "source": [
    "import scanpy as sc\n",
    "import anndata as ad\n",
    "import pandas as pd\n",
    "import numpy as np\n",
    "import math\n",
    "import numba\n",
    "from scipy.sparse import issparse\n",
    "from sklearn.utils import sparsefuncs\n",
    "from pyensembl import EnsemblRelease\n",
    "\n",
    "import pyarrow.parquet as pq\n",
    "import pyarrow\n",
    "from os.path import join\n",
    "from tqdm import tqdm"
   ]
  },
  {
   "cell_type": "code",
   "execution_count": 2,
   "id": "0aed9d83-e87b-43ee-9321-ecc5341c9178",
   "metadata": {},
   "outputs": [],
   "source": [
    "modality_dict = {\n",
    "    'dissociated': 3,\n",
    "    'spatial': 4,}\n",
    "\n",
    "specie_dict = {\n",
    "    'human': 5,\n",
    "    'Homo sapiens': 5,\n",
    "    'Mus musculus': 6,\n",
    "    'mouse': 6,}\n",
    "\n",
    "technology_dict = {\n",
    "    \"merfish\": 7,\n",
    "    \"MERFISH\": 7,\n",
    "    \"cosmx\": 8,\n",
    "    \"visium\": 9,\n",
    "    \"10x 5' v2\": 10,\n",
    "    \"10x 3' v3\": 11,\n",
    "    \"10x 3' v2\": 12,\n",
    "    \"10x 5' v1\": 13,\n",
    "    \"10x 3' v1\": 14,\n",
    "    \"10x 3' transcription profiling\": 15, \n",
    "    \"10x transcription profiling\": 15,\n",
    "    \"10x 5' transcription profiling\": 16,\n",
    "    \"CITE-seq\": 17, \n",
    "    \"Smart-seq v4\": 18,\n",
    "}\n",
    "\n",
    "author_cell_type_dict = {\n",
    "    'Astro-Epen': 0, \n",
    "    'CB GABA': 1, \n",
    "    'CB Glut': 2, \n",
    "    'CGE GABA': 3, \n",
    "    'CNU GABA': 4,\n",
    "    'CNU-HYa GABA': 5, \n",
    "    'CNU-HYa Glut': 6, \n",
    "    'HY GABA': 7, \n",
    "    'HY Glut': 8,\n",
    "    'HY Gnrh1 Glut': 9, \n",
    "    'HY MM Glut': 10,\n",
    "    'IT-ET Glut': 11, \n",
    "    'Immune': 12, \n",
    "    'LQ': 13,\n",
    "    'LSX GABA': 14, \n",
    "    'MB Dopa': 15, \n",
    "    'MB GABA': 16, \n",
    "    'MB Glut': 17, \n",
    "    'MB-HB Sero': 18,\n",
    "    'MGE GABA': 19, \n",
    "    'MH-LH Glut': 20, \n",
    "    'MOB-CR Glut': 21, \n",
    "    'MOB-DG-IMN': 22, \n",
    "    'MY GABA': 23,\n",
    "    'MY Glut': 24, \n",
    "    'NP-CT-L6b Glut': 25, \n",
    "    'OEG': 26, \n",
    "    'Oligo': 27, \n",
    "    'P GABA': 28, \n",
    "    'P Glut': 29,\n",
    "    'Pineal Glut': 30, \n",
    "    'TH Glut': 31, \n",
    "    'Vascular': 32\n",
    "}\n",
    "\n",
    "niche_label_dict = {\n",
    "    'CBX-MOB-other neuronal': 0, \n",
    "    'Immune': 1, \n",
    "    'LQ': 2, \n",
    "    'Neuroglial': 3,\n",
    "    'PAL-sAMY-TH-HY-MB-HB neuronal': 4, \n",
    "    'Pallium glutamatergic': 5,\n",
    "    'Subpallium GABAergic': 6, \n",
    "    'Vascular': 7\n",
    "}\n",
    "\n",
    "region_label_dict = {\n",
    "    'CB': 0, \n",
    "    'CTXsp': 1, \n",
    "    'HB': 2, \n",
    "    'HIP': 3, \n",
    "    'HY': 4, \n",
    "    'Isocortex': 5, \n",
    "    'LSX': 6, \n",
    "    'MB': 7, \n",
    "    'OLF': 8,\n",
    "    'PAL': 9, \n",
    "    'RHP': 10, \n",
    "    'STRd': 11, \n",
    "    'STRv': 12, \n",
    "    'TH': 13, \n",
    "    'sAMY': 14, \n",
    "    'ventricle': 15,\n",
    "    'white_matter': 16\n",
    "}"
   ]
  },
  {
   "cell_type": "markdown",
   "id": "8e6e2c6d-3f41-45e7-922c-108ef61e85fc",
   "metadata": {},
   "source": [
    "## Paths"
   ]
  },
  {
   "cell_type": "code",
   "execution_count": 2,
   "id": "43c2e239-9b35-45b5-a3f8-251616599cc9",
   "metadata": {},
   "outputs": [],
   "source": [
    "BASE_PATH = '../../data/model_means'\n",
    "DATA_PATH = '' # specify path to raw nicheformer-data object for the cosmy human lung data\n",
    "OUT_PATH = '' # specify saving  path"
   ]
  },
  {
   "cell_type": "markdown",
   "id": "32169bf7-dd68-47d1-a559-312715a0ebac",
   "metadata": {},
   "source": [
    "## Tokenization functions"
   ]
  },
  {
   "cell_type": "code",
   "execution_count": 4,
   "id": "16078bd5-f188-4f84-ad8a-4efb1ec1c113",
   "metadata": {},
   "outputs": [],
   "source": [
    "def sf_normalize(X):\n",
    "    X = X.copy()\n",
    "    counts = np.array(X.sum(axis=1))\n",
    "    # avoid zero devision error\n",
    "    counts += counts == 0.\n",
    "    # normalize to 10000. counts\n",
    "    scaling_factor = 10000. / counts\n",
    "\n",
    "    if issparse(X):\n",
    "        sparsefuncs.inplace_row_scale(X, scaling_factor)\n",
    "    else:\n",
    "        np.multiply(X, scaling_factor.reshape((-1, 1)), out=X)\n",
    "\n",
    "    return X\n",
    "\n",
    "@numba.jit(nopython=True, nogil=True)\n",
    "def _sub_tokenize_data(x: np.array, max_seq_len: int = -1, aux_tokens: int = 30):\n",
    "    scores_final = np.empty((x.shape[0], max_seq_len if max_seq_len > 0 else x.shape[1]))\n",
    "    for i, cell in enumerate(x):\n",
    "        nonzero_mask = np.nonzero(cell)[0]    \n",
    "        sorted_indices = nonzero_mask[np.argsort(-cell[nonzero_mask])][:max_seq_len] \n",
    "        sorted_indices = sorted_indices + aux_tokens # we reserve some tokens for padding etc (just in case)\n",
    "        if max_seq_len:\n",
    "            scores = np.zeros(max_seq_len, dtype=np.int32)\n",
    "        else:\n",
    "            scores = np.zeros_like(cell, dtype=np.int32)\n",
    "        scores[:len(sorted_indices)] = sorted_indices.astype(np.int32)\n",
    "        \n",
    "        scores_final[i, :] = scores\n",
    "        \n",
    "    return scores_final\n",
    "\n",
    "\n",
    "def tokenize_data(x: np.array, median_counts_per_gene: np.array, max_seq_len: int = None):\n",
    "    \"\"\"Tokenize the input gene vector to a vector of 32-bit integers.\"\"\"\n",
    "\n",
    "    x = np.nan_to_num(x) # is NaN values, fill with 0s\n",
    "    x = sf_normalize(x)\n",
    "    median_counts_per_gene += median_counts_per_gene == 0\n",
    "    out = x / median_counts_per_gene.reshape((1, -1))\n",
    "\n",
    "    scores_final = _sub_tokenize_data(out, 4096, 30)\n",
    "\n",
    "    return scores_final.astype('i4')"
   ]
  },
  {
   "cell_type": "markdown",
   "id": "59e6d6ac-b48e-4ca1-9bca-35e07404cc52",
   "metadata": {},
   "source": [
    "# scRNAseq data"
   ]
  },
  {
   "cell_type": "code",
   "execution_count": 3,
   "id": "1acb2aef-291b-422e-a68a-205a155eb359",
   "metadata": {},
   "outputs": [],
   "source": [
    "dissociated = sc.read_h5ad(f\"{DATA_PATH}/mouse_brain_haviv.h5ad\")"
   ]
  },
  {
   "cell_type": "code",
   "execution_count": 5,
   "id": "7adaa094-10fd-452c-aa68-348332ac4a16",
   "metadata": {},
   "outputs": [],
   "source": [
    "abundances = pd.DataFrame(pd.value_counts(dissociated.obs.original_author_cell_type)).reset_index().sort_values(by='index')"
   ]
  },
  {
   "cell_type": "code",
   "execution_count": 7,
   "id": "bfc409d1-3605-43fd-a412-223a049d2c21",
   "metadata": {},
   "outputs": [],
   "source": [
    "order_logic = {\n",
    "    # Astro\n",
    "    'Astro':'A', \n",
    "    # oligo\n",
    "    \"Oligo\": 'B0', \"OPC\": 'B1',\n",
    "     \"Endo\": 'C0', \"VLMC\": 'C1',\n",
    "     'Microglia': 'D',\n",
    "    # CGE neurons\n",
    "   \n",
    "    # IT-ET Glut\n",
    "     'L23_IT': 'E0', 'L5_ET': 'E1', 'L5_IT': 'E2', 'L6_IT': 'E3', 'L6_IT_Car3': 'E4', \n",
    "    # Immune\n",
    "    \n",
    "    # MB Glut\t\n",
    "    \"L56_NP\": 'F2', \"L6_CT\": 'F1', \"L6b\": 'F0',\n",
    "      \n",
    "    # MGE \n",
    "    \"Pvalb\": 'G0', \"Sst\": 'G1',\n",
    "    #Oligo\n",
    "    'Lamp5':'H1', 'Sncg':'H0', 'Vip': 'H2', \n",
    "   \n",
    "}\n",
    "abundances['sort'] = [order_logic[x] for x in list(abundances['index'])]\n",
    "abundances = abundances.sort_values(by='sort')"
   ]
  },
  {
   "cell_type": "code",
   "execution_count": 17,
   "id": "ac067703-5e94-46ce-b919-81d88f97b5aa",
   "metadata": {},
   "outputs": [
    {
     "data": {
      "image/png": "[encoded data removed]",
      "text/plain": [
       "<Figure size 300x800 with 1 Axes>"
      ]
     },
     "metadata": {},
     "output_type": "display_data"
    }
   ],
   "source": [
    "import seaborn as sns\n",
    "import matplotlib.pyplot as plt\n",
    "fig, ax = plt.subplots(1,1, figsize=(3,8))\n",
    "sns.barplot(\n",
    "    y=list(abundances['sort']), x=list(abundances['original_author_cell_type']), \n",
    "    ax=ax,\n",
    "    palette=[\n",
    "        '#1F77B4', '#C5B0D5', '#FF9896', \n",
    "        '#FF7F0E', '#9EDAE5', '#98DF8A', \n",
    "        '#17BECF', '#279E68', '#D62728', \n",
    "        \n",
    "        '#8C564B', '#E377C2',\n",
    "        '#B5BD61', '#AA40FC', '#AEC7E8', '#C49C94', '#DBDB8D', '#F7B6D2', '#FFBB78', '#AD494A'\n",
    "    ],\n",
    "    #order=abundances['sort']\n",
    ")\n",
    "ax.grid(False)"
   ]
  },
  {
   "cell_type": "markdown",
   "id": "1ea82e76-463b-4e0f-98d6-a694cd82f16a",
   "metadata": {},
   "source": [
    "## Loading model with right gene ordering"
   ]
  },
  {
   "cell_type": "code",
   "execution_count": 8,
   "id": "7d955242-a076-4813-959c-5e94a1c750c5",
   "metadata": {},
   "outputs": [],
   "source": [
    "model = sc.read_h5ad(\n",
    "    f\"{BASE_PATH}/model.h5ad\"\n",
    ")"
   ]
  },
  {
   "cell_type": "markdown",
   "id": "a8b2b986-a421-49c5-b401-0ee1799ae30c",
   "metadata": {},
   "source": [
    "## Concatenation\n",
    "Next we concatenate the `model` and the `dissociated` object to ensure they are in the same order. This ensures we have the same gene ordering in the object."
   ]
  },
  {
   "cell_type": "code",
   "execution_count": 25,
   "id": "61082b14-90d7-43b0-b692-85ad0ddd17bb",
   "metadata": {},
   "outputs": [],
   "source": [
    "adata = ad.concat([model, dissociated], join='outer', axis=0)\n",
    "# dropping the first observation \n",
    "adata_output = adata[1:].copy()\n",
    "# for memory efficiency \n",
    "del adata"
   ]
  },
  {
   "cell_type": "code",
   "execution_count": 27,
   "id": "148e74ba-e274-4e0f-9056-0a3e10c8e8e0",
   "metadata": {},
   "outputs": [],
   "source": [
    "adata_output = adata_output[:, model.var.index]"
   ]
  },
  {
   "cell_type": "code",
   "execution_count": 16,
   "id": "b7c2e3fd-6225-48e3-b3d4-3f2473d540bc",
   "metadata": {},
   "outputs": [
    {
     "name": "stdout",
     "output_type": "stream",
     "text": [
      "483\n"
     ]
    }
   ],
   "source": [
    "kept = []\n",
    "\n",
    "for i in range(len(adata_output.var.index)):\n",
    "    if adata_output.var.index[i] in dissociated.var.index:\n",
    "        kept.append(i)\n",
    "\n",
    "print(len(kept))"
   ]
  },
  {
   "cell_type": "code",
   "execution_count": 17,
   "id": "a7002ef6-78d7-4f97-aaf5-13861c9bf1dc",
   "metadata": {},
   "outputs": [],
   "source": [
    "common_genes = adata_output.var.iloc[kept].index"
   ]
  },
  {
   "cell_type": "code",
   "execution_count": 40,
   "id": "b58ed357-e51a-4bb9-aab4-fd42a8b2d4d7",
   "metadata": {},
   "outputs": [
    {
     "name": "stderr",
     "output_type": "stream",
     "text": [
      "/home/icb/anna.schaar/miniconda3/envs/nf-data/lib/python3.9/site-packages/anndata/_core/anndata.py:183: ImplicitModificationWarning: Transforming to str index.\n",
      "  warnings.warn(\"Transforming to str index.\", ImplicitModificationWarning)\n"
     ]
    }
   ],
   "source": [
    "adata_output.obs = adata_output.obs[\n",
    "    ['assay', 'organism', 'nicheformer_split']\n",
    "]\n",
    "adata_output.obs['modality'] = 'dissociated'\n",
    "adata_output.obs['nicheformer_split'] = 'train'\n",
    "adata_output.obs['specie'] = adata_output.obs.organism"
   ]
  },
  {
   "cell_type": "code",
   "execution_count": 11,
   "id": "97835ae5-d464-4666-aa52-b31c630f65a1",
   "metadata": {},
   "outputs": [],
   "source": [
    "del adata_output.layers"
   ]
  },
  {
   "cell_type": "code",
   "execution_count": 12,
   "id": "6c0981b9-9d51-4570-bb86-590c8458961d",
   "metadata": {},
   "outputs": [],
   "source": [
    "adata_output.obs.replace({'specie': specie_dict}, inplace=True)\n",
    "adata_output.obs.replace({'modality': modality_dict}, inplace=True)\n",
    "adata_output.obs.replace({'assay': technology_dict}, inplace=True)"
   ]
  },
  {
   "cell_type": "markdown",
   "id": "118644ba-2046-4b6d-a781-113b4f5e48bb",
   "metadata": {},
   "source": [
    "## Technology mean"
   ]
  },
  {
   "cell_type": "code",
   "execution_count": 16,
   "id": "eb8d730e-a3e3-4b19-b249-f5a06cad13e4",
   "metadata": {},
   "outputs": [],
   "source": [
    "dissociated_mean = np.load(\n",
    "    f\"{BASE_PATH}/dissociated_mean_script.npy\"\n",
    ")"
   ]
  },
  {
   "cell_type": "code",
   "execution_count": 17,
   "id": "57f81aa5-4249-409c-9957-092f8a393648",
   "metadata": {},
   "outputs": [
    {
     "data": {
      "text/plain": [
       "array([ 3.,  2.,  2., ...,  6., 12.,  3.])"
      ]
     },
     "execution_count": 17,
     "metadata": {},
     "output_type": "execute_result"
    }
   ],
   "source": [
    "dissociated_mean = np.nan_to_num(dissociated_mean)\n",
    "rounded_values = np.where((dissociated_mean % 1) >= 0.5, np.ceil(dissociated_mean), np.floor(dissociated_mean))\n",
    "dissociated_mean = np.where(rounded_values == 0, 1, rounded_values)\n",
    "dissociated_mean"
   ]
  },
  {
   "cell_type": "code",
   "execution_count": 24,
   "id": "8d8fddea-6046-4b7b-90a3-ff34a5bb3201",
   "metadata": {},
   "outputs": [],
   "source": [
    "dissociated_mean = dissociated_mean[kept]"
   ]
  },
  {
   "cell_type": "code",
   "execution_count": 30,
   "id": "fafa4538-72d2-48f1-8214-49c423820375",
   "metadata": {},
   "outputs": [],
   "source": [
    "adata_output = adata_output[:, common_genes]"
   ]
  },
  {
   "cell_type": "markdown",
   "id": "4a5d2526-bdd6-46da-b709-d1097644dd3d",
   "metadata": {},
   "source": [
    "## Tokenize dissociated data\n",
    "\n",
    "We know tokenize the train partition of the dataset. "
   ]
  },
  {
   "cell_type": "code",
   "execution_count": 48,
   "id": "4a6a9d74-d24e-4a5c-81f3-f8215122f1b8",
   "metadata": {},
   "outputs": [],
   "source": [
    "# dropping the index as the original index can create issues \n",
    "adata_output.obs.reset_index(drop=True, inplace=True)\n",
    "# writing the data\n",
    "adata_output.write(f\"{OUT_PATH}/dissociated_mouse_brain_haviv_ready_to_tokenize.h5ad\")"
   ]
  },
  {
   "cell_type": "code",
   "execution_count": 49,
   "id": "46fde99a-feb5-4cbe-98cb-eca38ddb9867",
   "metadata": {},
   "outputs": [
    {
     "name": "stdout",
     "output_type": "stream",
     "text": [
      "n_obs:  7416\n",
      "N_BATCHES:  1\n",
      "chunk_len:  7416\n"
     ]
    }
   ],
   "source": [
    "obs_data = adata_output.obs\n",
    "print('n_obs: ', obs_data.shape[0])\n",
    "N_BATCHES = math.ceil(obs_data.shape[0] / 10_000)\n",
    "print('N_BATCHES: ', N_BATCHES)\n",
    "batch_indices = np.array_split(obs_data.index, N_BATCHES)\n",
    "chunk_len = len(batch_indices[0])\n",
    "print('chunk_len: ', chunk_len)"
   ]
  },
  {
   "cell_type": "code",
   "execution_count": 50,
   "id": "c634d156-e6c8-4879-99ab-978d75d69cd5",
   "metadata": {},
   "outputs": [],
   "source": [
    "obs_data = obs_data.reset_index().rename(columns={'index':'idx'})\n",
    "obs_data['idx'] = obs_data['idx'].astype('i8')"
   ]
  },
  {
   "cell_type": "code",
   "execution_count": 52,
   "id": "a74c9a4b-0112-473d-ba47-41b0ca519571",
   "metadata": {},
   "outputs": [
    {
     "name": "stderr",
     "output_type": "stream",
     "text": [
      "100%|█████████████████████████████████████████████| 1/1 [00:06<00:00,  6.57s/it]\n"
     ]
    }
   ],
   "source": [
    "for batch in tqdm(range(N_BATCHES)):\n",
    "    obs_tokens = obs_data.iloc[batch*chunk_len:chunk_len*(batch+1)].copy()\n",
    "    tokenized = tokenize_data(adata_output.X[batch*chunk_len:chunk_len*(batch+1)], dissociated_mean, 4096)\n",
    "\n",
    "    obs_tokens = obs_tokens[['assay', 'specie', 'modality', 'idx']]\n",
    "    # concatenate dataframes\n",
    "    \n",
    "    obs_tokens['X'] = [tokenized[i, :] for i in range(tokenized.shape[0])]\n",
    "\n",
    "    # mix spatial and dissociate data\n",
    "    obs_tokens = obs_tokens.sample(frac=1)\n",
    "    \n",
    "    total_table = pyarrow.Table.from_pandas(obs_tokens)\n",
    "    \n",
    "    pq.write_table(total_table, f'{OUT_PATH}/tokens-{batch}.parquet',\n",
    "                    row_group_size=1024,)"
   ]
  },
  {
   "cell_type": "code",
   "execution_count": 53,
   "id": "998a6608-8c9b-4763-863f-7acfbed47fbc",
   "metadata": {},
   "outputs": [
    {
     "data": {
      "text/html": [
       "<div>\n",
       "<style scoped>\n",
       "    .dataframe tbody tr th:only-of-type {\n",
       "        vertical-align: middle;\n",
       "    }\n",
       "\n",
       "    .dataframe tbody tr th {\n",
       "        vertical-align: top;\n",
       "    }\n",
       "\n",
       "    .dataframe thead th {\n",
       "        text-align: right;\n",
       "    }\n",
       "</style>\n",
       "<table border=\"1\" class=\"dataframe\">\n",
       "  <thead>\n",
       "    <tr style=\"text-align: right;\">\n",
       "      <th></th>\n",
       "      <th>assay</th>\n",
       "      <th>specie</th>\n",
       "      <th>modality</th>\n",
       "      <th>idx</th>\n",
       "      <th>X</th>\n",
       "    </tr>\n",
       "  </thead>\n",
       "  <tbody>\n",
       "    <tr>\n",
       "      <th>7320</th>\n",
       "      <td>10x transcription profiling</td>\n",
       "      <td>Mus musculus</td>\n",
       "      <td>dissociated</td>\n",
       "      <td>7320</td>\n",
       "      <td>[10621, 20301, 9621, 1338, 20198, 17010, 1041,...</td>\n",
       "    </tr>\n",
       "    <tr>\n",
       "      <th>2564</th>\n",
       "      <td>10x transcription profiling</td>\n",
       "      <td>Mus musculus</td>\n",
       "      <td>dissociated</td>\n",
       "      <td>2564</td>\n",
       "      <td>[20301, 10621, 20198, 9621, 9218, 1041, 9673, ...</td>\n",
       "    </tr>\n",
       "  </tbody>\n",
       "</table>\n",
       "</div>"
      ],
      "text/plain": [
       "                            assay        specie     modality   idx  \\\n",
       "7320  10x transcription profiling  Mus musculus  dissociated  7320   \n",
       "2564  10x transcription profiling  Mus musculus  dissociated  2564   \n",
       "\n",
       "                                                      X  \n",
       "7320  [10621, 20301, 9621, 1338, 20198, 17010, 1041,...  \n",
       "2564  [20301, 10621, 20198, 9621, 9218, 1041, 9673, ...  "
      ]
     },
     "execution_count": 53,
     "metadata": {},
     "output_type": "execute_result"
    }
   ],
   "source": [
    "# checking for the last object whether everything looks accurate \n",
    "obs_tokens.head(2)"
   ]
  },
  {
   "cell_type": "code",
   "execution_count": 54,
   "id": "6889f849-2a97-4de5-8f54-500a451dee10",
   "metadata": {},
   "outputs": [
    {
     "data": {
      "text/html": [
       "<div>\n",
       "<style scoped>\n",
       "    .dataframe tbody tr th:only-of-type {\n",
       "        vertical-align: middle;\n",
       "    }\n",
       "\n",
       "    .dataframe tbody tr th {\n",
       "        vertical-align: top;\n",
       "    }\n",
       "\n",
       "    .dataframe thead th {\n",
       "        text-align: right;\n",
       "    }\n",
       "</style>\n",
       "<table border=\"1\" class=\"dataframe\">\n",
       "  <thead>\n",
       "    <tr style=\"text-align: right;\">\n",
       "      <th></th>\n",
       "      <th>assay</th>\n",
       "      <th>specie</th>\n",
       "      <th>modality</th>\n",
       "      <th>idx</th>\n",
       "      <th>X</th>\n",
       "    </tr>\n",
       "  </thead>\n",
       "  <tbody>\n",
       "    <tr>\n",
       "      <th>7320</th>\n",
       "      <td>10x transcription profiling</td>\n",
       "      <td>Mus musculus</td>\n",
       "      <td>dissociated</td>\n",
       "      <td>7320</td>\n",
       "      <td>[10621, 20301, 9621, 1338, 20198, 17010, 1041,...</td>\n",
       "    </tr>\n",
       "    <tr>\n",
       "      <th>2564</th>\n",
       "      <td>10x transcription profiling</td>\n",
       "      <td>Mus musculus</td>\n",
       "      <td>dissociated</td>\n",
       "      <td>2564</td>\n",
       "      <td>[20301, 10621, 20198, 9621, 9218, 1041, 9673, ...</td>\n",
       "    </tr>\n",
       "  </tbody>\n",
       "</table>\n",
       "</div>"
      ],
      "text/plain": [
       "                            assay        specie     modality   idx  \\\n",
       "7320  10x transcription profiling  Mus musculus  dissociated  7320   \n",
       "2564  10x transcription profiling  Mus musculus  dissociated  2564   \n",
       "\n",
       "                                                      X  \n",
       "7320  [10621, 20301, 9621, 1338, 20198, 17010, 1041,...  \n",
       "2564  [20301, 10621, 20198, 9621, 9218, 1041, 9673, ...  "
      ]
     },
     "execution_count": 54,
     "metadata": {},
     "output_type": "execute_result"
    }
   ],
   "source": [
    "pd.read_parquet( f'{OUT_PATH}/tokens-{batch}.parquet').head(2)"
   ]
  }
 ],
 "metadata": {
  "kernelspec": {
   "display_name": "nf-data",
   "language": "python",
   "name": "nf-data"
  },
  "language_info": {
   "codemirror_mode": {
    "name": "ipython",
    "version": 3
   },
   "file_extension": ".py",
   "mimetype": "text/x-python",
   "name": "python",
   "nbconvert_exporter": "python",
   "pygments_lexer": "ipython3",
   "version": "3.9.18"
  }
 },
 "nbformat": 4,
 "nbformat_minor": 5
}
